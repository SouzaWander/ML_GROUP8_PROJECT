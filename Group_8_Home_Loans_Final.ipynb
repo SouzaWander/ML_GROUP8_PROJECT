{
 "cells": [
  {
   "cell_type": "markdown",
   "id": "e795f2c2",
   "metadata": {},
   "source": [
    "# Machine Learning Group Project - Home Credit (Group 08)\n",
    ".\n",
    "<center>Nova SBE, 2022</center>\n",
    "<center>Professor Qiwei Han</center>\n",
    ".\n",
    "<center>Authors:</center>\n",
    "<center>Felipe Botelho, 48740</center>\n",
    "<center>Pedro Santos, 51323</center>\n",
    "<center>Mª Carlota Santos, 48982</center>\n",
    "<center>Wander Souza, 49734</center>\n",
    "<center>Marcos Roche, 50455</center>"
   ]
  },
  {
   "cell_type": "markdown",
   "id": "6b46dccf",
   "metadata": {},
   "source": [
    "## Business Problem\n",
    "As we all know, a home is the largest investment most people will ever make, and a mortgage is the best solution for those who cannot afford it or for tax-smart individuals who recognize the tax benefits they can use to invest their money wisely. \n",
    "\n",
    "After comprehending the significance of home loans, we must also recognize that they pose a significant risk to banks and economies. Let us recall that the 2008 financial crisis, also known as the Global Financial Crisis (GFC), was a severe global economic crisis that struck in the early twenty-first century. It was the worst economic downturn since the Great Depression (1929). This was caused because in 2006, for the first time in decades, housing prices began to fall. Realtors cheered at first. They believed that the overheated real estate market would cool down to a level that was more sustainable. They failed to account for a number of factors, including the fact that a large number of homeowners with bad credit were approved for mortgage loans, some of which were for 100% or more of the home's value. As we can see, a proper risk assessment for mortgage approval is critical for a bank and our economies. \n",
    "\n",
    "Through this notebook we hope to provide an optimal risk predictive solution to a major challenge that banks face in approving home loans to the right clients. We're attempting to create a model that optimizes a bank's loan approval process in order to provide a positive client experience while not overlooking the importance of proper risk assessment. "
   ]
  },
  {
   "cell_type": "markdown",
   "id": "870713b7",
   "metadata": {},
   "source": [
    "## Do we need Machine Learning? \n",
    "\n",
    "\n",
    "A series of complex rules must be evaluated in order to assess the risk of a specific home loan. If banks analyze each loan application manually, they will not only waste a lot of time, but they will also have a much higher chance of failing in their estimation. This is where machine learning comes in. They can use the available database and data science skills to automate this task by creating a machine-learning model that predicts the risk of each loan application. \n",
    "\n",
    "But first, we wanted to avoid using machine learning in order to save company resources by implementing simple solutions and evaluating whether they were adequate. "
   ]
  },
  {
   "cell_type": "markdown",
   "id": "8d86b283",
   "metadata": {},
   "source": [
    "### Can we formulate our problem? \n",
    "\n",
    "We want to be able to predict the risk of assigning a home loan to our potential clients based on their age, years employed, ratings, balance, and other factors. The risk associated with home loans stems from the fact that we have no way of knowing whether or not the borrower will be able to make the payments. As a result, the loan's success is contingent on our receiving our funds. The loan will be approved if the output equals \"Current.\" The loan will not be approved if the output is \"Late\" or \"Default.\" "
   ]
  },
  {
   "cell_type": "markdown",
   "id": "a0dd8e99",
   "metadata": {},
   "source": [
    "### Do we have sufficient and correct data? \n",
    "\n",
    "As we all know, the Bank has ample data to work with in order to conduct various analyses. \n",
    "We also know that the data is labeled based on the characteristics of the clients. \n",
    "As a result, we can move on to our supervised learning task. "
   ]
  },
  {
   "cell_type": "markdown",
   "id": "c5007634",
   "metadata": {},
   "source": [
    "### Does our problem have a regular pattern? \n",
    "\n",
    "To ensure the machine learning model's success, we must ensure that we can find patterns in our data, as the model will draw knowledge from those patterns and apply those same patterns to predict outputs in untrained data. \n",
    "\n",
    "We can find correlation patterns within our dataset simply by running a simple correlation function, as we did with Exploratory Data Analysis, and it also allows us to delve deeper into the reasons for the correlation. \n",
    "\n",
    "When we looked at the data before, we found that the loans that aren't being paid back account for only 8.1 percent of the total (24825). Despite the \"low percentage,\" this represents a significant opportunity for the bank to develop strategies for dealing with the situation. \n",
    "\n",
    "As we've seen, there's a strong link between younger customers and unpaid loans. "
   ]
  },
  {
   "cell_type": "markdown",
   "id": "57814ab8",
   "metadata": {},
   "source": [
    "### Can we find meaningful representations of the data? \n",
    "\n",
    "Each loan status can be grouped together based on its feature values. Each loan is represented by a vector of feature values. "
   ]
  },
  {
   "cell_type": "markdown",
   "id": "602ca8a1",
   "metadata": {},
   "source": [
    "### How do we define success? \n",
    "\n",
    "The next step is to evaluate the model. We can use performance metrics like \"Accuracy,\" \"Precision,\" \"Recall,\" and so on because this is a classification model. If we select \"Accuracy,\" we will learn the percentage of correctly predicted labels. We must consider whether we are dealing with an unbalanced dataset. If 1% of the loans are \"Default,\" 2% are \"Late,\" and the rest are \"Current,\" we have a data skew problem. "
   ]
  },
  {
   "cell_type": "markdown",
   "id": "fed21d33",
   "metadata": {},
   "source": [
    "#### All imports used"
   ]
  },
  {
   "cell_type": "code",
   "execution_count": 1,
   "id": "469f11ef",
   "metadata": {},
   "outputs": [
    {
     "name": "stdout",
     "output_type": "stream",
     "text": [
      "Requirement already satisfied: imbalanced-learn in c:\\users\\carlo\\anaconda3\\lib\\site-packages (0.9.0)\n",
      "Requirement already satisfied: joblib>=0.11 in c:\\users\\carlo\\anaconda3\\lib\\site-packages (from imbalanced-learn) (1.0.1)\n",
      "Requirement already satisfied: scikit-learn>=1.0.1 in c:\\users\\carlo\\anaconda3\\lib\\site-packages (from imbalanced-learn) (1.0.2)\n",
      "Requirement already satisfied: scipy>=1.1.0 in c:\\users\\carlo\\anaconda3\\lib\\site-packages (from imbalanced-learn) (1.6.2)\n",
      "Requirement already satisfied: numpy>=1.14.6 in c:\\users\\carlo\\anaconda3\\lib\\site-packages (from imbalanced-learn) (1.20.1)\n",
      "Requirement already satisfied: threadpoolctl>=2.0.0 in c:\\users\\carlo\\anaconda3\\lib\\site-packages (from imbalanced-learn) (2.1.0)\n",
      "Note: you may need to restart the kernel to use updated packages.\n",
      "Requirement already satisfied: xgboost in c:\\users\\carlo\\anaconda3\\lib\\site-packages (1.6.1)\n",
      "Requirement already satisfied: numpy in c:\\users\\carlo\\anaconda3\\lib\\site-packages (from xgboost) (1.20.1)\n",
      "Requirement already satisfied: scipy in c:\\users\\carlo\\anaconda3\\lib\\site-packages (from xgboost) (1.6.2)\n",
      "Note: you may need to restart the kernel to use updated packages.\n"
     ]
    }
   ],
   "source": [
    "import numpy as np\n",
    "import pandas as pd \n",
    "from sklearn.preprocessing import LabelEncoder\n",
    "import os\n",
    "import warnings\n",
    "warnings.filterwarnings('ignore')\n",
    "import matplotlib.pyplot as plt\n",
    "import seaborn as sns\n",
    "color = sns.color_palette()\n",
    "%pip install -U imbalanced-learn\n",
    "%pip install xgboost\n",
    "from sklearn.preprocessing import OrdinalEncoder\n",
    "from sklearn.model_selection import train_test_split\n",
    "from sklearn.base import BaseEstimator, TransformerMixin\n",
    "from sklearn.pipeline import Pipeline\n",
    "from sklearn.preprocessing import StandardScaler, OneHotEncoder\n",
    "from sklearn.impute import SimpleImputer\n",
    "from sklearn.pipeline import Pipeline, FeatureUnion\n",
    "from sklearn.ensemble import RandomForestClassifier\n",
    "from sklearn.feature_selection import SelectFromModel\n",
    "from sklearn.feature_selection import SelectKBest\n",
    "from imblearn.under_sampling import RandomUnderSampler\n",
    "from imblearn.over_sampling import SMOTE\n",
    "from sklearn.metrics import confusion_matrix\n",
    "from sklearn.metrics import accuracy_score, recall_score, precision_score, f1_score\n",
    "from sklearn.linear_model import LogisticRegression\n",
    "from sklearn.metrics import ConfusionMatrixDisplay\n",
    "from sklearn.metrics import roc_auc_score\n",
    "from sklearn.model_selection import GridSearchCV \n",
    "import xgboost as xgb\n",
    "from sklearn.model_selection import RandomizedSearchCV"
   ]
  },
  {
   "cell_type": "markdown",
   "id": "f848e410",
   "metadata": {},
   "source": [
    "---\n",
    "## A Brief Introduction to our Data\n",
    "\n",
    "Home Credit is a non-banking financial institution, founded in 1997 in the Czech Republic.\n",
    "The company operates in 14 countries (including United States, Russia, Kazahstan, Belarus, China, India) and focuses on lending primarily to people with little or no credit history which will either not obtain loans or became victims of untrustworthly lenders.\n",
    "Thus, our Goal with this Machine Learning project is to evaluate what is the best solution to evaluate which clients will be rejected for loans. \n",
    "\n",
    "All the data used on the follwing project is stored in 8 different dataframes:\n",
    "\n",
    "    1.  application_test_df : main table,  test sample: Infos about loans and loan applicants\n",
    "    \n",
    "    2.  application_train_df: main table,  train sample: Infos about loans and loan applicants\n",
    "    \n",
    "    3.  bureau_df: Application data from previous loans that client got from other institutions\n",
    "    \n",
    "    4.  bureau_balance_df: Monthly balance of credits in credit bureau\n",
    "    \n",
    "    5.  credit_card_balance_df: Monthly balance of client's previous credit card loans in Home Credit;\n",
    "    \n",
    "    6.  installments_payments_df: past payments data for each installments of previous credits in Home Credit related to loans in our sample;\n",
    "    \n",
    "    7.  POS_CASH_balance_df: Monthly balance of clients previous loans in Home Credit\n",
    "    \n",
    "    8.  previous_application_df: Application Data of client's previous loans in Home Credit"
   ]
  },
  {
   "cell_type": "code",
   "execution_count": 2,
   "id": "63bda6ac",
   "metadata": {},
   "outputs": [],
   "source": [
    "application_test_df = pd.read_csv('Datasets/application_test.csv')\n",
    "application_train_df = pd.read_csv('Datasets/application_train.csv')\n",
    "bureau_df = pd.read_csv('Datasets/bureau.csv')\n",
    "bureau_balance_df = pd.read_csv('Datasets/bureau_balance.csv')\n",
    "credit_card_balance_df = pd.read_csv('Datasets/credit_card_balance.csv')\n",
    "HomeCredit_columns_description = pd.read_csv('Datasets/HomeCredit_columns_description.csv', encoding = 'latin-1', index_col = 0)\n",
    "installments_payments_df = pd.read_csv('Datasets/installments_payments.csv')\n",
    "POS_CASH_balance_df = pd.read_csv('Datasets/POS_CASH_balance.csv')\n",
    "previous_application_df = pd.read_csv('Datasets/previous_application.csv')"
   ]
  },
  {
   "cell_type": "markdown",
   "id": "83dc3ff0",
   "metadata": {},
   "source": [
    "## Datasets analisys"
   ]
  },
  {
   "cell_type": "code",
   "execution_count": 3,
   "id": "c6af7cae",
   "metadata": {},
   "outputs": [
    {
     "data": {
      "text/html": [
       "<div>\n",
       "<style scoped>\n",
       "    .dataframe tbody tr th:only-of-type {\n",
       "        vertical-align: middle;\n",
       "    }\n",
       "\n",
       "    .dataframe tbody tr th {\n",
       "        vertical-align: top;\n",
       "    }\n",
       "\n",
       "    .dataframe thead th {\n",
       "        text-align: right;\n",
       "    }\n",
       "</style>\n",
       "<table border=\"1\" class=\"dataframe\">\n",
       "  <thead>\n",
       "    <tr style=\"text-align: right;\">\n",
       "      <th></th>\n",
       "      <th>Table</th>\n",
       "      <th>Row</th>\n",
       "      <th>Description</th>\n",
       "      <th>Special</th>\n",
       "    </tr>\n",
       "  </thead>\n",
       "  <tbody>\n",
       "    <tr>\n",
       "      <th>1</th>\n",
       "      <td>application.csv</td>\n",
       "      <td>SK_ID_CURR</td>\n",
       "      <td>ID of loan in our sample</td>\n",
       "      <td>NaN</td>\n",
       "    </tr>\n",
       "    <tr>\n",
       "      <th>125</th>\n",
       "      <td>bureau.csv</td>\n",
       "      <td>SK_ID_CURR</td>\n",
       "      <td>ID of loan in our sample - one loan in our sam...</td>\n",
       "      <td>hashed</td>\n",
       "    </tr>\n",
       "    <tr>\n",
       "      <th>126</th>\n",
       "      <td>bureau.csv</td>\n",
       "      <td>SK_BUREAU_ID</td>\n",
       "      <td>Recoded ID of previous Credit Bureau credit re...</td>\n",
       "      <td>hashed</td>\n",
       "    </tr>\n",
       "    <tr>\n",
       "      <th>142</th>\n",
       "      <td>bureau_balance.csv</td>\n",
       "      <td>SK_BUREAU_ID</td>\n",
       "      <td>Recoded ID of Credit Bureau credit (unique cod...</td>\n",
       "      <td>hashed</td>\n",
       "    </tr>\n",
       "    <tr>\n",
       "      <th>146</th>\n",
       "      <td>POS_CASH_balance.csv</td>\n",
       "      <td>SK_ID_CURR</td>\n",
       "      <td>ID of loan in our sample</td>\n",
       "      <td>NaN</td>\n",
       "    </tr>\n",
       "    <tr>\n",
       "      <th>154</th>\n",
       "      <td>credit_card_balance.csv</td>\n",
       "      <td>SK_ID_CURR</td>\n",
       "      <td>ID of loan in our sample</td>\n",
       "      <td>hashed</td>\n",
       "    </tr>\n",
       "    <tr>\n",
       "      <th>177</th>\n",
       "      <td>previous_application.csv</td>\n",
       "      <td>SK_ID_CURR</td>\n",
       "      <td>ID of loan in our sample</td>\n",
       "      <td>hashed</td>\n",
       "    </tr>\n",
       "    <tr>\n",
       "      <th>215</th>\n",
       "      <td>installments_payments.csv</td>\n",
       "      <td>SK_ID_CURR</td>\n",
       "      <td>ID of loan in our sample</td>\n",
       "      <td>hashed</td>\n",
       "    </tr>\n",
       "  </tbody>\n",
       "</table>\n",
       "</div>"
      ],
      "text/plain": [
       "                         Table           Row  \\\n",
       "1              application.csv    SK_ID_CURR   \n",
       "125                 bureau.csv    SK_ID_CURR   \n",
       "126                 bureau.csv  SK_BUREAU_ID   \n",
       "142         bureau_balance.csv  SK_BUREAU_ID   \n",
       "146       POS_CASH_balance.csv    SK_ID_CURR   \n",
       "154    credit_card_balance.csv    SK_ID_CURR   \n",
       "177   previous_application.csv    SK_ID_CURR   \n",
       "215  installments_payments.csv    SK_ID_CURR   \n",
       "\n",
       "                                           Description Special  \n",
       "1                             ID of loan in our sample     NaN  \n",
       "125  ID of loan in our sample - one loan in our sam...  hashed  \n",
       "126  Recoded ID of previous Credit Bureau credit re...  hashed  \n",
       "142  Recoded ID of Credit Bureau credit (unique cod...  hashed  \n",
       "146                           ID of loan in our sample     NaN  \n",
       "154                           ID of loan in our sample  hashed  \n",
       "177                           ID of loan in our sample  hashed  \n",
       "215                           ID of loan in our sample  hashed  "
      ]
     },
     "execution_count": 3,
     "metadata": {},
     "output_type": "execute_result"
    }
   ],
   "source": [
    "#Column descriptions from tge column descriptions dataset\n",
    "\n",
    "HomeCredit_columns_description[(HomeCredit_columns_description['Row'] == 'SK_ID_CURR') |\n",
    "                               (HomeCredit_columns_description['Row'] == 'SK_ID_PREV') | \n",
    "                               (HomeCredit_columns_description['Row'] == 'SK_BUREAU_ID')] "
   ]
  },
  {
   "cell_type": "code",
   "execution_count": 4,
   "id": "facc8875",
   "metadata": {},
   "outputs": [
    {
     "data": {
      "image/png": "[encoded data removed]",
      "text/plain": [
       "<IPython.core.display.Image object>"
      ]
     },
     "metadata": {},
     "output_type": "display_data"
    }
   ],
   "source": [
    "from IPython.display import display, Image\n",
    "display(Image(filename='Data.png'))"
   ]
  },
  {
   "cell_type": "markdown",
   "id": "99b94ec7",
   "metadata": {},
   "source": [
    "## Exploratory Data Analysis"
   ]
  },
  {
   "cell_type": "markdown",
   "id": "debf56a8",
   "metadata": {},
   "source": [
    "In this exploratory analysis we were able to obtain some early insights from our various types of clients and that will be further reiview in this section.\n",
    "\n",
    "Since the original dataset can be clasiffied as \"Extensive\" our data science team decided to use best practices and work with a train dataset (which is a simplified dataset from the original). According to best practices for machine learning, it is encouraged to do so if the train dataset has enough features and covers all important characteristics. In this case, our team can ensure that the train dataset contains enough features to identify, categorize, and comprehend our clients.\n",
    "\n",
    "Keep in mind that \"TARGET\" is our binary dependent variable (for loan classification) where **0 means \"Repaid Loan\"** and **1 means \"Non repaid Loan\"** ."
   ]
  },
  {
   "cell_type": "code",
   "execution_count": 5,
   "id": "6045657b",
   "metadata": {},
   "outputs": [
    {
     "data": {
      "text/html": [
       "<div>\n",
       "<style scoped>\n",
       "    .dataframe tbody tr th:only-of-type {\n",
       "        vertical-align: middle;\n",
       "    }\n",
       "\n",
       "    .dataframe tbody tr th {\n",
       "        vertical-align: top;\n",
       "    }\n",
       "\n",
       "    .dataframe thead th {\n",
       "        text-align: right;\n",
       "    }\n",
       "</style>\n",
       "<table border=\"1\" class=\"dataframe\">\n",
       "  <thead>\n",
       "    <tr style=\"text-align: right;\">\n",
       "      <th></th>\n",
       "      <th>SK_ID_CURR</th>\n",
       "      <th>TARGET</th>\n",
       "      <th>NAME_CONTRACT_TYPE</th>\n",
       "      <th>CODE_GENDER</th>\n",
       "      <th>FLAG_OWN_CAR</th>\n",
       "      <th>FLAG_OWN_REALTY</th>\n",
       "      <th>CNT_CHILDREN</th>\n",
       "      <th>AMT_INCOME_TOTAL</th>\n",
       "      <th>AMT_CREDIT</th>\n",
       "      <th>AMT_ANNUITY</th>\n",
       "      <th>...</th>\n",
       "      <th>FLAG_DOCUMENT_18</th>\n",
       "      <th>FLAG_DOCUMENT_19</th>\n",
       "      <th>FLAG_DOCUMENT_20</th>\n",
       "      <th>FLAG_DOCUMENT_21</th>\n",
       "      <th>AMT_REQ_CREDIT_BUREAU_HOUR</th>\n",
       "      <th>AMT_REQ_CREDIT_BUREAU_DAY</th>\n",
       "      <th>AMT_REQ_CREDIT_BUREAU_WEEK</th>\n",
       "      <th>AMT_REQ_CREDIT_BUREAU_MON</th>\n",
       "      <th>AMT_REQ_CREDIT_BUREAU_QRT</th>\n",
       "      <th>AMT_REQ_CREDIT_BUREAU_YEAR</th>\n",
       "    </tr>\n",
       "  </thead>\n",
       "  <tbody>\n",
       "    <tr>\n",
       "      <th>0</th>\n",
       "      <td>100002</td>\n",
       "      <td>1</td>\n",
       "      <td>Cash loans</td>\n",
       "      <td>M</td>\n",
       "      <td>N</td>\n",
       "      <td>Y</td>\n",
       "      <td>0</td>\n",
       "      <td>202500.0</td>\n",
       "      <td>406597.5</td>\n",
       "      <td>24700.5</td>\n",
       "      <td>...</td>\n",
       "      <td>0</td>\n",
       "      <td>0</td>\n",
       "      <td>0</td>\n",
       "      <td>0</td>\n",
       "      <td>0.0</td>\n",
       "      <td>0.0</td>\n",
       "      <td>0.0</td>\n",
       "      <td>0.0</td>\n",
       "      <td>0.0</td>\n",
       "      <td>1.0</td>\n",
       "    </tr>\n",
       "    <tr>\n",
       "      <th>1</th>\n",
       "      <td>100003</td>\n",
       "      <td>0</td>\n",
       "      <td>Cash loans</td>\n",
       "      <td>F</td>\n",
       "      <td>N</td>\n",
       "      <td>N</td>\n",
       "      <td>0</td>\n",
       "      <td>270000.0</td>\n",
       "      <td>1293502.5</td>\n",
       "      <td>35698.5</td>\n",
       "      <td>...</td>\n",
       "      <td>0</td>\n",
       "      <td>0</td>\n",
       "      <td>0</td>\n",
       "      <td>0</td>\n",
       "      <td>0.0</td>\n",
       "      <td>0.0</td>\n",
       "      <td>0.0</td>\n",
       "      <td>0.0</td>\n",
       "      <td>0.0</td>\n",
       "      <td>0.0</td>\n",
       "    </tr>\n",
       "    <tr>\n",
       "      <th>2</th>\n",
       "      <td>100004</td>\n",
       "      <td>0</td>\n",
       "      <td>Revolving loans</td>\n",
       "      <td>M</td>\n",
       "      <td>Y</td>\n",
       "      <td>Y</td>\n",
       "      <td>0</td>\n",
       "      <td>67500.0</td>\n",
       "      <td>135000.0</td>\n",
       "      <td>6750.0</td>\n",
       "      <td>...</td>\n",
       "      <td>0</td>\n",
       "      <td>0</td>\n",
       "      <td>0</td>\n",
       "      <td>0</td>\n",
       "      <td>0.0</td>\n",
       "      <td>0.0</td>\n",
       "      <td>0.0</td>\n",
       "      <td>0.0</td>\n",
       "      <td>0.0</td>\n",
       "      <td>0.0</td>\n",
       "    </tr>\n",
       "    <tr>\n",
       "      <th>3</th>\n",
       "      <td>100006</td>\n",
       "      <td>0</td>\n",
       "      <td>Cash loans</td>\n",
       "      <td>F</td>\n",
       "      <td>N</td>\n",
       "      <td>Y</td>\n",
       "      <td>0</td>\n",
       "      <td>135000.0</td>\n",
       "      <td>312682.5</td>\n",
       "      <td>29686.5</td>\n",
       "      <td>...</td>\n",
       "      <td>0</td>\n",
       "      <td>0</td>\n",
       "      <td>0</td>\n",
       "      <td>0</td>\n",
       "      <td>NaN</td>\n",
       "      <td>NaN</td>\n",
       "      <td>NaN</td>\n",
       "      <td>NaN</td>\n",
       "      <td>NaN</td>\n",
       "      <td>NaN</td>\n",
       "    </tr>\n",
       "    <tr>\n",
       "      <th>4</th>\n",
       "      <td>100007</td>\n",
       "      <td>0</td>\n",
       "      <td>Cash loans</td>\n",
       "      <td>M</td>\n",
       "      <td>N</td>\n",
       "      <td>Y</td>\n",
       "      <td>0</td>\n",
       "      <td>121500.0</td>\n",
       "      <td>513000.0</td>\n",
       "      <td>21865.5</td>\n",
       "      <td>...</td>\n",
       "      <td>0</td>\n",
       "      <td>0</td>\n",
       "      <td>0</td>\n",
       "      <td>0</td>\n",
       "      <td>0.0</td>\n",
       "      <td>0.0</td>\n",
       "      <td>0.0</td>\n",
       "      <td>0.0</td>\n",
       "      <td>0.0</td>\n",
       "      <td>0.0</td>\n",
       "    </tr>\n",
       "  </tbody>\n",
       "</table>\n",
       "<p>5 rows × 122 columns</p>\n",
       "</div>"
      ],
      "text/plain": [
       "   SK_ID_CURR  TARGET NAME_CONTRACT_TYPE CODE_GENDER FLAG_OWN_CAR  \\\n",
       "0      100002       1         Cash loans           M            N   \n",
       "1      100003       0         Cash loans           F            N   \n",
       "2      100004       0    Revolving loans           M            Y   \n",
       "3      100006       0         Cash loans           F            N   \n",
       "4      100007       0         Cash loans           M            N   \n",
       "\n",
       "  FLAG_OWN_REALTY  CNT_CHILDREN  AMT_INCOME_TOTAL  AMT_CREDIT  AMT_ANNUITY  \\\n",
       "0               Y             0          202500.0    406597.5      24700.5   \n",
       "1               N             0          270000.0   1293502.5      35698.5   \n",
       "2               Y             0           67500.0    135000.0       6750.0   \n",
       "3               Y             0          135000.0    312682.5      29686.5   \n",
       "4               Y             0          121500.0    513000.0      21865.5   \n",
       "\n",
       "   ...  FLAG_DOCUMENT_18 FLAG_DOCUMENT_19 FLAG_DOCUMENT_20 FLAG_DOCUMENT_21  \\\n",
       "0  ...                 0                0                0                0   \n",
       "1  ...                 0                0                0                0   \n",
       "2  ...                 0                0                0                0   \n",
       "3  ...                 0                0                0                0   \n",
       "4  ...                 0                0                0                0   \n",
       "\n",
       "  AMT_REQ_CREDIT_BUREAU_HOUR AMT_REQ_CREDIT_BUREAU_DAY  \\\n",
       "0                        0.0                       0.0   \n",
       "1                        0.0                       0.0   \n",
       "2                        0.0                       0.0   \n",
       "3                        NaN                       NaN   \n",
       "4                        0.0                       0.0   \n",
       "\n",
       "   AMT_REQ_CREDIT_BUREAU_WEEK  AMT_REQ_CREDIT_BUREAU_MON  \\\n",
       "0                         0.0                        0.0   \n",
       "1                         0.0                        0.0   \n",
       "2                         0.0                        0.0   \n",
       "3                         NaN                        NaN   \n",
       "4                         0.0                        0.0   \n",
       "\n",
       "   AMT_REQ_CREDIT_BUREAU_QRT  AMT_REQ_CREDIT_BUREAU_YEAR  \n",
       "0                        0.0                         1.0  \n",
       "1                        0.0                         0.0  \n",
       "2                        0.0                         0.0  \n",
       "3                        NaN                         NaN  \n",
       "4                        0.0                         0.0  \n",
       "\n",
       "[5 rows x 122 columns]"
      ]
     },
     "execution_count": 5,
     "metadata": {},
     "output_type": "execute_result"
    }
   ],
   "source": [
    "train_df = application_train_df.copy()\n",
    "train_df.head(5)"
   ]
  },
  {
   "cell_type": "code",
   "execution_count": 6,
   "id": "906e2c9b",
   "metadata": {},
   "outputs": [
    {
     "name": "stdout",
     "output_type": "stream",
     "text": [
      "<class 'pandas.core.frame.DataFrame'>\n",
      "RangeIndex: 307511 entries, 0 to 307510\n",
      "Columns: 122 entries, SK_ID_CURR to AMT_REQ_CREDIT_BUREAU_YEAR\n",
      "dtypes: float64(65), int64(41), object(16)\n",
      "memory usage: 286.2+ MB\n"
     ]
    }
   ],
   "source": [
    "train_df = application_train_df.copy()\n",
    "train_df.info()"
   ]
  },
  {
   "cell_type": "markdown",
   "id": "7f804d22",
   "metadata": {},
   "source": [
    "After some experiments on the data, our group have spoted two columns with very important data that were not being presented the most efficient way: \n",
    "- DAYS_EMPLOYED: All collumns with error return a default value of 365243. We are thus replacing all the rows with this value by NaN values, anda create another collumn called \"YEARS_EMPLOYED\" that corresponds to the DAYS_EMPLOYED (already corrected), multiplied by -1 and devided by 365.\n",
    "- DAYS_BIRTH: The numbers in the DAYS_BIRTH column are negative because they are recorded relative to the current loan application. We are going to create a new column called \"CLIENT_AGE\" which corresponds to the positive number of DAYS_BIRTH, devided by 365."
   ]
  },
  {
   "cell_type": "code",
   "execution_count": 7,
   "id": "6a720ea6",
   "metadata": {},
   "outputs": [
    {
     "data": {
      "text/html": [
       "<div>\n",
       "<style scoped>\n",
       "    .dataframe tbody tr th:only-of-type {\n",
       "        vertical-align: middle;\n",
       "    }\n",
       "\n",
       "    .dataframe tbody tr th {\n",
       "        vertical-align: top;\n",
       "    }\n",
       "\n",
       "    .dataframe thead th {\n",
       "        text-align: right;\n",
       "    }\n",
       "</style>\n",
       "<table border=\"1\" class=\"dataframe\">\n",
       "  <thead>\n",
       "    <tr style=\"text-align: right;\">\n",
       "      <th></th>\n",
       "      <th>SK_ID_CURR</th>\n",
       "      <th>TARGET</th>\n",
       "      <th>NAME_CONTRACT_TYPE</th>\n",
       "      <th>CODE_GENDER</th>\n",
       "      <th>FLAG_OWN_CAR</th>\n",
       "      <th>FLAG_OWN_REALTY</th>\n",
       "      <th>CNT_CHILDREN</th>\n",
       "      <th>AMT_INCOME_TOTAL</th>\n",
       "      <th>AMT_CREDIT</th>\n",
       "      <th>AMT_ANNUITY</th>\n",
       "      <th>...</th>\n",
       "      <th>FLAG_DOCUMENT_20</th>\n",
       "      <th>FLAG_DOCUMENT_21</th>\n",
       "      <th>AMT_REQ_CREDIT_BUREAU_HOUR</th>\n",
       "      <th>AMT_REQ_CREDIT_BUREAU_DAY</th>\n",
       "      <th>AMT_REQ_CREDIT_BUREAU_WEEK</th>\n",
       "      <th>AMT_REQ_CREDIT_BUREAU_MON</th>\n",
       "      <th>AMT_REQ_CREDIT_BUREAU_QRT</th>\n",
       "      <th>AMT_REQ_CREDIT_BUREAU_YEAR</th>\n",
       "      <th>CLIENT_AGE</th>\n",
       "      <th>YEARS_EMPLOYED</th>\n",
       "    </tr>\n",
       "  </thead>\n",
       "  <tbody>\n",
       "    <tr>\n",
       "      <th>0</th>\n",
       "      <td>100002</td>\n",
       "      <td>1</td>\n",
       "      <td>Cash loans</td>\n",
       "      <td>M</td>\n",
       "      <td>N</td>\n",
       "      <td>Y</td>\n",
       "      <td>0</td>\n",
       "      <td>202500.0</td>\n",
       "      <td>406597.5</td>\n",
       "      <td>24700.5</td>\n",
       "      <td>...</td>\n",
       "      <td>0</td>\n",
       "      <td>0</td>\n",
       "      <td>0.0</td>\n",
       "      <td>0.0</td>\n",
       "      <td>0.0</td>\n",
       "      <td>0.0</td>\n",
       "      <td>0.0</td>\n",
       "      <td>1.0</td>\n",
       "      <td>25.920548</td>\n",
       "      <td>0.001744</td>\n",
       "    </tr>\n",
       "    <tr>\n",
       "      <th>1</th>\n",
       "      <td>100003</td>\n",
       "      <td>0</td>\n",
       "      <td>Cash loans</td>\n",
       "      <td>F</td>\n",
       "      <td>N</td>\n",
       "      <td>N</td>\n",
       "      <td>0</td>\n",
       "      <td>270000.0</td>\n",
       "      <td>1293502.5</td>\n",
       "      <td>35698.5</td>\n",
       "      <td>...</td>\n",
       "      <td>0</td>\n",
       "      <td>0</td>\n",
       "      <td>0.0</td>\n",
       "      <td>0.0</td>\n",
       "      <td>0.0</td>\n",
       "      <td>0.0</td>\n",
       "      <td>0.0</td>\n",
       "      <td>0.0</td>\n",
       "      <td>45.931507</td>\n",
       "      <td>0.003253</td>\n",
       "    </tr>\n",
       "    <tr>\n",
       "      <th>2</th>\n",
       "      <td>100004</td>\n",
       "      <td>0</td>\n",
       "      <td>Revolving loans</td>\n",
       "      <td>M</td>\n",
       "      <td>Y</td>\n",
       "      <td>Y</td>\n",
       "      <td>0</td>\n",
       "      <td>67500.0</td>\n",
       "      <td>135000.0</td>\n",
       "      <td>6750.0</td>\n",
       "      <td>...</td>\n",
       "      <td>0</td>\n",
       "      <td>0</td>\n",
       "      <td>0.0</td>\n",
       "      <td>0.0</td>\n",
       "      <td>0.0</td>\n",
       "      <td>0.0</td>\n",
       "      <td>0.0</td>\n",
       "      <td>0.0</td>\n",
       "      <td>52.180822</td>\n",
       "      <td>0.000616</td>\n",
       "    </tr>\n",
       "    <tr>\n",
       "      <th>3</th>\n",
       "      <td>100006</td>\n",
       "      <td>0</td>\n",
       "      <td>Cash loans</td>\n",
       "      <td>F</td>\n",
       "      <td>N</td>\n",
       "      <td>Y</td>\n",
       "      <td>0</td>\n",
       "      <td>135000.0</td>\n",
       "      <td>312682.5</td>\n",
       "      <td>29686.5</td>\n",
       "      <td>...</td>\n",
       "      <td>0</td>\n",
       "      <td>0</td>\n",
       "      <td>NaN</td>\n",
       "      <td>NaN</td>\n",
       "      <td>NaN</td>\n",
       "      <td>NaN</td>\n",
       "      <td>NaN</td>\n",
       "      <td>NaN</td>\n",
       "      <td>52.068493</td>\n",
       "      <td>0.008320</td>\n",
       "    </tr>\n",
       "    <tr>\n",
       "      <th>4</th>\n",
       "      <td>100007</td>\n",
       "      <td>0</td>\n",
       "      <td>Cash loans</td>\n",
       "      <td>M</td>\n",
       "      <td>N</td>\n",
       "      <td>Y</td>\n",
       "      <td>0</td>\n",
       "      <td>121500.0</td>\n",
       "      <td>513000.0</td>\n",
       "      <td>21865.5</td>\n",
       "      <td>...</td>\n",
       "      <td>0</td>\n",
       "      <td>0</td>\n",
       "      <td>0.0</td>\n",
       "      <td>0.0</td>\n",
       "      <td>0.0</td>\n",
       "      <td>0.0</td>\n",
       "      <td>0.0</td>\n",
       "      <td>0.0</td>\n",
       "      <td>54.608219</td>\n",
       "      <td>0.008318</td>\n",
       "    </tr>\n",
       "    <tr>\n",
       "      <th>...</th>\n",
       "      <td>...</td>\n",
       "      <td>...</td>\n",
       "      <td>...</td>\n",
       "      <td>...</td>\n",
       "      <td>...</td>\n",
       "      <td>...</td>\n",
       "      <td>...</td>\n",
       "      <td>...</td>\n",
       "      <td>...</td>\n",
       "      <td>...</td>\n",
       "      <td>...</td>\n",
       "      <td>...</td>\n",
       "      <td>...</td>\n",
       "      <td>...</td>\n",
       "      <td>...</td>\n",
       "      <td>...</td>\n",
       "      <td>...</td>\n",
       "      <td>...</td>\n",
       "      <td>...</td>\n",
       "      <td>...</td>\n",
       "      <td>...</td>\n",
       "    </tr>\n",
       "    <tr>\n",
       "      <th>307506</th>\n",
       "      <td>456251</td>\n",
       "      <td>0</td>\n",
       "      <td>Cash loans</td>\n",
       "      <td>M</td>\n",
       "      <td>N</td>\n",
       "      <td>N</td>\n",
       "      <td>0</td>\n",
       "      <td>157500.0</td>\n",
       "      <td>254700.0</td>\n",
       "      <td>27558.0</td>\n",
       "      <td>...</td>\n",
       "      <td>0</td>\n",
       "      <td>0</td>\n",
       "      <td>NaN</td>\n",
       "      <td>NaN</td>\n",
       "      <td>NaN</td>\n",
       "      <td>NaN</td>\n",
       "      <td>NaN</td>\n",
       "      <td>NaN</td>\n",
       "      <td>25.553425</td>\n",
       "      <td>0.000646</td>\n",
       "    </tr>\n",
       "    <tr>\n",
       "      <th>307507</th>\n",
       "      <td>456252</td>\n",
       "      <td>0</td>\n",
       "      <td>Cash loans</td>\n",
       "      <td>F</td>\n",
       "      <td>N</td>\n",
       "      <td>Y</td>\n",
       "      <td>0</td>\n",
       "      <td>72000.0</td>\n",
       "      <td>269550.0</td>\n",
       "      <td>12001.5</td>\n",
       "      <td>...</td>\n",
       "      <td>0</td>\n",
       "      <td>0</td>\n",
       "      <td>NaN</td>\n",
       "      <td>NaN</td>\n",
       "      <td>NaN</td>\n",
       "      <td>NaN</td>\n",
       "      <td>NaN</td>\n",
       "      <td>NaN</td>\n",
       "      <td>56.917808</td>\n",
       "      <td>NaN</td>\n",
       "    </tr>\n",
       "    <tr>\n",
       "      <th>307508</th>\n",
       "      <td>456253</td>\n",
       "      <td>0</td>\n",
       "      <td>Cash loans</td>\n",
       "      <td>F</td>\n",
       "      <td>N</td>\n",
       "      <td>Y</td>\n",
       "      <td>0</td>\n",
       "      <td>153000.0</td>\n",
       "      <td>677664.0</td>\n",
       "      <td>29979.0</td>\n",
       "      <td>...</td>\n",
       "      <td>0</td>\n",
       "      <td>0</td>\n",
       "      <td>1.0</td>\n",
       "      <td>0.0</td>\n",
       "      <td>0.0</td>\n",
       "      <td>1.0</td>\n",
       "      <td>0.0</td>\n",
       "      <td>1.0</td>\n",
       "      <td>41.002740</td>\n",
       "      <td>0.021687</td>\n",
       "    </tr>\n",
       "    <tr>\n",
       "      <th>307509</th>\n",
       "      <td>456254</td>\n",
       "      <td>1</td>\n",
       "      <td>Cash loans</td>\n",
       "      <td>F</td>\n",
       "      <td>N</td>\n",
       "      <td>Y</td>\n",
       "      <td>0</td>\n",
       "      <td>171000.0</td>\n",
       "      <td>370107.0</td>\n",
       "      <td>20205.0</td>\n",
       "      <td>...</td>\n",
       "      <td>0</td>\n",
       "      <td>0</td>\n",
       "      <td>0.0</td>\n",
       "      <td>0.0</td>\n",
       "      <td>0.0</td>\n",
       "      <td>0.0</td>\n",
       "      <td>0.0</td>\n",
       "      <td>0.0</td>\n",
       "      <td>32.769863</td>\n",
       "      <td>0.013104</td>\n",
       "    </tr>\n",
       "    <tr>\n",
       "      <th>307510</th>\n",
       "      <td>456255</td>\n",
       "      <td>0</td>\n",
       "      <td>Cash loans</td>\n",
       "      <td>F</td>\n",
       "      <td>N</td>\n",
       "      <td>N</td>\n",
       "      <td>0</td>\n",
       "      <td>157500.0</td>\n",
       "      <td>675000.0</td>\n",
       "      <td>49117.5</td>\n",
       "      <td>...</td>\n",
       "      <td>0</td>\n",
       "      <td>0</td>\n",
       "      <td>0.0</td>\n",
       "      <td>0.0</td>\n",
       "      <td>0.0</td>\n",
       "      <td>2.0</td>\n",
       "      <td>0.0</td>\n",
       "      <td>1.0</td>\n",
       "      <td>46.180822</td>\n",
       "      <td>0.003455</td>\n",
       "    </tr>\n",
       "  </tbody>\n",
       "</table>\n",
       "<p>307511 rows × 122 columns</p>\n",
       "</div>"
      ],
      "text/plain": [
       "        SK_ID_CURR  TARGET NAME_CONTRACT_TYPE CODE_GENDER FLAG_OWN_CAR  \\\n",
       "0           100002       1         Cash loans           M            N   \n",
       "1           100003       0         Cash loans           F            N   \n",
       "2           100004       0    Revolving loans           M            Y   \n",
       "3           100006       0         Cash loans           F            N   \n",
       "4           100007       0         Cash loans           M            N   \n",
       "...            ...     ...                ...         ...          ...   \n",
       "307506      456251       0         Cash loans           M            N   \n",
       "307507      456252       0         Cash loans           F            N   \n",
       "307508      456253       0         Cash loans           F            N   \n",
       "307509      456254       1         Cash loans           F            N   \n",
       "307510      456255       0         Cash loans           F            N   \n",
       "\n",
       "       FLAG_OWN_REALTY  CNT_CHILDREN  AMT_INCOME_TOTAL  AMT_CREDIT  \\\n",
       "0                    Y             0          202500.0    406597.5   \n",
       "1                    N             0          270000.0   1293502.5   \n",
       "2                    Y             0           67500.0    135000.0   \n",
       "3                    Y             0          135000.0    312682.5   \n",
       "4                    Y             0          121500.0    513000.0   \n",
       "...                ...           ...               ...         ...   \n",
       "307506               N             0          157500.0    254700.0   \n",
       "307507               Y             0           72000.0    269550.0   \n",
       "307508               Y             0          153000.0    677664.0   \n",
       "307509               Y             0          171000.0    370107.0   \n",
       "307510               N             0          157500.0    675000.0   \n",
       "\n",
       "        AMT_ANNUITY  ...  FLAG_DOCUMENT_20 FLAG_DOCUMENT_21  \\\n",
       "0           24700.5  ...                 0                0   \n",
       "1           35698.5  ...                 0                0   \n",
       "2            6750.0  ...                 0                0   \n",
       "3           29686.5  ...                 0                0   \n",
       "4           21865.5  ...                 0                0   \n",
       "...             ...  ...               ...              ...   \n",
       "307506      27558.0  ...                 0                0   \n",
       "307507      12001.5  ...                 0                0   \n",
       "307508      29979.0  ...                 0                0   \n",
       "307509      20205.0  ...                 0                0   \n",
       "307510      49117.5  ...                 0                0   \n",
       "\n",
       "       AMT_REQ_CREDIT_BUREAU_HOUR AMT_REQ_CREDIT_BUREAU_DAY  \\\n",
       "0                             0.0                       0.0   \n",
       "1                             0.0                       0.0   \n",
       "2                             0.0                       0.0   \n",
       "3                             NaN                       NaN   \n",
       "4                             0.0                       0.0   \n",
       "...                           ...                       ...   \n",
       "307506                        NaN                       NaN   \n",
       "307507                        NaN                       NaN   \n",
       "307508                        1.0                       0.0   \n",
       "307509                        0.0                       0.0   \n",
       "307510                        0.0                       0.0   \n",
       "\n",
       "       AMT_REQ_CREDIT_BUREAU_WEEK AMT_REQ_CREDIT_BUREAU_MON  \\\n",
       "0                             0.0                       0.0   \n",
       "1                             0.0                       0.0   \n",
       "2                             0.0                       0.0   \n",
       "3                             NaN                       NaN   \n",
       "4                             0.0                       0.0   \n",
       "...                           ...                       ...   \n",
       "307506                        NaN                       NaN   \n",
       "307507                        NaN                       NaN   \n",
       "307508                        0.0                       1.0   \n",
       "307509                        0.0                       0.0   \n",
       "307510                        0.0                       2.0   \n",
       "\n",
       "        AMT_REQ_CREDIT_BUREAU_QRT  AMT_REQ_CREDIT_BUREAU_YEAR  CLIENT_AGE  \\\n",
       "0                             0.0                         1.0   25.920548   \n",
       "1                             0.0                         0.0   45.931507   \n",
       "2                             0.0                         0.0   52.180822   \n",
       "3                             NaN                         NaN   52.068493   \n",
       "4                             0.0                         0.0   54.608219   \n",
       "...                           ...                         ...         ...   \n",
       "307506                        NaN                         NaN   25.553425   \n",
       "307507                        NaN                         NaN   56.917808   \n",
       "307508                        0.0                         1.0   41.002740   \n",
       "307509                        0.0                         0.0   32.769863   \n",
       "307510                        0.0                         1.0   46.180822   \n",
       "\n",
       "        YEARS_EMPLOYED  \n",
       "0             0.001744  \n",
       "1             0.003253  \n",
       "2             0.000616  \n",
       "3             0.008320  \n",
       "4             0.008318  \n",
       "...                ...  \n",
       "307506        0.000646  \n",
       "307507             NaN  \n",
       "307508        0.021687  \n",
       "307509        0.013104  \n",
       "307510        0.003455  \n",
       "\n",
       "[307511 rows x 122 columns]"
      ]
     },
     "execution_count": 7,
     "metadata": {},
     "output_type": "execute_result"
    }
   ],
   "source": [
    "train_df['CLIENT_AGE'] = train_df['DAYS_BIRTH'] / -365\n",
    "\n",
    "train_df['DAYS_EMPLOYED'].replace({365243: np.nan}, inplace = True)\n",
    "\n",
    "train_df['YEARS_EMPLOYED'] = train_df['DAYS_EMPLOYED'] / -365243\n",
    "\n",
    "train_df.drop(columns=['DAYS_EMPLOYED','DAYS_BIRTH'])"
   ]
  },
  {
   "cell_type": "code",
   "execution_count": 8,
   "id": "55dff67c",
   "metadata": {},
   "outputs": [
    {
     "data": {
      "text/plain": [
       "(307511, 124)"
      ]
     },
     "execution_count": 8,
     "metadata": {},
     "output_type": "execute_result"
    }
   ],
   "source": [
    "train_df.shape"
   ]
  },
  {
   "cell_type": "markdown",
   "id": "153b5e16",
   "metadata": {},
   "source": [
    "### It is critical to comprehend our target variable and how it is distributed within our dataset. As illustrated in the following graph:"
   ]
  },
  {
   "cell_type": "code",
   "execution_count": 9,
   "id": "420f53e0",
   "metadata": {},
   "outputs": [
    {
     "data": {
      "image/png": "[encoded data removed]",
      "text/plain": [
       "<Figure size 432x288 with 1 Axes>"
      ]
     },
     "metadata": {},
     "output_type": "display_data"
    }
   ],
   "source": [
    "#Examine the distribution of the target Variables\n",
    "# 0 means the loan was grated while 1 means the loan not granted\n",
    "# Since the trainf_df has more records, we will use this one for eda purposes\n",
    "\n",
    "values = train_df.TARGET.value_counts().values\n",
    "colors = ['springgreen', 'red']\n",
    "labels = ['0: Loan Granted', '1: Loan Not Granted']\n",
    "explode = (0,0.2)\n",
    "plt.pie(values, colors=colors, explode=explode, counterclock=False, shadow=True, autopct='%1.1f%%')\n",
    "plt.title('Distribution Target Variable', color = 'black', fontweight = 'bold', fontsize = '16')\n",
    "plt.legend(labels, loc=3, title='TARGET')\n",
    "plt.show()"
   ]
  },
  {
   "cell_type": "markdown",
   "id": "a937a919",
   "metadata": {},
   "source": [
    "*Explanation of results*\n",
    "\n",
    "- As we can see, there are far more loans that are repaid than those that are not. In data science this is referred to as an \"imbalanced dataset\"  when the diference between \"true positives\" and \"true negatives\" is very large. As a result, this could be a problem because when the records of one class outnumber those of another, our classifier may become biased toward the prediction."
   ]
  },
  {
   "cell_type": "markdown",
   "id": "7a74514a",
   "metadata": {},
   "source": [
    "##  So an imbalanced dataset is a problem, let's dig deeper and look for features that are correlated with our target variable."
   ]
  },
  {
   "cell_type": "code",
   "execution_count": 10,
   "id": "eee76f1b",
   "metadata": {},
   "outputs": [
    {
     "name": "stdout",
     "output_type": "stream",
     "text": [
      "Best Correlations with target variable are:\n",
      " DAYS_ID_PUBLISH                0.051457\n",
      "DAYS_LAST_PHONE_CHANGE         0.055218\n",
      "REGION_RATING_CLIENT           0.058899\n",
      "REGION_RATING_CLIENT_W_CITY    0.060893\n",
      "DAYS_EMPLOYED                  0.074958\n",
      "DAYS_BIRTH                     0.078239\n",
      "TARGET                         1.000000\n",
      "Name: TARGET, dtype: float64\n",
      "\n",
      "Worst Correlations with target variable are:\n",
      " EXT_SOURCE_3     -0.178919\n",
      "EXT_SOURCE_2     -0.160472\n",
      "EXT_SOURCE_1     -0.155317\n",
      "CLIENT_AGE       -0.078239\n",
      "YEARS_EMPLOYED   -0.074958\n",
      "FLOORSMAX_AVG    -0.044003\n",
      "FLOORSMAX_MEDI   -0.043768\n",
      "Name: TARGET, dtype: float64\n"
     ]
    }
   ],
   "source": [
    "train_df_correlations = train_df.corr()['TARGET'].sort_values(ascending= True)\n",
    "print('Best Correlations with target variable are:\\n', train_df_correlations.tail(7))\n",
    "print('\\nWorst Correlations with target variable are:\\n', train_df_correlations.head(7))"
   ]
  },
  {
   "cell_type": "markdown",
   "id": "d02793a6",
   "metadata": {},
   "source": [
    "**Explaining Results**\n",
    "\n",
    "- To understand these results, keep in mind that a strong correlation coefficient value is between ± 0.50 and ± 1, a medium correlation is between ± 0.30 and ± 0.49, and a small correlation is less than ± 0.29. And, as we can see from the preceding examples, none of the the features have a strong or modarate correlation with our target variable."
   ]
  },
  {
   "cell_type": "markdown",
   "id": "803fa68a",
   "metadata": {},
   "source": [
    "## Despite having a weak correlation, age is the feature with the strongest correlation, so let's look into it."
   ]
  },
  {
   "cell_type": "code",
   "execution_count": 11,
   "id": "4c74a6a0",
   "metadata": {},
   "outputs": [
    {
     "data": {
      "text/plain": [
       "Text(0.5, 1.0, 'Age Distribution')"
      ]
     },
     "execution_count": 11,
     "metadata": {},
     "output_type": "execute_result"
    },
    {
     "data": {
      "image/png": "[encoded data removed]",
      "text/plain": [
       "<Figure size 432x288 with 1 Axes>"
      ]
     },
     "metadata": {
      "needs_background": "light"
     },
     "output_type": "display_data"
    }
   ],
   "source": [
    "sns.kdeplot(train_df.loc[train_df['TARGET'] == 0, 'CLIENT_AGE'] , label = 'Repaid Loan')\n",
    "sns.kdeplot(train_df.loc[train_df['TARGET'] == 1, 'CLIENT_AGE'] , label = 'Non Repaid Loan')\n",
    "plt.legend()\n",
    "plt.xlabel('Age (years)')\n",
    "plt.ylabel('Density')\n",
    "plt.title('Age Distribution')"
   ]
  },
  {
   "cell_type": "markdown",
   "id": "f2d235b9",
   "metadata": {},
   "source": [
    "**Explaining results**\n",
    "\n",
    "It is clear from this graph that there is a high association between age and repayments. In this situation, the older the clients are, the less likely they are to miss payments.\n",
    "\n",
    "This might have something to do with the number of obligations (like children, school loans, car loans, etc.)\n",
    "\n",
    "This is another key point to consider in terms of innovation management when developing products or services tailored to older clients with a good payment history."
   ]
  },
  {
   "cell_type": "markdown",
   "id": "2c5f5422",
   "metadata": {},
   "source": [
    "## Although finding a meaningful correlation is a good first step, there are always more client characteristics to consider, as the following:"
   ]
  },
  {
   "cell_type": "code",
   "execution_count": 12,
   "id": "81263455",
   "metadata": {},
   "outputs": [
    {
     "data": {
      "image/png": "[encoded data removed]",
      "text/plain": [
       "<Figure size 432x288 with 1 Axes>"
      ]
     },
     "metadata": {},
     "output_type": "display_data"
    }
   ],
   "source": [
    "values = train_df.NAME_CONTRACT_TYPE.value_counts().values\n",
    "colors = ['cyan', 'orangered']\n",
    "labels = ['Cash Loans', 'Revolving Loans']\n",
    "explode = (0,0.2)\n",
    "plt.pie(values, colors=colors, explode=explode, counterclock=True, shadow=True, autopct='%1.1f%%')\n",
    "plt.title('Types of Contracts', color = 'black', fontweight = 'bold', fontsize = '16')\n",
    "plt.legend(labels, loc=3, title='NAME_CONTRACT_TYPE')\n",
    "plt.show()"
   ]
  },
  {
   "cell_type": "code",
   "execution_count": 13,
   "id": "d024d88a",
   "metadata": {},
   "outputs": [
    {
     "data": {
      "image/png": "[encoded data removed]",
      "text/plain": [
       "<Figure size 432x288 with 1 Axes>"
      ]
     },
     "metadata": {},
     "output_type": "display_data"
    }
   ],
   "source": [
    "values = train_df.CODE_GENDER.value_counts().values\n",
    "colors = ['deeppink', 'deepskyblue', 'lime']\n",
    "labels = ['Feminine', 'Masculine', 'Not Identified (=4)']\n",
    "explode = (0, 0.2, 1)\n",
    "plt.pie(values, colors=colors, explode=explode, counterclock=True, shadow=True, autopct='%1.1f%%')\n",
    "plt.title('Gender Distribution', color = 'black', fontweight = 'bold', fontsize = '16')\n",
    "plt.legend(labels, loc=3, title='CODE_GENDER', bbox_to_anchor=(-0.2, 0))\n",
    "plt.show()"
   ]
  },
  {
   "cell_type": "code",
   "execution_count": 14,
   "id": "8e20667c",
   "metadata": {},
   "outputs": [
    {
     "data": {
      "image/png": "[encoded data removed]",
      "text/plain": [
       "<Figure size 432x288 with 1 Axes>"
      ]
     },
     "metadata": {},
     "output_type": "display_data"
    }
   ],
   "source": [
    "values = train_df.FLAG_OWN_CAR.value_counts().values\n",
    "colors = ['red', 'springgreen']\n",
    "labels = ['Not', 'Yes']\n",
    "explode = (0, 0.2)\n",
    "plt.pie(values, colors=colors, explode=explode, counterclock=True, shadow=True, autopct='%1.1f%%')\n",
    "plt.title('Client Owns a Car?', color = 'black', fontweight = 'bold', fontsize = '16')\n",
    "plt.legend(labels, loc=3, title='FLAG_OWN_CAR', bbox_to_anchor=(-0.1, 0))\n",
    "plt.show()"
   ]
  },
  {
   "cell_type": "code",
   "execution_count": 15,
   "id": "354e0d6e",
   "metadata": {},
   "outputs": [
    {
     "data": {
      "image/png": "[encoded data removed]",
      "text/plain": [
       "<Figure size 432x288 with 1 Axes>"
      ]
     },
     "metadata": {},
     "output_type": "display_data"
    }
   ],
   "source": [
    "values = train_df.FLAG_OWN_REALTY.value_counts().values\n",
    "colors = ['red', 'springgreen']\n",
    "labels = ['Not', 'Yes']\n",
    "explode = (0, 0.2)\n",
    "plt.pie(values, colors=colors, explode=explode, counterclock=True, shadow=True, autopct='%1.1f%%')\n",
    "plt.title('Client Owns a House?', color = 'black', fontweight = 'bold', fontsize = '16')\n",
    "plt.legend(labels, loc=3, title='FLAG_OWN_REALTY', bbox_to_anchor=(-0.2, 0))\n",
    "plt.show()"
   ]
  },
  {
   "cell_type": "code",
   "execution_count": 16,
   "id": "fa24e8b4",
   "metadata": {},
   "outputs": [],
   "source": [
    "def bar_plot(temp):\n",
    "    df = pd.DataFrame({'Status': temp.index,\n",
    "                       'Number': temp.values\n",
    "                      })\n",
    "    plt.figure(figsize = (13,10))\n",
    "    sns.set_color_codes(\"pastel\")\n",
    "    sns.barplot(x = 'Status', y=\"Number\", data=df)\n",
    "    locs, labels = plt.xticks()"
   ]
  },
  {
   "cell_type": "code",
   "execution_count": 17,
   "id": "fed6ec9f",
   "metadata": {},
   "outputs": [
    {
     "data": {
      "image/png": "[encoded data removed]",
      "text/plain": [
       "<Figure size 936x720 with 1 Axes>"
      ]
     },
     "metadata": {
      "needs_background": "light"
     },
     "output_type": "display_data"
    },
    {
     "name": "stdout",
     "output_type": "stream",
     "text": [
      "Married                 196432\n",
      "Single / not married     45444\n",
      "Civil marriage           29775\n",
      "Separated                19770\n",
      "Widow                    16088\n",
      "Unknown                      2\n",
      "Name: NAME_FAMILY_STATUS, dtype: int64\n"
     ]
    }
   ],
   "source": [
    "temp = train_df['NAME_FAMILY_STATUS'].value_counts()\n",
    "bar_plot(temp)\n",
    "plt.title('Family Status', color = 'black', fontweight = 'bold', fontsize = '20')\n",
    "plt.show()\n",
    "print(temp)"
   ]
  },
  {
   "cell_type": "markdown",
   "id": "364e0717",
   "metadata": {},
   "source": [
    "**Findings:**   \n",
    "\n",
    "We can see interesting client characteristics in these graphs, such as, our main product **(90.5 %) is cash loans**, more than half of our clients are **women (65.8 %)**, and the majority of our clients do not own a car or a house but are married. And that **people with lower educational levels tend to apply for more home credit loans**, we can conclude that people with lower educational levels earn less money than clients with higher educational levels.\n",
    "\n",
    "With these valuable insights, we can gain a better understanding of the types of clients we already have and adjust our portfolio and innovation management strategies to improve our products and services."
   ]
  },
  {
   "cell_type": "markdown",
   "id": "ff88a94a",
   "metadata": {},
   "source": [
    "## What about the client's loans amount distribution?"
   ]
  },
  {
   "cell_type": "code",
   "execution_count": 18,
   "id": "dcd9d438",
   "metadata": {},
   "outputs": [
    {
     "data": {
      "text/plain": [
       "Text(0.5, 1.0, 'Distribution Loan Amounts')"
      ]
     },
     "execution_count": 18,
     "metadata": {},
     "output_type": "execute_result"
    },
    {
     "data": {
      "image/png": "[encoded data removed]",
      "text/plain": [
       "<Figure size 864x360 with 1 Axes>"
      ]
     },
     "metadata": {
      "needs_background": "light"
     },
     "output_type": "display_data"
    }
   ],
   "source": [
    "plt.figure(figsize=(12,5))\n",
    "plt.title(\"Distribution of AMT_CREDIT\")\n",
    "ax = sns.distplot(train_df[\"AMT_CREDIT\"])\n",
    "plt.xlabel('Loan amount (in million dollars)')\n",
    "plt.ylabel('Density')\n",
    "plt.title('Distribution Loan Amounts')"
   ]
  },
  {
   "cell_type": "markdown",
   "id": "808d0de9",
   "metadata": {},
   "source": [
    "**To finish the exploratory analysis section**,it is important to reflect on some key conclusions Loan amounts distribution:\n",
    "- The vast majority of loan applications have a loan amount of less than $ 500,0000\n",
    "- There is a small but significant difference between loans of half a million dollars and those of one million dollars (second relative max point on the graph)\n",
    "- Despite the high density of loans under a million dollars, there are still outliers that we would recommend studying to understand the type of clients and their characteristics in order to determine if there is a market opportunity."
   ]
  },
  {
   "cell_type": "markdown",
   "id": "cdb59e23",
   "metadata": {},
   "source": [
    "## Data Curation"
   ]
  },
  {
   "cell_type": "markdown",
   "id": "37906ae3",
   "metadata": {},
   "source": [
    "#### To create a great data analysis, we must first go through a data curation process to determine which features have too many missing values."
   ]
  },
  {
   "cell_type": "code",
   "execution_count": 19,
   "id": "414cfccc",
   "metadata": {},
   "outputs": [],
   "source": [
    "#Function that shows the percentage of missiong values for each column\n",
    "\n",
    "def missing_data(data):\n",
    "    total = data.isnull().sum().sort_values(ascending = False)\n",
    "    percent = (data.isnull().sum()/data.isnull().count()*100).sort_values(ascending = False)\n",
    "    return pd.concat([total, percent], axis=1, keys=['Total', 'Percent']) "
   ]
  },
  {
   "cell_type": "code",
   "execution_count": 20,
   "id": "3d33ee2a",
   "metadata": {},
   "outputs": [
    {
     "data": {
      "text/html": [
       "<div>\n",
       "<style scoped>\n",
       "    .dataframe tbody tr th:only-of-type {\n",
       "        vertical-align: middle;\n",
       "    }\n",
       "\n",
       "    .dataframe tbody tr th {\n",
       "        vertical-align: top;\n",
       "    }\n",
       "\n",
       "    .dataframe thead th {\n",
       "        text-align: right;\n",
       "    }\n",
       "</style>\n",
       "<table border=\"1\" class=\"dataframe\">\n",
       "  <thead>\n",
       "    <tr style=\"text-align: right;\">\n",
       "      <th></th>\n",
       "      <th>Total</th>\n",
       "      <th>Percent</th>\n",
       "    </tr>\n",
       "  </thead>\n",
       "  <tbody>\n",
       "    <tr>\n",
       "      <th>COMMONAREA_MODE</th>\n",
       "      <td>214865</td>\n",
       "      <td>69.872297</td>\n",
       "    </tr>\n",
       "    <tr>\n",
       "      <th>COMMONAREA_AVG</th>\n",
       "      <td>214865</td>\n",
       "      <td>69.872297</td>\n",
       "    </tr>\n",
       "    <tr>\n",
       "      <th>COMMONAREA_MEDI</th>\n",
       "      <td>214865</td>\n",
       "      <td>69.872297</td>\n",
       "    </tr>\n",
       "    <tr>\n",
       "      <th>NONLIVINGAPARTMENTS_AVG</th>\n",
       "      <td>213514</td>\n",
       "      <td>69.432963</td>\n",
       "    </tr>\n",
       "    <tr>\n",
       "      <th>NONLIVINGAPARTMENTS_MODE</th>\n",
       "      <td>213514</td>\n",
       "      <td>69.432963</td>\n",
       "    </tr>\n",
       "    <tr>\n",
       "      <th>...</th>\n",
       "      <td>...</td>\n",
       "      <td>...</td>\n",
       "    </tr>\n",
       "    <tr>\n",
       "      <th>AMT_INCOME_TOTAL</th>\n",
       "      <td>0</td>\n",
       "      <td>0.000000</td>\n",
       "    </tr>\n",
       "    <tr>\n",
       "      <th>CNT_CHILDREN</th>\n",
       "      <td>0</td>\n",
       "      <td>0.000000</td>\n",
       "    </tr>\n",
       "    <tr>\n",
       "      <th>FLAG_OWN_REALTY</th>\n",
       "      <td>0</td>\n",
       "      <td>0.000000</td>\n",
       "    </tr>\n",
       "    <tr>\n",
       "      <th>ORGANIZATION_TYPE</th>\n",
       "      <td>0</td>\n",
       "      <td>0.000000</td>\n",
       "    </tr>\n",
       "    <tr>\n",
       "      <th>SK_ID_CURR</th>\n",
       "      <td>0</td>\n",
       "      <td>0.000000</td>\n",
       "    </tr>\n",
       "  </tbody>\n",
       "</table>\n",
       "<p>124 rows × 2 columns</p>\n",
       "</div>"
      ],
      "text/plain": [
       "                           Total    Percent\n",
       "COMMONAREA_MODE           214865  69.872297\n",
       "COMMONAREA_AVG            214865  69.872297\n",
       "COMMONAREA_MEDI           214865  69.872297\n",
       "NONLIVINGAPARTMENTS_AVG   213514  69.432963\n",
       "NONLIVINGAPARTMENTS_MODE  213514  69.432963\n",
       "...                          ...        ...\n",
       "AMT_INCOME_TOTAL               0   0.000000\n",
       "CNT_CHILDREN                   0   0.000000\n",
       "FLAG_OWN_REALTY                0   0.000000\n",
       "ORGANIZATION_TYPE              0   0.000000\n",
       "SK_ID_CURR                     0   0.000000\n",
       "\n",
       "[124 rows x 2 columns]"
      ]
     },
     "execution_count": 20,
     "metadata": {},
     "output_type": "execute_result"
    }
   ],
   "source": [
    "missing = missing_data(train_df)\n",
    "missing"
   ]
  },
  {
   "cell_type": "markdown",
   "id": "c967d257",
   "metadata": {},
   "source": [
    "**Explaining results**\n",
    "\n",
    "Missing data are observations that should have been recorded but were not. Values can be missing for a variety of reasons, and most of the time we don't know why people didn't answer certain questions.\n",
    "\n",
    "In order to have a successfull analysis we decided to only select the features based on a threshold for missing values of 5%. So we will work with columns with less than 5% of missing values are going to be used."
   ]
  },
  {
   "cell_type": "code",
   "execution_count": 21,
   "id": "d1ffa416",
   "metadata": {},
   "outputs": [
    {
     "data": {
      "text/html": [
       "<div>\n",
       "<style scoped>\n",
       "    .dataframe tbody tr th:only-of-type {\n",
       "        vertical-align: middle;\n",
       "    }\n",
       "\n",
       "    .dataframe tbody tr th {\n",
       "        vertical-align: top;\n",
       "    }\n",
       "\n",
       "    .dataframe thead th {\n",
       "        text-align: right;\n",
       "    }\n",
       "</style>\n",
       "<table border=\"1\" class=\"dataframe\">\n",
       "  <thead>\n",
       "    <tr style=\"text-align: right;\">\n",
       "      <th></th>\n",
       "      <th>NAME_TYPE_SUITE</th>\n",
       "      <th>FLAG_OWN_CAR</th>\n",
       "      <th>NAME_CONTRACT_TYPE</th>\n",
       "      <th>WEEKDAY_APPR_PROCESS_START</th>\n",
       "      <th>CODE_GENDER</th>\n",
       "      <th>NAME_HOUSING_TYPE</th>\n",
       "      <th>NAME_FAMILY_STATUS</th>\n",
       "      <th>NAME_EDUCATION_TYPE</th>\n",
       "      <th>NAME_INCOME_TYPE</th>\n",
       "      <th>FLAG_OWN_REALTY</th>\n",
       "      <th>ORGANIZATION_TYPE</th>\n",
       "    </tr>\n",
       "  </thead>\n",
       "  <tbody>\n",
       "    <tr>\n",
       "      <th>0</th>\n",
       "      <td>Unaccompanied</td>\n",
       "      <td>N</td>\n",
       "      <td>Cash loans</td>\n",
       "      <td>WEDNESDAY</td>\n",
       "      <td>M</td>\n",
       "      <td>House / apartment</td>\n",
       "      <td>Single / not married</td>\n",
       "      <td>Secondary / secondary special</td>\n",
       "      <td>Working</td>\n",
       "      <td>Y</td>\n",
       "      <td>Business Entity Type 3</td>\n",
       "    </tr>\n",
       "    <tr>\n",
       "      <th>1</th>\n",
       "      <td>Family</td>\n",
       "      <td>N</td>\n",
       "      <td>Cash loans</td>\n",
       "      <td>MONDAY</td>\n",
       "      <td>F</td>\n",
       "      <td>House / apartment</td>\n",
       "      <td>Married</td>\n",
       "      <td>Higher education</td>\n",
       "      <td>State servant</td>\n",
       "      <td>N</td>\n",
       "      <td>School</td>\n",
       "    </tr>\n",
       "    <tr>\n",
       "      <th>2</th>\n",
       "      <td>Unaccompanied</td>\n",
       "      <td>Y</td>\n",
       "      <td>Revolving loans</td>\n",
       "      <td>MONDAY</td>\n",
       "      <td>M</td>\n",
       "      <td>House / apartment</td>\n",
       "      <td>Single / not married</td>\n",
       "      <td>Secondary / secondary special</td>\n",
       "      <td>Working</td>\n",
       "      <td>Y</td>\n",
       "      <td>Government</td>\n",
       "    </tr>\n",
       "    <tr>\n",
       "      <th>3</th>\n",
       "      <td>Unaccompanied</td>\n",
       "      <td>N</td>\n",
       "      <td>Cash loans</td>\n",
       "      <td>WEDNESDAY</td>\n",
       "      <td>F</td>\n",
       "      <td>House / apartment</td>\n",
       "      <td>Civil marriage</td>\n",
       "      <td>Secondary / secondary special</td>\n",
       "      <td>Working</td>\n",
       "      <td>Y</td>\n",
       "      <td>Business Entity Type 3</td>\n",
       "    </tr>\n",
       "    <tr>\n",
       "      <th>4</th>\n",
       "      <td>Unaccompanied</td>\n",
       "      <td>N</td>\n",
       "      <td>Cash loans</td>\n",
       "      <td>THURSDAY</td>\n",
       "      <td>M</td>\n",
       "      <td>House / apartment</td>\n",
       "      <td>Single / not married</td>\n",
       "      <td>Secondary / secondary special</td>\n",
       "      <td>Working</td>\n",
       "      <td>Y</td>\n",
       "      <td>Religion</td>\n",
       "    </tr>\n",
       "  </tbody>\n",
       "</table>\n",
       "</div>"
      ],
      "text/plain": [
       "  NAME_TYPE_SUITE FLAG_OWN_CAR NAME_CONTRACT_TYPE WEEKDAY_APPR_PROCESS_START  \\\n",
       "0   Unaccompanied            N         Cash loans                  WEDNESDAY   \n",
       "1          Family            N         Cash loans                     MONDAY   \n",
       "2   Unaccompanied            Y    Revolving loans                     MONDAY   \n",
       "3   Unaccompanied            N         Cash loans                  WEDNESDAY   \n",
       "4   Unaccompanied            N         Cash loans                   THURSDAY   \n",
       "\n",
       "  CODE_GENDER  NAME_HOUSING_TYPE    NAME_FAMILY_STATUS  \\\n",
       "0           M  House / apartment  Single / not married   \n",
       "1           F  House / apartment               Married   \n",
       "2           M  House / apartment  Single / not married   \n",
       "3           F  House / apartment        Civil marriage   \n",
       "4           M  House / apartment  Single / not married   \n",
       "\n",
       "             NAME_EDUCATION_TYPE NAME_INCOME_TYPE FLAG_OWN_REALTY  \\\n",
       "0  Secondary / secondary special          Working               Y   \n",
       "1               Higher education    State servant               N   \n",
       "2  Secondary / secondary special          Working               Y   \n",
       "3  Secondary / secondary special          Working               Y   \n",
       "4  Secondary / secondary special          Working               Y   \n",
       "\n",
       "        ORGANIZATION_TYPE  \n",
       "0  Business Entity Type 3  \n",
       "1                  School  \n",
       "2              Government  \n",
       "3  Business Entity Type 3  \n",
       "4                Religion  "
      ]
     },
     "execution_count": 21,
     "metadata": {},
     "output_type": "execute_result"
    }
   ],
   "source": [
    "train_df = train_df[missing[missing[\"Percent\"]<5].index]\n",
    "\n",
    "for i in train_df.select_dtypes(include = 'float64').columns:\n",
    "    train_df[i].fillna(train_df[i].mode()[0], inplace=True)\n",
    "    \n",
    "for i in train_df.select_dtypes(include = 'int64').columns:\n",
    "    train_df[i].fillna(train_df[i].mode()[0], inplace=True)\n",
    "\n",
    "objects = train_df.select_dtypes(include=['object'])\n",
    "objects.head(5)"
   ]
  },
  {
   "cell_type": "markdown",
   "id": "8e649bfc",
   "metadata": {},
   "source": [
    "**The following step is the encoding process**\n",
    "\n",
    "For the sake of filling NaN values in the data set, our data science team decided to use the mode () function to fill in NaN values in the data set. This function returns the mode(s) of each element along the specified axis. The mode of a set of values is the value that occurs the most frequently, and it can have multiple values.\n",
    "\n",
    "Also, they decided to transform the categorical features to numerical data type instead of object data type in order to be able to fit and train our model. "
   ]
  },
  {
   "cell_type": "code",
   "execution_count": 22,
   "id": "4e57fb5b",
   "metadata": {},
   "outputs": [],
   "source": [
    "for i in objects.select_dtypes(include='object').columns:\n",
    "    enc = OrdinalEncoder()\n",
    "    objects[i].fillna(objects[i].mode()[0], inplace=True)\n",
    "    objects[i]= enc.fit_transform(objects[[i]])\n",
    "\n",
    "objects = objects.astype('int64')\n",
    "train_df = train_df.select_dtypes(exclude=['object'])"
   ]
  },
  {
   "cell_type": "code",
   "execution_count": 23,
   "id": "8410291d",
   "metadata": {},
   "outputs": [],
   "source": [
    "# Shift column 'TARGET' to first position\n",
    "first_column = train_df.pop('TARGET')\n",
    "train_df.insert(0, 'TARGET', first_column)"
   ]
  },
  {
   "cell_type": "code",
   "execution_count": 24,
   "id": "43cf5600",
   "metadata": {},
   "outputs": [
    {
     "data": {
      "text/html": [
       "<div>\n",
       "<style scoped>\n",
       "    .dataframe tbody tr th:only-of-type {\n",
       "        vertical-align: middle;\n",
       "    }\n",
       "\n",
       "    .dataframe tbody tr th {\n",
       "        vertical-align: top;\n",
       "    }\n",
       "\n",
       "    .dataframe thead th {\n",
       "        text-align: right;\n",
       "    }\n",
       "</style>\n",
       "<table border=\"1\" class=\"dataframe\">\n",
       "  <thead>\n",
       "    <tr style=\"text-align: right;\">\n",
       "      <th></th>\n",
       "      <th>TARGET</th>\n",
       "      <th>DEF_30_CNT_SOCIAL_CIRCLE</th>\n",
       "      <th>OBS_30_CNT_SOCIAL_CIRCLE</th>\n",
       "      <th>OBS_60_CNT_SOCIAL_CIRCLE</th>\n",
       "      <th>DEF_60_CNT_SOCIAL_CIRCLE</th>\n",
       "      <th>EXT_SOURCE_2</th>\n",
       "      <th>AMT_GOODS_PRICE</th>\n",
       "      <th>AMT_ANNUITY</th>\n",
       "      <th>CNT_FAM_MEMBERS</th>\n",
       "      <th>DAYS_LAST_PHONE_CHANGE</th>\n",
       "      <th>...</th>\n",
       "      <th>FLAG_OWN_CAR</th>\n",
       "      <th>NAME_CONTRACT_TYPE</th>\n",
       "      <th>WEEKDAY_APPR_PROCESS_START</th>\n",
       "      <th>CODE_GENDER</th>\n",
       "      <th>NAME_HOUSING_TYPE</th>\n",
       "      <th>NAME_FAMILY_STATUS</th>\n",
       "      <th>NAME_EDUCATION_TYPE</th>\n",
       "      <th>NAME_INCOME_TYPE</th>\n",
       "      <th>FLAG_OWN_REALTY</th>\n",
       "      <th>ORGANIZATION_TYPE</th>\n",
       "    </tr>\n",
       "  </thead>\n",
       "  <tbody>\n",
       "    <tr>\n",
       "      <th>0</th>\n",
       "      <td>1</td>\n",
       "      <td>2.0</td>\n",
       "      <td>2.0</td>\n",
       "      <td>2.0</td>\n",
       "      <td>2.0</td>\n",
       "      <td>0.262949</td>\n",
       "      <td>351000.0</td>\n",
       "      <td>24700.5</td>\n",
       "      <td>1.0</td>\n",
       "      <td>-1134.0</td>\n",
       "      <td>...</td>\n",
       "      <td>0</td>\n",
       "      <td>0</td>\n",
       "      <td>6</td>\n",
       "      <td>1</td>\n",
       "      <td>1</td>\n",
       "      <td>3</td>\n",
       "      <td>4</td>\n",
       "      <td>7</td>\n",
       "      <td>1</td>\n",
       "      <td>5</td>\n",
       "    </tr>\n",
       "    <tr>\n",
       "      <th>1</th>\n",
       "      <td>0</td>\n",
       "      <td>0.0</td>\n",
       "      <td>1.0</td>\n",
       "      <td>1.0</td>\n",
       "      <td>0.0</td>\n",
       "      <td>0.622246</td>\n",
       "      <td>1129500.0</td>\n",
       "      <td>35698.5</td>\n",
       "      <td>2.0</td>\n",
       "      <td>-828.0</td>\n",
       "      <td>...</td>\n",
       "      <td>0</td>\n",
       "      <td>0</td>\n",
       "      <td>1</td>\n",
       "      <td>0</td>\n",
       "      <td>1</td>\n",
       "      <td>1</td>\n",
       "      <td>1</td>\n",
       "      <td>4</td>\n",
       "      <td>0</td>\n",
       "      <td>39</td>\n",
       "    </tr>\n",
       "    <tr>\n",
       "      <th>2</th>\n",
       "      <td>0</td>\n",
       "      <td>0.0</td>\n",
       "      <td>0.0</td>\n",
       "      <td>0.0</td>\n",
       "      <td>0.0</td>\n",
       "      <td>0.555912</td>\n",
       "      <td>135000.0</td>\n",
       "      <td>6750.0</td>\n",
       "      <td>1.0</td>\n",
       "      <td>-815.0</td>\n",
       "      <td>...</td>\n",
       "      <td>1</td>\n",
       "      <td>1</td>\n",
       "      <td>1</td>\n",
       "      <td>1</td>\n",
       "      <td>1</td>\n",
       "      <td>3</td>\n",
       "      <td>4</td>\n",
       "      <td>7</td>\n",
       "      <td>1</td>\n",
       "      <td>11</td>\n",
       "    </tr>\n",
       "    <tr>\n",
       "      <th>3</th>\n",
       "      <td>0</td>\n",
       "      <td>0.0</td>\n",
       "      <td>2.0</td>\n",
       "      <td>2.0</td>\n",
       "      <td>0.0</td>\n",
       "      <td>0.650442</td>\n",
       "      <td>297000.0</td>\n",
       "      <td>29686.5</td>\n",
       "      <td>2.0</td>\n",
       "      <td>-617.0</td>\n",
       "      <td>...</td>\n",
       "      <td>0</td>\n",
       "      <td>0</td>\n",
       "      <td>6</td>\n",
       "      <td>0</td>\n",
       "      <td>1</td>\n",
       "      <td>0</td>\n",
       "      <td>4</td>\n",
       "      <td>7</td>\n",
       "      <td>1</td>\n",
       "      <td>5</td>\n",
       "    </tr>\n",
       "    <tr>\n",
       "      <th>4</th>\n",
       "      <td>0</td>\n",
       "      <td>0.0</td>\n",
       "      <td>0.0</td>\n",
       "      <td>0.0</td>\n",
       "      <td>0.0</td>\n",
       "      <td>0.322738</td>\n",
       "      <td>513000.0</td>\n",
       "      <td>21865.5</td>\n",
       "      <td>1.0</td>\n",
       "      <td>-1106.0</td>\n",
       "      <td>...</td>\n",
       "      <td>0</td>\n",
       "      <td>0</td>\n",
       "      <td>4</td>\n",
       "      <td>1</td>\n",
       "      <td>1</td>\n",
       "      <td>3</td>\n",
       "      <td>4</td>\n",
       "      <td>7</td>\n",
       "      <td>1</td>\n",
       "      <td>37</td>\n",
       "    </tr>\n",
       "  </tbody>\n",
       "</table>\n",
       "<p>5 rows × 65 columns</p>\n",
       "</div>"
      ],
      "text/plain": [
       "   TARGET  DEF_30_CNT_SOCIAL_CIRCLE  OBS_30_CNT_SOCIAL_CIRCLE  \\\n",
       "0       1                       2.0                       2.0   \n",
       "1       0                       0.0                       1.0   \n",
       "2       0                       0.0                       0.0   \n",
       "3       0                       0.0                       2.0   \n",
       "4       0                       0.0                       0.0   \n",
       "\n",
       "   OBS_60_CNT_SOCIAL_CIRCLE  DEF_60_CNT_SOCIAL_CIRCLE  EXT_SOURCE_2  \\\n",
       "0                       2.0                       2.0      0.262949   \n",
       "1                       1.0                       0.0      0.622246   \n",
       "2                       0.0                       0.0      0.555912   \n",
       "3                       2.0                       0.0      0.650442   \n",
       "4                       0.0                       0.0      0.322738   \n",
       "\n",
       "   AMT_GOODS_PRICE  AMT_ANNUITY  CNT_FAM_MEMBERS  DAYS_LAST_PHONE_CHANGE  ...  \\\n",
       "0         351000.0      24700.5              1.0                 -1134.0  ...   \n",
       "1        1129500.0      35698.5              2.0                  -828.0  ...   \n",
       "2         135000.0       6750.0              1.0                  -815.0  ...   \n",
       "3         297000.0      29686.5              2.0                  -617.0  ...   \n",
       "4         513000.0      21865.5              1.0                 -1106.0  ...   \n",
       "\n",
       "   FLAG_OWN_CAR  NAME_CONTRACT_TYPE  WEEKDAY_APPR_PROCESS_START  CODE_GENDER  \\\n",
       "0             0                   0                           6            1   \n",
       "1             0                   0                           1            0   \n",
       "2             1                   1                           1            1   \n",
       "3             0                   0                           6            0   \n",
       "4             0                   0                           4            1   \n",
       "\n",
       "   NAME_HOUSING_TYPE  NAME_FAMILY_STATUS  NAME_EDUCATION_TYPE  \\\n",
       "0                  1                   3                    4   \n",
       "1                  1                   1                    1   \n",
       "2                  1                   3                    4   \n",
       "3                  1                   0                    4   \n",
       "4                  1                   3                    4   \n",
       "\n",
       "   NAME_INCOME_TYPE  FLAG_OWN_REALTY  ORGANIZATION_TYPE  \n",
       "0                 7                1                  5  \n",
       "1                 4                0                 39  \n",
       "2                 7                1                 11  \n",
       "3                 7                1                  5  \n",
       "4                 7                1                 37  \n",
       "\n",
       "[5 rows x 65 columns]"
      ]
     },
     "execution_count": 24,
     "metadata": {},
     "output_type": "execute_result"
    }
   ],
   "source": [
    "train_df = train_df.join(objects)\n",
    "train_df.head(5)"
   ]
  },
  {
   "cell_type": "code",
   "execution_count": 25,
   "id": "92bdffbf",
   "metadata": {},
   "outputs": [
    {
     "name": "stdout",
     "output_type": "stream",
     "text": [
      "(307511, 64)\n",
      "(307511,)\n"
     ]
    }
   ],
   "source": [
    "X = train_df.iloc[:, 1:122]\n",
    "y = train_df['TARGET']\n",
    "\n",
    "print(X.shape)\n",
    "print(y.shape)"
   ]
  },
  {
   "cell_type": "markdown",
   "id": "0e500cfb",
   "metadata": {},
   "source": [
    "#### DATA CURATION is done now\n",
    "\n",
    "At the moment we have our most important features treated, all missing values were carefully analyzed  \n",
    "\n",
    "We now have a final dataset ready to go! \n",
    "Explain the shape\n",
    "Enforce what was done on curation"
   ]
  },
  {
   "cell_type": "code",
   "execution_count": 26,
   "id": "c90a5dd7",
   "metadata": {},
   "outputs": [
    {
     "name": "stdout",
     "output_type": "stream",
     "text": [
      "<class 'pandas.core.frame.DataFrame'>\n",
      "RangeIndex: 307511 entries, 0 to 307510\n",
      "Data columns (total 65 columns):\n",
      " #   Column                       Non-Null Count   Dtype  \n",
      "---  ------                       --------------   -----  \n",
      " 0   TARGET                       307511 non-null  int64  \n",
      " 1   DEF_30_CNT_SOCIAL_CIRCLE     307511 non-null  float64\n",
      " 2   OBS_30_CNT_SOCIAL_CIRCLE     307511 non-null  float64\n",
      " 3   OBS_60_CNT_SOCIAL_CIRCLE     307511 non-null  float64\n",
      " 4   DEF_60_CNT_SOCIAL_CIRCLE     307511 non-null  float64\n",
      " 5   EXT_SOURCE_2                 307511 non-null  float64\n",
      " 6   AMT_GOODS_PRICE              307511 non-null  float64\n",
      " 7   AMT_ANNUITY                  307511 non-null  float64\n",
      " 8   CNT_FAM_MEMBERS              307511 non-null  float64\n",
      " 9   DAYS_LAST_PHONE_CHANGE       307511 non-null  float64\n",
      " 10  FLAG_DOCUMENT_6              307511 non-null  int64  \n",
      " 11  CLIENT_AGE                   307511 non-null  float64\n",
      " 12  FLAG_DOCUMENT_21             307511 non-null  int64  \n",
      " 13  FLAG_DOCUMENT_2              307511 non-null  int64  \n",
      " 14  FLAG_DOCUMENT_3              307511 non-null  int64  \n",
      " 15  FLAG_DOCUMENT_20             307511 non-null  int64  \n",
      " 16  FLAG_DOCUMENT_4              307511 non-null  int64  \n",
      " 17  FLAG_DOCUMENT_5              307511 non-null  int64  \n",
      " 18  FLAG_DOCUMENT_7              307511 non-null  int64  \n",
      " 19  FLAG_DOCUMENT_17             307511 non-null  int64  \n",
      " 20  FLAG_DOCUMENT_8              307511 non-null  int64  \n",
      " 21  FLAG_DOCUMENT_9              307511 non-null  int64  \n",
      " 22  FLAG_DOCUMENT_19             307511 non-null  int64  \n",
      " 23  FLAG_DOCUMENT_10             307511 non-null  int64  \n",
      " 24  FLAG_DOCUMENT_11             307511 non-null  int64  \n",
      " 25  FLAG_DOCUMENT_18             307511 non-null  int64  \n",
      " 26  FLAG_DOCUMENT_13             307511 non-null  int64  \n",
      " 27  FLAG_DOCUMENT_14             307511 non-null  int64  \n",
      " 28  FLAG_DOCUMENT_15             307511 non-null  int64  \n",
      " 29  FLAG_DOCUMENT_16             307511 non-null  int64  \n",
      " 30  FLAG_DOCUMENT_12             307511 non-null  int64  \n",
      " 31  FLAG_WORK_PHONE              307511 non-null  int64  \n",
      " 32  LIVE_CITY_NOT_WORK_CITY      307511 non-null  int64  \n",
      " 33  REG_CITY_NOT_WORK_CITY       307511 non-null  int64  \n",
      " 34  REG_CITY_NOT_LIVE_CITY       307511 non-null  int64  \n",
      " 35  LIVE_REGION_NOT_WORK_REGION  307511 non-null  int64  \n",
      " 36  REG_REGION_NOT_WORK_REGION   307511 non-null  int64  \n",
      " 37  REG_REGION_NOT_LIVE_REGION   307511 non-null  int64  \n",
      " 38  HOUR_APPR_PROCESS_START      307511 non-null  int64  \n",
      " 39  REGION_RATING_CLIENT_W_CITY  307511 non-null  int64  \n",
      " 40  REGION_RATING_CLIENT         307511 non-null  int64  \n",
      " 41  FLAG_EMAIL                   307511 non-null  int64  \n",
      " 42  FLAG_PHONE                   307511 non-null  int64  \n",
      " 43  FLAG_CONT_MOBILE             307511 non-null  int64  \n",
      " 44  FLAG_EMP_PHONE               307511 non-null  int64  \n",
      " 45  FLAG_MOBIL                   307511 non-null  int64  \n",
      " 46  DAYS_ID_PUBLISH              307511 non-null  int64  \n",
      " 47  DAYS_REGISTRATION            307511 non-null  float64\n",
      " 48  DAYS_BIRTH                   307511 non-null  int64  \n",
      " 49  REGION_POPULATION_RELATIVE   307511 non-null  float64\n",
      " 50  AMT_CREDIT                   307511 non-null  float64\n",
      " 51  AMT_INCOME_TOTAL             307511 non-null  float64\n",
      " 52  CNT_CHILDREN                 307511 non-null  int64  \n",
      " 53  SK_ID_CURR                   307511 non-null  int64  \n",
      " 54  NAME_TYPE_SUITE              307511 non-null  int64  \n",
      " 55  FLAG_OWN_CAR                 307511 non-null  int64  \n",
      " 56  NAME_CONTRACT_TYPE           307511 non-null  int64  \n",
      " 57  WEEKDAY_APPR_PROCESS_START   307511 non-null  int64  \n",
      " 58  CODE_GENDER                  307511 non-null  int64  \n",
      " 59  NAME_HOUSING_TYPE            307511 non-null  int64  \n",
      " 60  NAME_FAMILY_STATUS           307511 non-null  int64  \n",
      " 61  NAME_EDUCATION_TYPE          307511 non-null  int64  \n",
      " 62  NAME_INCOME_TYPE             307511 non-null  int64  \n",
      " 63  FLAG_OWN_REALTY              307511 non-null  int64  \n",
      " 64  ORGANIZATION_TYPE            307511 non-null  int64  \n",
      "dtypes: float64(14), int64(51)\n",
      "memory usage: 152.5 MB\n"
     ]
    }
   ],
   "source": [
    "train_df.info()"
   ]
  },
  {
   "cell_type": "markdown",
   "id": "b0898419",
   "metadata": {},
   "source": [
    "## Pipelines for the rescue!"
   ]
  },
  {
   "cell_type": "markdown",
   "id": "d47dcc8b",
   "metadata": {},
   "source": [
    "When using machine learning techniques, a series of tasks such as preprocessing, feature extraction, model fitting, and validation are typically performed. A pipeline is a series of automated steps that can contain any number of jobs.\n",
    "\n",
    "That is why we are employing pipelines: they'll make finding the best solution to our problem easier and faster.\n",
    "In the following section of our problem solution, we'll use preprocessing pipelines to select the features, a basic imputer (applying a median value) to address NaN values, and a standardization phase to ensure that the data is aligned.\n",
    "We will also build Estimator pipelines for various models and assess their performance.\n"
   ]
  },
  {
   "cell_type": "code",
   "execution_count": 27,
   "id": "56fc4916",
   "metadata": {},
   "outputs": [],
   "source": [
    "train_df.fillna(0, inplace=True)\n",
    "y = train_df[\"TARGET\"]\n",
    "X = train_df.drop(columns=\"TARGET\")\n",
    "\n",
    "\n",
    "X_train,X_test,y_train,y_test = train_test_split(X,y,test_size=0.2)"
   ]
  },
  {
   "cell_type": "code",
   "execution_count": 28,
   "id": "37f3a4c8",
   "metadata": {},
   "outputs": [],
   "source": [
    "# Create a class to select numerical or categorical columns \n",
    "class DataFrameSelector(BaseEstimator, TransformerMixin):\n",
    "    def __init__(self, attribute_names):\n",
    "        self.attribute_names = attribute_names\n",
    "    def fit(self, X, y=None):\n",
    "        return self\n",
    "    def transform(self, X):\n",
    "        return X[self.attribute_names].values"
   ]
  },
  {
   "cell_type": "markdown",
   "id": "592f7818",
   "metadata": {},
   "source": [
    "#### Creating Float and Integer Pipelines\n",
    "\n",
    "Because there are different approaches to both data types, it is now time to create preprocessing pipelines for float and integer features.\n",
    "\n",
    "Finally, the goal is to have a \"typesPipeline\" pipeline for both data types' preprocessing tasks.\n"
   ]
  },
  {
   "cell_type": "code",
   "execution_count": 29,
   "id": "2a948108",
   "metadata": {},
   "outputs": [],
   "source": [
    "floatVariables = list(X_train.loc[:, X_train.dtypes == 'float64'].iloc[:, 1:].columns)\n",
    "integerVariables = list(X_train.loc[:, X_train.dtypes == 'int64'].iloc[:, 1:].columns)"
   ]
  },
  {
   "cell_type": "code",
   "execution_count": 30,
   "id": "de85a73f",
   "metadata": {},
   "outputs": [],
   "source": [
    "pipelineFloats = Pipeline([\n",
    "    ('selector', DataFrameSelector(floatVariables)),\n",
    "    ('imputer', SimpleImputer(strategy=\"median\")),\n",
    "    ('std_scaler', StandardScaler()),\n",
    "])\n",
    "\n",
    "pipelineIntegers = Pipeline([\n",
    "    ('selector', DataFrameSelector(integerVariables)),\n",
    "    ('imputer', SimpleImputer(strategy=\"median\")),\n",
    "    ('std_scaler', StandardScaler()),\n",
    "])"
   ]
  },
  {
   "cell_type": "code",
   "execution_count": 31,
   "id": "4d885afe",
   "metadata": {},
   "outputs": [],
   "source": [
    "typesPipeline = FeatureUnion(transformer_list=[\n",
    "    (\"pipelineFloats\", pipelineFloats),\n",
    "    (\"pipelineIntegers\", pipelineIntegers)\n",
    "])"
   ]
  },
  {
   "cell_type": "markdown",
   "id": "d5eaa128",
   "metadata": {},
   "source": [
    "## Feature Engeneering"
   ]
  },
  {
   "cell_type": "markdown",
   "id": "1d3613af",
   "metadata": {},
   "source": [
    "#### It is finally time to choose the best features for our machine learning models. We're almost done with the problem that was assigned to us.\n",
    "\n",
    "We will use a Random Forest model to ensure that we only use relevant and critical features. We believe that Random Forest is the best model for this task because we are dealing with a classification problem (repaid vs non-repaid loans) and they provide good predictive performance, low overfitting, and easy interpretability! We will also train the random forest model on our data and examine how it performs."
   ]
  },
  {
   "cell_type": "code",
   "execution_count": 32,
   "id": "62c5fcd0",
   "metadata": {},
   "outputs": [],
   "source": [
    "#undersample = RandomUnderSampler()\n",
    "oversample = SMOTE()"
   ]
  },
  {
   "cell_type": "code",
   "execution_count": 33,
   "id": "32fef4a0",
   "metadata": {},
   "outputs": [],
   "source": [
    "#X,y=undersample.fit_resample(X,y)\n",
    "X,y=oversample.fit_resample(X,y)"
   ]
  },
  {
   "cell_type": "code",
   "execution_count": 34,
   "id": "1b123cc7",
   "metadata": {},
   "outputs": [],
   "source": [
    "X_train,X_test,y_train,y_test = train_test_split(X,y,test_size=0.2)"
   ]
  },
  {
   "cell_type": "code",
   "execution_count": 35,
   "id": "c295fc9d",
   "metadata": {},
   "outputs": [
    {
     "name": "stdout",
     "output_type": "stream",
     "text": [
      "24\n",
      "Index(['DEF_30_CNT_SOCIAL_CIRCLE', 'OBS_30_CNT_SOCIAL_CIRCLE',\n",
      "       'OBS_60_CNT_SOCIAL_CIRCLE', 'EXT_SOURCE_2', 'AMT_GOODS_PRICE',\n",
      "       'AMT_ANNUITY', 'CNT_FAM_MEMBERS', 'DAYS_LAST_PHONE_CHANGE',\n",
      "       'CLIENT_AGE', 'HOUR_APPR_PROCESS_START', 'FLAG_PHONE', 'FLAG_EMP_PHONE',\n",
      "       'DAYS_ID_PUBLISH', 'DAYS_REGISTRATION', 'DAYS_BIRTH',\n",
      "       'REGION_POPULATION_RELATIVE', 'AMT_CREDIT', 'AMT_INCOME_TOTAL',\n",
      "       'SK_ID_CURR', 'FLAG_OWN_CAR', 'WEEKDAY_APPR_PROCESS_START',\n",
      "       'NAME_INCOME_TYPE', 'FLAG_OWN_REALTY', 'ORGANIZATION_TYPE'],\n",
      "      dtype='object')\n"
     ]
    }
   ],
   "source": [
    "model = RandomForestClassifier(n_estimators = 100,n_jobs=-1)\n",
    "feature_selection = SelectFromModel(model)\n",
    "sel = feature_selection.fit(X_train, y_train)\n",
    "selected_features= X_train.columns[(sel.get_support())]\n",
    "print(len(selected_features))\n",
    "print(selected_features)"
   ]
  },
  {
   "cell_type": "code",
   "execution_count": 36,
   "id": "016b4eb6",
   "metadata": {},
   "outputs": [
    {
     "data": {
      "text/html": [
       "<div>\n",
       "<style scoped>\n",
       "    .dataframe tbody tr th:only-of-type {\n",
       "        vertical-align: middle;\n",
       "    }\n",
       "\n",
       "    .dataframe tbody tr th {\n",
       "        vertical-align: top;\n",
       "    }\n",
       "\n",
       "    .dataframe thead th {\n",
       "        text-align: right;\n",
       "    }\n",
       "</style>\n",
       "<table border=\"1\" class=\"dataframe\">\n",
       "  <thead>\n",
       "    <tr style=\"text-align: right;\">\n",
       "      <th></th>\n",
       "      <th>Gini-importance</th>\n",
       "    </tr>\n",
       "  </thead>\n",
       "  <tbody>\n",
       "    <tr>\n",
       "      <th>AMT_GOODS_PRICE</th>\n",
       "      <td>8.426209e-02</td>\n",
       "    </tr>\n",
       "    <tr>\n",
       "      <th>DAYS_LAST_PHONE_CHANGE</th>\n",
       "      <td>8.044555e-02</td>\n",
       "    </tr>\n",
       "    <tr>\n",
       "      <th>OBS_30_CNT_SOCIAL_CIRCLE</th>\n",
       "      <td>7.955976e-02</td>\n",
       "    </tr>\n",
       "    <tr>\n",
       "      <th>OBS_60_CNT_SOCIAL_CIRCLE</th>\n",
       "      <td>7.317072e-02</td>\n",
       "    </tr>\n",
       "    <tr>\n",
       "      <th>CLIENT_AGE</th>\n",
       "      <td>3.491119e-02</td>\n",
       "    </tr>\n",
       "    <tr>\n",
       "      <th>FLAG_PHONE</th>\n",
       "      <td>2.844471e-02</td>\n",
       "    </tr>\n",
       "    <tr>\n",
       "      <th>DEF_30_CNT_SOCIAL_CIRCLE</th>\n",
       "      <td>2.316007e-02</td>\n",
       "    </tr>\n",
       "    <tr>\n",
       "      <th>CNT_FAM_MEMBERS</th>\n",
       "      <td>2.079382e-02</td>\n",
       "    </tr>\n",
       "    <tr>\n",
       "      <th>AMT_ANNUITY</th>\n",
       "      <td>1.844516e-02</td>\n",
       "    </tr>\n",
       "    <tr>\n",
       "      <th>EXT_SOURCE_2</th>\n",
       "      <td>1.536414e-02</td>\n",
       "    </tr>\n",
       "    <tr>\n",
       "      <th>DAYS_REGISTRATION</th>\n",
       "      <td>8.318641e-03</td>\n",
       "    </tr>\n",
       "    <tr>\n",
       "      <th>HOUR_APPR_PROCESS_START</th>\n",
       "      <td>7.046537e-03</td>\n",
       "    </tr>\n",
       "    <tr>\n",
       "      <th>FLAG_OWN_CAR</th>\n",
       "      <td>6.313851e-03</td>\n",
       "    </tr>\n",
       "    <tr>\n",
       "      <th>AMT_CREDIT</th>\n",
       "      <td>1.053764e-03</td>\n",
       "    </tr>\n",
       "    <tr>\n",
       "      <th>WEEKDAY_APPR_PROCESS_START</th>\n",
       "      <td>2.626865e-04</td>\n",
       "    </tr>\n",
       "    <tr>\n",
       "      <th>ORGANIZATION_TYPE</th>\n",
       "      <td>1.731002e-04</td>\n",
       "    </tr>\n",
       "    <tr>\n",
       "      <th>NAME_INCOME_TYPE</th>\n",
       "      <td>2.487412e-05</td>\n",
       "    </tr>\n",
       "    <tr>\n",
       "      <th>DAYS_BIRTH</th>\n",
       "      <td>1.665124e-05</td>\n",
       "    </tr>\n",
       "    <tr>\n",
       "      <th>FLAG_EMP_PHONE</th>\n",
       "      <td>1.396633e-05</td>\n",
       "    </tr>\n",
       "    <tr>\n",
       "      <th>DAYS_ID_PUBLISH</th>\n",
       "      <td>1.158644e-05</td>\n",
       "    </tr>\n",
       "    <tr>\n",
       "      <th>SK_ID_CURR</th>\n",
       "      <td>9.343588e-06</td>\n",
       "    </tr>\n",
       "    <tr>\n",
       "      <th>AMT_INCOME_TOTAL</th>\n",
       "      <td>6.048497e-06</td>\n",
       "    </tr>\n",
       "    <tr>\n",
       "      <th>REGION_POPULATION_RELATIVE</th>\n",
       "      <td>4.228344e-06</td>\n",
       "    </tr>\n",
       "    <tr>\n",
       "      <th>FLAG_OWN_REALTY</th>\n",
       "      <td>5.941329e-08</td>\n",
       "    </tr>\n",
       "  </tbody>\n",
       "</table>\n",
       "</div>"
      ],
      "text/plain": [
       "                            Gini-importance\n",
       "AMT_GOODS_PRICE                8.426209e-02\n",
       "DAYS_LAST_PHONE_CHANGE         8.044555e-02\n",
       "OBS_30_CNT_SOCIAL_CIRCLE       7.955976e-02\n",
       "OBS_60_CNT_SOCIAL_CIRCLE       7.317072e-02\n",
       "CLIENT_AGE                     3.491119e-02\n",
       "FLAG_PHONE                     2.844471e-02\n",
       "DEF_30_CNT_SOCIAL_CIRCLE       2.316007e-02\n",
       "CNT_FAM_MEMBERS                2.079382e-02\n",
       "AMT_ANNUITY                    1.844516e-02\n",
       "EXT_SOURCE_2                   1.536414e-02\n",
       "DAYS_REGISTRATION              8.318641e-03\n",
       "HOUR_APPR_PROCESS_START        7.046537e-03\n",
       "FLAG_OWN_CAR                   6.313851e-03\n",
       "AMT_CREDIT                     1.053764e-03\n",
       "WEEKDAY_APPR_PROCESS_START     2.626865e-04\n",
       "ORGANIZATION_TYPE              1.731002e-04\n",
       "NAME_INCOME_TYPE               2.487412e-05\n",
       "DAYS_BIRTH                     1.665124e-05\n",
       "FLAG_EMP_PHONE                 1.396633e-05\n",
       "DAYS_ID_PUBLISH                1.158644e-05\n",
       "SK_ID_CURR                     9.343588e-06\n",
       "AMT_INCOME_TOTAL               6.048497e-06\n",
       "REGION_POPULATION_RELATIVE     4.228344e-06\n",
       "FLAG_OWN_REALTY                5.941329e-08"
      ]
     },
     "execution_count": 36,
     "metadata": {},
     "output_type": "execute_result"
    }
   ],
   "source": [
    "feats = {} # a dict to hold feature_name: feature_importance\n",
    "for feature, importance in zip(train_df[selected_features[:].values], sel.estimator_.feature_importances_):\n",
    "    feats[feature] = importance #add the name/value pair \n",
    "\n",
    "importances = pd.DataFrame.from_dict(feats, orient='index').rename(columns={0: 'Gini-importance'})\n",
    "importances.sort_values( 'Gini-importance',ascending=False)"
   ]
  },
  {
   "cell_type": "markdown",
   "id": "0efafead",
   "metadata": {},
   "source": [
    "**Explaining feature importance and the big difference between the most important ones and the other**\n",
    "\n",
    "One feature appears to be far more important than the others: DAYS_LAST_PHONE_CHANGE, which represents \"How many days before application did client change phone\". This is very interesting. On the following cell we have our final and complete pipeline."
   ]
  },
  {
   "cell_type": "code",
   "execution_count": 37,
   "id": "02dc5599",
   "metadata": {},
   "outputs": [],
   "source": [
    "fullPipeline = Pipeline([\n",
    "    (\"typesPipeline\", typesPipeline),\n",
    "    (\"selected_features\", feature_selection)\n",
    "])"
   ]
  },
  {
   "cell_type": "markdown",
   "id": "dbc73cfe",
   "metadata": {},
   "source": [
    "## Last step: applying machine learning models to solve our problem"
   ]
  },
  {
   "cell_type": "markdown",
   "id": "b7897720",
   "metadata": {},
   "source": [
    "### Random Forest \n",
    "\n",
    "In the industry, random forest is very popular for classification problems. Because of its simplicity, it is a fast and flexible algorithm that is resistant to overfitting, has good performance, and has a high classification accuracy in general.\n",
    "Although the quality of the data has a significant impact on the performance of any model, in our case, the imbalanced dataset was a significant disadvantage, leading us to use over and under-sampling techniques.\n",
    "Random oversampling involves randomly duplicating minority class examples, whereas random undersampling involves randomly deleting majority class examples. Furthermore, we tested both solutions backstage, and the model with oversampled data outperformed the model with undersampled training data. When we want to ensure the presence of our best solution, the following model employs an oversample.\n",
    "\n",
    "\n"
   ]
  },
  {
   "cell_type": "code",
   "execution_count": 38,
   "id": "7c3781db",
   "metadata": {},
   "outputs": [],
   "source": [
    "randomForestModel = model"
   ]
  },
  {
   "cell_type": "code",
   "execution_count": 39,
   "id": "1b557b56",
   "metadata": {},
   "outputs": [],
   "source": [
    "pipelineRandomForest = Pipeline([\n",
    "    ('fullPipeline', typesPipeline),\n",
    "    ('randomForestModel', randomForestModel)\n",
    "])"
   ]
  },
  {
   "cell_type": "code",
   "execution_count": 40,
   "id": "3480228f",
   "metadata": {},
   "outputs": [],
   "source": [
    "pipelineRandomForest.fit(X_train, y_train)\n",
    "a = 1 #To avoind extensive print"
   ]
  },
  {
   "cell_type": "code",
   "execution_count": 41,
   "id": "cb89f070",
   "metadata": {},
   "outputs": [
    {
     "data": {
      "text/plain": [
       "0.9470439973468937"
      ]
     },
     "execution_count": 41,
     "metadata": {},
     "output_type": "execute_result"
    }
   ],
   "source": [
    "pipelineRandomForest.score(X_test,y_test)"
   ]
  },
  {
   "cell_type": "markdown",
   "id": "c5194d4d",
   "metadata": {},
   "source": [
    "**94,6% score?? Great !!**\n",
    "\n",
    "It looks like the model has potential!\n",
    "\n",
    "Lets analyze with other metrics..."
   ]
  },
  {
   "cell_type": "code",
   "execution_count": 42,
   "id": "56e9be50",
   "metadata": {},
   "outputs": [
    {
     "data": {
      "text/plain": [
       "<sklearn.metrics._plot.confusion_matrix.ConfusionMatrixDisplay at 0x19e811cf490>"
      ]
     },
     "execution_count": 42,
     "metadata": {},
     "output_type": "execute_result"
    },
    {
     "data": {
      "image/png": "[encoded data removed]",
      "text/plain": [
       "<Figure size 432x288 with 2 Axes>"
      ]
     },
     "metadata": {
      "needs_background": "light"
     },
     "output_type": "display_data"
    }
   ],
   "source": [
    "y_RF_predicted = pipelineRandomForest.predict(X_test)\n",
    "cf_matrix = confusion_matrix(y_test, y_RF_predicted)\n",
    "ConfusionMatrixDisplay(cf_matrix).plot()"
   ]
  },
  {
   "cell_type": "code",
   "execution_count": 43,
   "id": "15d41156",
   "metadata": {},
   "outputs": [
    {
     "name": "stdout",
     "output_type": "stream",
     "text": [
      "Precision score: 0.99\n",
      "Recall score: 0.903\n",
      "Accuracy score: 0.947\n",
      "F1 score: 0.944\n"
     ]
    }
   ],
   "source": [
    "print(f'Precision score: {round(precision_score(y_test, y_RF_predicted), 3)}')\n",
    "print(f'Recall score: {round(recall_score(y_test, y_RF_predicted), 3)}')\n",
    "print(f'Accuracy score: {round(accuracy_score(y_test, y_RF_predicted), 3)}')\n",
    "print(f'F1 score: {round(f1_score(y_test, y_RF_predicted), 3)}')"
   ]
  },
  {
   "cell_type": "markdown",
   "id": "c85ece26",
   "metadata": {},
   "source": [
    "**Explaining results**\n",
    "\n",
    "Excellent! Even with fewer data points, our model performs admirably. As evidenced by the confusion matrix, our predictions are extremely accurate. Furthermore, we have outstanding performance metrics.\n",
    "\n",
    "On paper, our model performs admirably, and the figures speak for themselves. What else do we bring to the table besides accurate predictions?\n",
    "\n",
    "During the development of these projects, we were confronted with a massive dataset containing an astronomical number of features; data collection typically represents a cost to the organization, and as we can see, most were ineffective in addressing this problem.\n"
   ]
  },
  {
   "cell_type": "markdown",
   "id": "e21eb437",
   "metadata": {},
   "source": [
    "### Logistic Regression"
   ]
  },
  {
   "cell_type": "markdown",
   "id": "1294885c",
   "metadata": {},
   "source": [
    "Cool! Random forest is working but what about other possible approaches for the problem?\n",
    "\n",
    "Logistic regression has also a lot of potential for classification problems!\n",
    "\n",
    "Lets see how it goes..."
   ]
  },
  {
   "cell_type": "code",
   "execution_count": 45,
   "id": "86c5a9bb",
   "metadata": {},
   "outputs": [],
   "source": [
    "# Simple Logistic Regression Model just to see if this type of approach works\n",
    "\n",
    "# Instantiating the model\n",
    "logisticRegressionModel = LogisticRegression()"
   ]
  },
  {
   "cell_type": "code",
   "execution_count": 46,
   "id": "2e11a36b",
   "metadata": {},
   "outputs": [],
   "source": [
    "# Inserting model in pipeline and fitting the data. Let's fit the logistic regression directly\n",
    "logisticRegressionPipeline = Pipeline([\n",
    "                    ('preprocessor', typesPipeline), \n",
    "                    ('logisticRegression', logisticRegressionModel)]\n",
    ")\n"
   ]
  },
  {
   "cell_type": "markdown",
   "id": "e6d70fd9",
   "metadata": {},
   "source": [
    "**Hyperparameter optimization** is the art of finding the best parameters for a logistic regression! Grid Search allows us to try several different options for parameter combinations and, at the end, finds the best ones!"
   ]
  },
  {
   "cell_type": "code",
   "execution_count": 47,
   "id": "f4517915",
   "metadata": {},
   "outputs": [],
   "source": [
    "# We used GridSearchCV to automate the tuning of hyperparameters\n",
    "\n",
    "# Parameters for Grid Search\n",
    "param_grid = {'logisticRegression__C': np.arange(0, 10, 1)} #, \"logisticRegression__penalty\":['none', 'l1', 'l2'], \"logisticRegression__solver\":['newton-cg', 'liblinear', 'saga']\n",
    "\n",
    "# Grid Search\n",
    "logisticRegressionPipelineCV = GridSearchCV(logisticRegressionPipeline, param_grid=param_grid, cv=5)"
   ]
  },
  {
   "cell_type": "markdown",
   "id": "8c4ba7b3",
   "metadata": {},
   "source": [
    "We ran the full Grid Search once to find out the perfect parameters, and the results were G = 8, Penalty = 'None' and Solver = 'Saga'. These were the parameters used. However, we had to re-run the model, and it didn't work to re-run Grid Search. So we let it run only G and commented out the rest!"
   ]
  },
  {
   "cell_type": "code",
   "execution_count": 48,
   "id": "3e784924",
   "metadata": {
    "scrolled": false
   },
   "outputs": [],
   "source": [
    "logisticRegressionPipelineCV.fit(X_train,y_train)\n",
    "a = 1 #To avoid extensive print"
   ]
  },
  {
   "cell_type": "code",
   "execution_count": 49,
   "id": "bc895df2",
   "metadata": {},
   "outputs": [
    {
     "name": "stdout",
     "output_type": "stream",
     "text": [
      "Tuned hpyerparameters: (best parameters) {'logisticRegression__C': 8}\n",
      "Accuracy: 0.8058952349869524\n"
     ]
    }
   ],
   "source": [
    "param_c = logisticRegressionPipelineCV.best_params_['logisticRegression__C']\n",
    "\n",
    "#param_penalty = logisticRegressionPipelineCV.best_params_['logisticRegression__penalty']\n",
    "#param_solver = logisticRegressionPipelineCV.best_params_['logisticRegression__solver']\n",
    "\n",
    "print(\"Tuned hpyerparameters: (best parameters)\", logisticRegressionPipelineCV.best_params_)\n",
    "print(\"Accuracy:\", logisticRegressionPipelineCV.best_score_)"
   ]
  },
  {
   "cell_type": "code",
   "execution_count": 50,
   "id": "d42b8d02",
   "metadata": {},
   "outputs": [
    {
     "name": "stdout",
     "output_type": "stream",
     "text": [
      "Precision score: 0.551\n",
      "Recall score: 0.589\n",
      "Accuracy score: 0.556\n",
      "F1 score: 0.569\n",
      "AUC score: 0.556\n"
     ]
    },
    {
     "data": {
      "text/plain": [
       "<sklearn.metrics._plot.confusion_matrix.ConfusionMatrixDisplay at 0x1c880ce8d90>"
      ]
     },
     "execution_count": 50,
     "metadata": {},
     "output_type": "execute_result"
    },
    {
     "data": {
      "image/png": "[encoded data removed]",
      "text/plain": [
       "<Figure size 432x288 with 2 Axes>"
      ]
     },
     "metadata": {
      "needs_background": "light"
     },
     "output_type": "display_data"
    }
   ],
   "source": [
    "log_reg_final = LogisticRegression(C = param_c, penalty = 'none', solver = 'saga', class_weight = 'balanced')\n",
    "\n",
    "log_reg_final.fit(X_train,y_train)\n",
    "y_test_predicted = log_reg_final.predict(X_test)\n",
    "\n",
    "print(f'Precision score: {round(precision_score(y_test, y_test_predicted), 3)}')\n",
    "print(f'Recall score: {round(recall_score(y_test, y_test_predicted), 3)}')\n",
    "print(f'Accuracy score: {round(accuracy_score(y_test, y_test_predicted), 3)}')\n",
    "print(f'F1 score: {round(f1_score(y_test, y_test_predicted), 3)}')\n",
    "print(f'AUC score: {round(roc_auc_score(y_test, y_test_predicted), 3)}')\n",
    "\n",
    "\n",
    "confusion_matrix = confusion_matrix(y_test,y_test_predicted, labels=[0, 1])\n",
    "\n",
    "ConfusionMatrixDisplay(confusion_matrix).plot()"
   ]
  },
  {
   "cell_type": "markdown",
   "id": "6c15e14c",
   "metadata": {},
   "source": [
    "**Explaining Results**\n",
    "\n",
    "It makes perfect sense that we tested a logistic regression model since we are interested in calculating the probability of a binary (yes/no) event occurring (the so called classification model). In our case, we are using a dummy dependent variable, where 0 corresponds to repaid loans and 1 corresponds to non repaid loans. The results are not as close to perfection as those verified with Random Forest. However, the model was able to predict the true labels better than the false labels, and that is halfway to a successful model! As we can see, in the upper left corner we have the true positives (the loans that were actually repaid - 0 labeled and 0 predicted). In the lower right corner we have the true negatives (the loans that were actually no repaid - 1 labeled and 1 predicted). These are the most important quadrants, where we must have the upper values - and we do!\n",
    "In the upper right corner we have the false negatives (we predicted the loans would be non repaid - 1 - when in fact they were repaid - 0) and in the lower left corner we have the false positives (we predicted the loans would be repaid - 0 - and, in fact, they were non repaid - 1). This last quadrant should also be the one where we have the lowest values - and it checks out! Good job!\n",
    "\n",
    "\n",
    "Note that class_weight = 'balanced' which means we are not biasing our records with the class_weight parameter. We solved the problem of imbalancement on the feature engeneering stage with oversampling and random forest."
   ]
  },
  {
   "cell_type": "markdown",
   "id": "9f797c2d",
   "metadata": {},
   "source": [
    "### XGBoost Model"
   ]
  },
  {
   "cell_type": "markdown",
   "id": "2bd3a0ae",
   "metadata": {},
   "source": [
    "Last but not least, lets try a XGBoost model to see how it behaves with our data.\n",
    "\n",
    "XGBoost, which stands for Extreme Gradient Boosting, is a scalable, distributed gradient-boosted decision tree (GBDT) machine learning library. It provides parallel tree boosting and is the leading machine learning library for classification problems like ours.\n",
    "The term “gradient boosting” comes from the idea of “boosting” or improving a single weak model by combining it with a number of other weak models in order to generate a collectively strong model. \n",
    "\n",
    "Will this be a winning model?"
   ]
  },
  {
   "cell_type": "code",
   "execution_count": 44,
   "id": "7b24cece",
   "metadata": {},
   "outputs": [],
   "source": [
    "XGBoost = xgb.XGBClassifier(random_state = 42, objective = 'binary:logistic', eval_metric = 'logloss')"
   ]
  },
  {
   "cell_type": "code",
   "execution_count": 45,
   "id": "af38d963",
   "metadata": {},
   "outputs": [],
   "source": [
    "# Creating a pipeline with XGBoost Classifier\n",
    "XGBPipeline = Pipeline([\n",
    "    ('fullPipeline', typesPipeline),\n",
    "    ('XGBoost', XGBoost)\n",
    "])"
   ]
  },
  {
   "cell_type": "code",
   "execution_count": 46,
   "id": "9ef8bf1f",
   "metadata": {},
   "outputs": [],
   "source": [
    "# Hyperparameter optimization\n",
    "param_distributions = {'XGBoost__n_estimators': np.arange(50, 201, 10)}  #, 'XGBoost__max_depth': np.arange(0, 51, 5), 'XGBoost__learning_rate': np.arange(0.000, 0.3, 0.02)\n",
    "\n",
    "XGBPipelineCVSearch = (\n",
    "    RandomizedSearchCV(\n",
    "        XGBPipeline, \n",
    "        param_distributions = param_distributions,\n",
    "        n_iter = 12, cv = 5, \n",
    "        scoring = 'recall', \n",
    "        random_state = 42,\n",
    "        n_jobs = 6)\n",
    ")"
   ]
  },
  {
   "cell_type": "code",
   "execution_count": 47,
   "id": "03d79565",
   "metadata": {},
   "outputs": [],
   "source": [
    "XGBPipelineCVSearch.fit(X_train, y_train)\n",
    "a = 1"
   ]
  },
  {
   "cell_type": "code",
   "execution_count": 55,
   "id": "4ab9eb5a",
   "metadata": {},
   "outputs": [
    {
     "data": {
      "text/plain": [
       "0.9113728690284011"
      ]
     },
     "execution_count": 55,
     "metadata": {},
     "output_type": "execute_result"
    }
   ],
   "source": [
    "XGBPipelineCVSearch.score(X_test,y_test)"
   ]
  },
  {
   "cell_type": "code",
   "execution_count": 56,
   "id": "f0b41b50",
   "metadata": {},
   "outputs": [],
   "source": [
    "XGB_best_estimator_search = XGBPipelineCVSearch.best_estimator_"
   ]
  },
  {
   "cell_type": "code",
   "execution_count": 57,
   "id": "50add6ea",
   "metadata": {},
   "outputs": [],
   "source": [
    "XGB_y_test_pred = XGB_best_estimator_search.predict(X_test)"
   ]
  },
  {
   "cell_type": "code",
   "execution_count": 58,
   "id": "e6afc58b",
   "metadata": {},
   "outputs": [],
   "source": [
    "XGB_precision_test = precision_score(y_test, XGB_y_test_pred)\n",
    "XGB_recall_test = recall_score(y_test, XGB_y_test_pred)\n",
    "XGB_f1_test = f1_score(y_test, XGB_y_test_pred)\n",
    "XGB_accuracy_test = accuracy_score(y_test, XGB_y_test_pred)\n",
    "XGB_roc_test = roc_auc_score(y_test, XGB_y_test_pred)"
   ]
  },
  {
   "cell_type": "code",
   "execution_count": 59,
   "id": "c44607ff",
   "metadata": {},
   "outputs": [],
   "source": [
    "arr1 = np.array([XGB_y_test_pred, y_test])"
   ]
  },
  {
   "cell_type": "code",
   "execution_count": 60,
   "id": "819d8c54",
   "metadata": {},
   "outputs": [
    {
     "name": "stdout",
     "output_type": "stream",
     "text": [
      "Original Array:\n",
      "[[0 0 1 ... 0 1 1]\n",
      " [0 0 1 ... 0 1 1]]\n",
      "Transposed Array:\n",
      "[[0 0]\n",
      " [0 0]\n",
      " [1 1]\n",
      " ...\n",
      " [0 0]\n",
      " [1 1]\n",
      " [1 1]]\n"
     ]
    }
   ],
   "source": [
    "print(f'Original Array:\\n{arr1}')\n",
    "\n",
    "arr1_transpose = arr1.transpose()\n",
    "\n",
    "print(f'Transposed Array:\\n{arr1_transpose}')"
   ]
  },
  {
   "cell_type": "code",
   "execution_count": 61,
   "id": "e38a92e2",
   "metadata": {},
   "outputs": [
    {
     "data": {
      "text/html": [
       "<div>\n",
       "<style scoped>\n",
       "    .dataframe tbody tr th:only-of-type {\n",
       "        vertical-align: middle;\n",
       "    }\n",
       "\n",
       "    .dataframe tbody tr th {\n",
       "        vertical-align: top;\n",
       "    }\n",
       "\n",
       "    .dataframe thead th {\n",
       "        text-align: right;\n",
       "    }\n",
       "</style>\n",
       "<table border=\"1\" class=\"dataframe\">\n",
       "  <thead>\n",
       "    <tr style=\"text-align: right;\">\n",
       "      <th></th>\n",
       "      <th>0</th>\n",
       "      <th>1</th>\n",
       "    </tr>\n",
       "  </thead>\n",
       "  <tbody>\n",
       "    <tr>\n",
       "      <th>0</th>\n",
       "      <td>0</td>\n",
       "      <td>0</td>\n",
       "    </tr>\n",
       "    <tr>\n",
       "      <th>1</th>\n",
       "      <td>0</td>\n",
       "      <td>0</td>\n",
       "    </tr>\n",
       "    <tr>\n",
       "      <th>2</th>\n",
       "      <td>1</td>\n",
       "      <td>1</td>\n",
       "    </tr>\n",
       "    <tr>\n",
       "      <th>3</th>\n",
       "      <td>0</td>\n",
       "      <td>0</td>\n",
       "    </tr>\n",
       "    <tr>\n",
       "      <th>4</th>\n",
       "      <td>0</td>\n",
       "      <td>0</td>\n",
       "    </tr>\n",
       "    <tr>\n",
       "      <th>...</th>\n",
       "      <td>...</td>\n",
       "      <td>...</td>\n",
       "    </tr>\n",
       "    <tr>\n",
       "      <th>113070</th>\n",
       "      <td>0</td>\n",
       "      <td>1</td>\n",
       "    </tr>\n",
       "    <tr>\n",
       "      <th>113071</th>\n",
       "      <td>0</td>\n",
       "      <td>0</td>\n",
       "    </tr>\n",
       "    <tr>\n",
       "      <th>113072</th>\n",
       "      <td>0</td>\n",
       "      <td>0</td>\n",
       "    </tr>\n",
       "    <tr>\n",
       "      <th>113073</th>\n",
       "      <td>1</td>\n",
       "      <td>1</td>\n",
       "    </tr>\n",
       "    <tr>\n",
       "      <th>113074</th>\n",
       "      <td>1</td>\n",
       "      <td>1</td>\n",
       "    </tr>\n",
       "  </tbody>\n",
       "</table>\n",
       "<p>113075 rows × 2 columns</p>\n",
       "</div>"
      ],
      "text/plain": [
       "        0  1\n",
       "0       0  0\n",
       "1       0  0\n",
       "2       1  1\n",
       "3       0  0\n",
       "4       0  0\n",
       "...    .. ..\n",
       "113070  0  1\n",
       "113071  0  0\n",
       "113072  0  0\n",
       "113073  1  1\n",
       "113074  1  1\n",
       "\n",
       "[113075 rows x 2 columns]"
      ]
     },
     "execution_count": 61,
     "metadata": {},
     "output_type": "execute_result"
    }
   ],
   "source": [
    "df = pd.DataFrame(arr1_transpose)\n",
    "df"
   ]
  },
  {
   "cell_type": "code",
   "execution_count": 62,
   "id": "2849bc74",
   "metadata": {},
   "outputs": [],
   "source": [
    "x = df[(df[0] == df[1])]\n",
    "tp = len(x[x[0] == 0]) #True Positive\n",
    "tn = len(x[x[0] == 1]) #True Negative \n",
    "x = df[(df[0] != df[1])] \n",
    "fp = len(x[x[0] == 0]) #False Positive\n",
    "fn = len(x[x[0] == 1]) #False Negative\n"
   ]
  },
  {
   "cell_type": "code",
   "execution_count": 63,
   "id": "92b07533",
   "metadata": {},
   "outputs": [
    {
     "data": {
      "text/plain": [
       "matrix([[56459,   245],\n",
       "        [ 4996, 51375]])"
      ]
     },
     "execution_count": 63,
     "metadata": {},
     "output_type": "execute_result"
    }
   ],
   "source": [
    "Matrix = [[tp,fn],[fp,tn]]\n",
    "Matrix = np.asmatrix(Matrix)\n",
    "Matrix"
   ]
  },
  {
   "cell_type": "code",
   "execution_count": 64,
   "id": "b27b29d1",
   "metadata": {},
   "outputs": [
    {
     "data": {
      "image/png": "[encoded data removed]",
      "text/plain": [
       "<Figure size 432x288 with 2 Axes>"
      ]
     },
     "metadata": {},
     "output_type": "display_data"
    }
   ],
   "source": [
    "import seaborn as sn\n",
    "\n",
    "df_cm = pd.DataFrame(Matrix, range(2), range(2))\n",
    "#plt.figure(figsize=(10,7)) \n",
    "sn.set(font_scale=1.1) # for label size\n",
    "confusion_matrix = sn.heatmap(df_cm, annot=True, fmt='g', annot_kws={\"size\": 12}) # font size\n",
    "confusion_matrix.set_ylabel('True label', fontsize=12)\n",
    "confusion_matrix.set_xlabel('Predicted label', fontsize=12)\n",
    "\n",
    "plt.show()"
   ]
  },
  {
   "cell_type": "code",
   "execution_count": 65,
   "id": "80912469",
   "metadata": {},
   "outputs": [
    {
     "name": "stdout",
     "output_type": "stream",
     "text": [
      "Precision score: 0.995\n",
      "Recall score: 0.911\n",
      "F1 score: 0.951\n",
      "Accuracy score: 0.954\n",
      "AUC score: 0.954\n"
     ]
    }
   ],
   "source": [
    "print(f'Precision score: {round(XGB_precision_test, 3)}')\n",
    "print(f'Recall score: {round(XGB_recall_test, 3)}')\n",
    "print(f'F1 score: {round(XGB_f1_test, 3)}')\n",
    "print(f'Accuracy score: {round(XGB_accuracy_test, 3)}')\n",
    "print(f'AUC score: {round(XGB_roc_test, 3)}')"
   ]
  },
  {
   "cell_type": "markdown",
   "id": "59442925",
   "metadata": {},
   "source": [
    "**Explaining results**\n",
    "\n",
    "This is not \"a\" winning model, this is THE winning model!\n",
    "These are the best results we could expect in a model. The scores are very high and the model behaves very well as we can see in the confusion matrix (best false positive and false negative results we have ever seen)."
   ]
  },
  {
   "cell_type": "markdown",
   "id": "7850c0d3",
   "metadata": {},
   "source": [
    "***Note***: we tried to run sklearn's confusion matrix but the following error kept coming up: \"\n",
    "TypeError: 'numpy.ndarray' object is not callable\". We tried to solve the error, but it wasn't possible at all. So, since this was our best model, we decided to create the confusion matrix ourselves, using seaborn's heatmaps."
   ]
  },
  {
   "cell_type": "markdown",
   "id": "efbc844a",
   "metadata": {},
   "source": [
    "## Conclusions"
   ]
  },
  {
   "cell_type": "markdown",
   "id": "d583bc41",
   "metadata": {},
   "source": [
    "From the understanding that machine learning's primary goal is to discover patterns in consumer data and then make predictions based on these intricate patterns in an attempt to address business questions and solve business problems. Through this notebook, we hoped to provide an optimal risk predictive solution to a major challenge that banks face in approving home loans to the right clients taking into account the information, as stated at the outset. We attempted to create three different models that optimized the bank's loan approval process in order to provide a positive client experience while keeping proper risk assessment in mind.\n",
    "\n",
    "In order to develop a good machine learning models we must first identify the best attributes that our \"ideal\" client must have, after reviewing the different attributes we have at our disposal, we identify the 3 most relevant attributes:\n",
    "**Days last phone change** (days before application did client change phone), **Obs 30 CNT social circle** (number of observations of client's social surroundings with observable 30 days past due), **Amt goods price** (price of the goods for which the loan is given), and **Obs 60 CNT social circle** (number of observations of client's social surroundings with observable 60 days past due).\n",
    "With these relevant attributes, we will be able to qualify our clients within our models and rate them to determine whether they are worthy of a loan or not.\n",
    "\n",
    "After reviewing our 3 models we can see that the best performing model is the XGBoost with Oversampling and feature selection from Random Forest that gave us almost perfect scores this gives the company enough security that they will be giving the loans to the right clients reducing the risk of losing money, giving also the opportunity to focus efforts on improving the products and services provided by the company.\n",
    "\n",
    "So we can say that the project was a success and could be use as a best practice implementation for the market to reduce risks on loan allocation process."
   ]
  },
  {
   "cell_type": "code",
   "execution_count": null,
   "id": "9c59de2b",
   "metadata": {},
   "outputs": [],
   "source": []
  }
 ],
 "metadata": {
  "kernelspec": {
   "display_name": "Python 3 (ipykernel)",
   "language": "python",
   "name": "python3"
  },
  "language_info": {
   "codemirror_mode": {
    "name": "ipython",
    "version": 3
   },
   "file_extension": ".py",
   "mimetype": "text/x-python",
   "name": "python",
   "nbconvert_exporter": "python",
   "pygments_lexer": "ipython3",
   "version": "3.9.7"
  },
  "toc": {
   "base_numbering": 1,
   "nav_menu": {},
   "number_sections": false,
   "sideBar": true,
   "skip_h1_title": false,
   "title_cell": "Table of Contents",
   "title_sidebar": "Contents",
   "toc_cell": false,
   "toc_position": {},
   "toc_section_display": true,
   "toc_window_display": false
  }
 },
 "nbformat": 4,
 "nbformat_minor": 5
}
