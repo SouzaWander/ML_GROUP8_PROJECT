{
 "cells": [
  {
   "cell_type": "markdown",
   "metadata": {},
   "source": [
    "### Bagging \n",
    "Bagging is an ensemble machine learning algorithm that combines the predictions from many decision trees.\n",
    "\n",
    "The way it works is that is draws multiple bootstrap samples from the training dataset and fits a decision tree on each. The predictions from the decision trees are then combined to provide a more accurate prediction than a single decision tree. \n"
   ]
  },
  {
   "cell_type": "code",
   "execution_count": 1,
   "metadata": {},
   "outputs": [
    {
     "data": {
      "application/javascript": [
       "\n",
       "            setTimeout(function() {\n",
       "                var nbb_cell_id = 1;\n",
       "                var nbb_unformatted_code = \"from IPython.core.debugger import set_trace\\n\\n%load_ext nb_black\\n\\nimport pandas as pd\\nimport numpy as np\\nfrom time import time\\nimport matplotlib.pyplot as plt\\n\\nplt.style.use(style=\\\"seaborn\\\")\\n%matplotlib inline\";\n",
       "                var nbb_formatted_code = \"from IPython.core.debugger import set_trace\\n\\n%load_ext nb_black\\n\\nimport pandas as pd\\nimport numpy as np\\nfrom time import time\\nimport matplotlib.pyplot as plt\\n\\nplt.style.use(style=\\\"seaborn\\\")\\n%matplotlib inline\";\n",
       "                var nbb_cells = Jupyter.notebook.get_cells();\n",
       "                for (var i = 0; i < nbb_cells.length; ++i) {\n",
       "                    if (nbb_cells[i].input_prompt_number == nbb_cell_id) {\n",
       "                        if (nbb_cells[i].get_text() == nbb_unformatted_code) {\n",
       "                             nbb_cells[i].set_text(nbb_formatted_code);\n",
       "                        }\n",
       "                        break;\n",
       "                    }\n",
       "                }\n",
       "            }, 500);\n",
       "            "
      ],
      "text/plain": [
       "<IPython.core.display.Javascript object>"
      ]
     },
     "metadata": {},
     "output_type": "display_data"
    }
   ],
   "source": [
    "from IPython.core.debugger import set_trace\n",
    "\n",
    "%load_ext nb_black\n",
    "\n",
    "import pandas as pd\n",
    "import numpy as np\n",
    "from time import time\n",
    "import matplotlib.pyplot as plt\n",
    "\n",
    "plt.style.use(style=\"seaborn\")\n",
    "%matplotlib inline"
   ]
  },
  {
   "cell_type": "code",
   "execution_count": 2,
   "metadata": {},
   "outputs": [
    {
     "data": {
      "application/javascript": [
       "\n",
       "            setTimeout(function() {\n",
       "                var nbb_cell_id = 2;\n",
       "                var nbb_unformatted_code = \"from sklearn.datasets import make_classification\\n\\nX, y = make_classification(\\n    n_samples=100000, n_features=20, n_informative=15, n_redundant=5, random_state=0\\n)\";\n",
       "                var nbb_formatted_code = \"from sklearn.datasets import make_classification\\n\\nX, y = make_classification(\\n    n_samples=100000, n_features=20, n_informative=15, n_redundant=5, random_state=0\\n)\";\n",
       "                var nbb_cells = Jupyter.notebook.get_cells();\n",
       "                for (var i = 0; i < nbb_cells.length; ++i) {\n",
       "                    if (nbb_cells[i].input_prompt_number == nbb_cell_id) {\n",
       "                        if (nbb_cells[i].get_text() == nbb_unformatted_code) {\n",
       "                             nbb_cells[i].set_text(nbb_formatted_code);\n",
       "                        }\n",
       "                        break;\n",
       "                    }\n",
       "                }\n",
       "            }, 500);\n",
       "            "
      ],
      "text/plain": [
       "<IPython.core.display.Javascript object>"
      ]
     },
     "metadata": {},
     "output_type": "display_data"
    }
   ],
   "source": [
    "from sklearn.datasets import make_classification\n",
    "\n",
    "X, y = make_classification(\n",
    "    n_samples=100000, n_features=20, n_informative=15, n_redundant=5, random_state=0\n",
    ")"
   ]
  },
  {
   "cell_type": "code",
   "execution_count": 3,
   "metadata": {},
   "outputs": [
    {
     "data": {
      "text/plain": [
       "(100000, 20)"
      ]
     },
     "execution_count": 3,
     "metadata": {},
     "output_type": "execute_result"
    },
    {
     "data": {
      "application/javascript": [
       "\n",
       "            setTimeout(function() {\n",
       "                var nbb_cell_id = 3;\n",
       "                var nbb_unformatted_code = \"X.shape\";\n",
       "                var nbb_formatted_code = \"X.shape\";\n",
       "                var nbb_cells = Jupyter.notebook.get_cells();\n",
       "                for (var i = 0; i < nbb_cells.length; ++i) {\n",
       "                    if (nbb_cells[i].input_prompt_number == nbb_cell_id) {\n",
       "                        if (nbb_cells[i].get_text() == nbb_unformatted_code) {\n",
       "                             nbb_cells[i].set_text(nbb_formatted_code);\n",
       "                        }\n",
       "                        break;\n",
       "                    }\n",
       "                }\n",
       "            }, 500);\n",
       "            "
      ],
      "text/plain": [
       "<IPython.core.display.Javascript object>"
      ]
     },
     "metadata": {},
     "output_type": "display_data"
    }
   ],
   "source": [
    "X.shape"
   ]
  },
  {
   "cell_type": "code",
   "execution_count": 4,
   "metadata": {},
   "outputs": [
    {
     "data": {
      "application/javascript": [
       "\n",
       "            setTimeout(function() {\n",
       "                var nbb_cell_id = 4;\n",
       "                var nbb_unformatted_code = \"from sklearn.ensemble import BaggingClassifier\\nfrom sklearn.model_selection import cross_val_score\\nfrom sklearn.model_selection import RepeatedStratifiedKFold\";\n",
       "                var nbb_formatted_code = \"from sklearn.ensemble import BaggingClassifier\\nfrom sklearn.model_selection import cross_val_score\\nfrom sklearn.model_selection import RepeatedStratifiedKFold\";\n",
       "                var nbb_cells = Jupyter.notebook.get_cells();\n",
       "                for (var i = 0; i < nbb_cells.length; ++i) {\n",
       "                    if (nbb_cells[i].input_prompt_number == nbb_cell_id) {\n",
       "                        if (nbb_cells[i].get_text() == nbb_unformatted_code) {\n",
       "                             nbb_cells[i].set_text(nbb_formatted_code);\n",
       "                        }\n",
       "                        break;\n",
       "                    }\n",
       "                }\n",
       "            }, 500);\n",
       "            "
      ],
      "text/plain": [
       "<IPython.core.display.Javascript object>"
      ]
     },
     "metadata": {},
     "output_type": "display_data"
    }
   ],
   "source": [
    "from sklearn.ensemble import BaggingClassifier\n",
    "from sklearn.model_selection import cross_val_score\n",
    "from sklearn.model_selection import RepeatedStratifiedKFold"
   ]
  },
  {
   "cell_type": "code",
   "execution_count": 5,
   "metadata": {},
   "outputs": [
    {
     "name": "stdout",
     "output_type": "stream",
     "text": [
      "Mean Accuracy: 0.947\n",
      "Std: 0.001\n",
      "Run time: 23.881s\n"
     ]
    },
    {
     "data": {
      "application/javascript": [
       "\n",
       "            setTimeout(function() {\n",
       "                var nbb_cell_id = 5;\n",
       "                var nbb_unformatted_code = \"model = BaggingClassifier()\\n\\nstart = time()\\ncv = RepeatedStratifiedKFold(n_splits=5, n_repeats=2, random_state=0)\\nscore = cross_val_score(model, X, y, scoring=\\\"accuracy\\\", cv=cv, n_jobs=-1)\\n\\nprint(\\n    f\\\"Mean Accuracy: {np.mean(score):.3f}\\\\nStd: {np.std(score):.3f}\\\\nRun time: {(time() - start):.3f}s\\\"\\n)\";\n",
       "                var nbb_formatted_code = \"model = BaggingClassifier()\\n\\nstart = time()\\ncv = RepeatedStratifiedKFold(n_splits=5, n_repeats=2, random_state=0)\\nscore = cross_val_score(model, X, y, scoring=\\\"accuracy\\\", cv=cv, n_jobs=-1)\\n\\nprint(\\n    f\\\"Mean Accuracy: {np.mean(score):.3f}\\\\nStd: {np.std(score):.3f}\\\\nRun time: {(time() - start):.3f}s\\\"\\n)\";\n",
       "                var nbb_cells = Jupyter.notebook.get_cells();\n",
       "                for (var i = 0; i < nbb_cells.length; ++i) {\n",
       "                    if (nbb_cells[i].input_prompt_number == nbb_cell_id) {\n",
       "                        if (nbb_cells[i].get_text() == nbb_unformatted_code) {\n",
       "                             nbb_cells[i].set_text(nbb_formatted_code);\n",
       "                        }\n",
       "                        break;\n",
       "                    }\n",
       "                }\n",
       "            }, 500);\n",
       "            "
      ],
      "text/plain": [
       "<IPython.core.display.Javascript object>"
      ]
     },
     "metadata": {},
     "output_type": "display_data"
    }
   ],
   "source": [
    "model = BaggingClassifier()\n",
    "\n",
    "start = time()\n",
    "cv = RepeatedStratifiedKFold(n_splits=5, n_repeats=2, random_state=0)\n",
    "score = cross_val_score(model, X, y, scoring=\"accuracy\", cv=cv, n_jobs=-1)\n",
    "\n",
    "print(\n",
    "    f\"Mean Accuracy: {np.mean(score):.3f}\\nStd: {np.std(score):.3f}\\nRun time: {(time() - start):.3f}s\"\n",
    ")"
   ]
  },
  {
   "cell_type": "markdown",
   "metadata": {},
   "source": [
    "### Hyperparameters"
   ]
  },
  {
   "cell_type": "markdown",
   "metadata": {},
   "source": [
    "#### Number of Trees"
   ]
  },
  {
   "cell_type": "code",
   "execution_count": null,
   "metadata": {},
   "outputs": [],
   "source": [
    "%%time \n",
    "\n",
    "res = {}\n",
    "for i in [10, 25, 50, 100, 200, 400, 800]:\n",
    "    model = BaggingClassifier(n_estimators=i)\n",
    "\n",
    "    cv = RepeatedStratifiedKFold(n_splits=3, n_repeats=2, random_state=0)\n",
    "    res[f'{i}'] = cross_val_score(model, X, y, scoring=\"accuracy\", cv=cv, n_jobs=-1)\n",
    "    \n",
    "#CPU times: user 599 ms, sys: 398 ms, total: 997 ms\n",
    "#Wall time: 43min 39s"
   ]
  },
  {
   "cell_type": "code",
   "execution_count": 6,
   "metadata": {},
   "outputs": [
    {
     "data": {
      "application/javascript": [
       "\n",
       "            setTimeout(function() {\n",
       "                var nbb_cell_id = 6;\n",
       "                var nbb_unformatted_code = \"res = {\\n    \\\"10\\\": np.array(\\n        [0.94465111, 0.94449944, 0.94503945, 0.94837103, 0.94200942, 0.94548945]\\n    ),\\n    \\\"25\\\": np.array(\\n        [0.95557089, 0.95514955, 0.95685957, 0.95899082, 0.9502895, 0.95625956]\\n    ),\\n    \\\"50\\\": np.array(\\n        [0.95830083, 0.95655957, 0.95748957, 0.95932081, 0.95568956, 0.95805958]\\n    ),\\n    \\\"100\\\": np.array(\\n        [0.9600408, 0.95811958, 0.95937959, 0.96178076, 0.95655957, 0.9595596]\\n    ),\\n    \\\"200\\\": np.array(\\n        [0.9597708, 0.95898959, 0.9603396, 0.96166077, 0.95541955, 0.9603096]\\n    ),\\n    \\\"400\\\": np.array(\\n        [0.96070079, 0.95880959, 0.95922959, 0.96223076, 0.95652957, 0.96174962]\\n    ),\\n    \\\"800\\\": np.array(\\n        [0.96043079, 0.95937959, 0.9602796, 0.96238075, 0.95556956, 0.96114961]\\n    ),\\n}\";\n",
       "                var nbb_formatted_code = \"res = {\\n    \\\"10\\\": np.array(\\n        [0.94465111, 0.94449944, 0.94503945, 0.94837103, 0.94200942, 0.94548945]\\n    ),\\n    \\\"25\\\": np.array(\\n        [0.95557089, 0.95514955, 0.95685957, 0.95899082, 0.9502895, 0.95625956]\\n    ),\\n    \\\"50\\\": np.array(\\n        [0.95830083, 0.95655957, 0.95748957, 0.95932081, 0.95568956, 0.95805958]\\n    ),\\n    \\\"100\\\": np.array(\\n        [0.9600408, 0.95811958, 0.95937959, 0.96178076, 0.95655957, 0.9595596]\\n    ),\\n    \\\"200\\\": np.array(\\n        [0.9597708, 0.95898959, 0.9603396, 0.96166077, 0.95541955, 0.9603096]\\n    ),\\n    \\\"400\\\": np.array(\\n        [0.96070079, 0.95880959, 0.95922959, 0.96223076, 0.95652957, 0.96174962]\\n    ),\\n    \\\"800\\\": np.array(\\n        [0.96043079, 0.95937959, 0.9602796, 0.96238075, 0.95556956, 0.96114961]\\n    ),\\n}\";\n",
       "                var nbb_cells = Jupyter.notebook.get_cells();\n",
       "                for (var i = 0; i < nbb_cells.length; ++i) {\n",
       "                    if (nbb_cells[i].input_prompt_number == nbb_cell_id) {\n",
       "                        if (nbb_cells[i].get_text() == nbb_unformatted_code) {\n",
       "                             nbb_cells[i].set_text(nbb_formatted_code);\n",
       "                        }\n",
       "                        break;\n",
       "                    }\n",
       "                }\n",
       "            }, 500);\n",
       "            "
      ],
      "text/plain": [
       "<IPython.core.display.Javascript object>"
      ]
     },
     "metadata": {},
     "output_type": "display_data"
    }
   ],
   "source": [
    "res = {\n",
    "    \"10\": np.array(\n",
    "        [0.94465111, 0.94449944, 0.94503945, 0.94837103, 0.94200942, 0.94548945]\n",
    "    ),\n",
    "    \"25\": np.array(\n",
    "        [0.95557089, 0.95514955, 0.95685957, 0.95899082, 0.9502895, 0.95625956]\n",
    "    ),\n",
    "    \"50\": np.array(\n",
    "        [0.95830083, 0.95655957, 0.95748957, 0.95932081, 0.95568956, 0.95805958]\n",
    "    ),\n",
    "    \"100\": np.array(\n",
    "        [0.9600408, 0.95811958, 0.95937959, 0.96178076, 0.95655957, 0.9595596]\n",
    "    ),\n",
    "    \"200\": np.array(\n",
    "        [0.9597708, 0.95898959, 0.9603396, 0.96166077, 0.95541955, 0.9603096]\n",
    "    ),\n",
    "    \"400\": np.array(\n",
    "        [0.96070079, 0.95880959, 0.95922959, 0.96223076, 0.95652957, 0.96174962]\n",
    "    ),\n",
    "    \"800\": np.array(\n",
    "        [0.96043079, 0.95937959, 0.9602796, 0.96238075, 0.95556956, 0.96114961]\n",
    "    ),\n",
    "}"
   ]
  },
  {
   "cell_type": "code",
   "execution_count": 7,
   "metadata": {},
   "outputs": [
    {
     "data": {
      "text/plain": [
       "['10', '25', '50', '100', '200', '400', '800']"
      ]
     },
     "execution_count": 7,
     "metadata": {},
     "output_type": "execute_result"
    },
    {
     "data": {
      "application/javascript": [
       "\n",
       "            setTimeout(function() {\n",
       "                var nbb_cell_id = 7;\n",
       "                var nbb_unformatted_code = \"list(res.keys())\";\n",
       "                var nbb_formatted_code = \"list(res.keys())\";\n",
       "                var nbb_cells = Jupyter.notebook.get_cells();\n",
       "                for (var i = 0; i < nbb_cells.length; ++i) {\n",
       "                    if (nbb_cells[i].input_prompt_number == nbb_cell_id) {\n",
       "                        if (nbb_cells[i].get_text() == nbb_unformatted_code) {\n",
       "                             nbb_cells[i].set_text(nbb_formatted_code);\n",
       "                        }\n",
       "                        break;\n",
       "                    }\n",
       "                }\n",
       "            }, 500);\n",
       "            "
      ],
      "text/plain": [
       "<IPython.core.display.Javascript object>"
      ]
     },
     "metadata": {},
     "output_type": "display_data"
    }
   ],
   "source": [
    "list(res.keys())"
   ]
  },
  {
   "cell_type": "code",
   "execution_count": 8,
   "metadata": {},
   "outputs": [
    {
     "data": {
      "image/png": "[encoded data removed]",
      "text/plain": [
       "<Figure size 1152x576 with 1 Axes>"
      ]
     },
     "metadata": {
      "needs_background": "light"
     },
     "output_type": "display_data"
    },
    {
     "data": {
      "application/javascript": [
       "\n",
       "            setTimeout(function() {\n",
       "                var nbb_cell_id = 8;\n",
       "                var nbb_unformatted_code = \"plt.figure(1, figsize=(16, 8))\\n_ = plt.boxplot(res.values(), labels=res.keys(), showmeans=True)\";\n",
       "                var nbb_formatted_code = \"plt.figure(1, figsize=(16, 8))\\n_ = plt.boxplot(res.values(), labels=res.keys(), showmeans=True)\";\n",
       "                var nbb_cells = Jupyter.notebook.get_cells();\n",
       "                for (var i = 0; i < nbb_cells.length; ++i) {\n",
       "                    if (nbb_cells[i].input_prompt_number == nbb_cell_id) {\n",
       "                        if (nbb_cells[i].get_text() == nbb_unformatted_code) {\n",
       "                             nbb_cells[i].set_text(nbb_formatted_code);\n",
       "                        }\n",
       "                        break;\n",
       "                    }\n",
       "                }\n",
       "            }, 500);\n",
       "            "
      ],
      "text/plain": [
       "<IPython.core.display.Javascript object>"
      ]
     },
     "metadata": {},
     "output_type": "display_data"
    }
   ],
   "source": [
    "plt.figure(1, figsize=(16, 8))\n",
    "_ = plt.boxplot(res.values(), labels=res.keys(), showmeans=True)"
   ]
  },
  {
   "cell_type": "markdown",
   "metadata": {},
   "source": [
    "#### Size of bootstrap sample\n",
    "\n",
    "The number of samples to draw (with replacement).\n",
    "\n",
    "We can pass this as a ratio of the original data from 0 to 1, 1 (100%) being the default."
   ]
  },
  {
   "cell_type": "code",
   "execution_count": null,
   "metadata": {},
   "outputs": [],
   "source": [
    "%%time \n",
    "\n",
    "sam = {}\n",
    "for i in [.1, .25, .5, .75, 1.]:\n",
    "    model = BaggingClassifier(n_estimators=100, max_samples=i)\n",
    "\n",
    "    cv = RepeatedStratifiedKFold(n_splits=3, n_repeats=2, random_state=0)\n",
    "    sam[f'{i*100}%'] = cross_val_score(model, X, y, scoring=\"accuracy\", cv=cv, n_jobs=-1)\n",
    "    \n",
    "#CPU times: user 274 ms, sys: 105 ms, total: 380 ms\n",
    "#Wall time: 6min 49s"
   ]
  },
  {
   "cell_type": "code",
   "execution_count": 9,
   "metadata": {},
   "outputs": [
    {
     "data": {
      "application/javascript": [
       "\n",
       "            setTimeout(function() {\n",
       "                var nbb_cell_id = 9;\n",
       "                var nbb_unformatted_code = \"sam = {\\n    \\\"10.0%\\\": np.array(\\n        [0.94663107, 0.94716947, 0.94695947, 0.94813104, 0.94659947, 0.94602946]\\n    ),\\n    \\\"25.0%\\\": np.array(\\n        [0.95365093, 0.95403954, 0.95421954, 0.95647087, 0.95415954, 0.95484955]\\n    ),\\n    \\\"50.0%\\\": np.array(\\n        [0.95779084, 0.95820958, 0.95811958, 0.95830083, 0.95616956, 0.95823958]\\n    ),\\n    \\\"75.0%\\\": np.array(\\n        [0.95923082, 0.95835958, 0.95901959, 0.95938081, 0.95484955, 0.95928959]\\n    ),\\n    \\\"100.0%\\\": np.array(\\n        [0.95947081, 0.95784958, 0.95907959, 0.96055079, 0.95604956, 0.96075961]\\n    ),\\n}\";\n",
       "                var nbb_formatted_code = \"sam = {\\n    \\\"10.0%\\\": np.array(\\n        [0.94663107, 0.94716947, 0.94695947, 0.94813104, 0.94659947, 0.94602946]\\n    ),\\n    \\\"25.0%\\\": np.array(\\n        [0.95365093, 0.95403954, 0.95421954, 0.95647087, 0.95415954, 0.95484955]\\n    ),\\n    \\\"50.0%\\\": np.array(\\n        [0.95779084, 0.95820958, 0.95811958, 0.95830083, 0.95616956, 0.95823958]\\n    ),\\n    \\\"75.0%\\\": np.array(\\n        [0.95923082, 0.95835958, 0.95901959, 0.95938081, 0.95484955, 0.95928959]\\n    ),\\n    \\\"100.0%\\\": np.array(\\n        [0.95947081, 0.95784958, 0.95907959, 0.96055079, 0.95604956, 0.96075961]\\n    ),\\n}\";\n",
       "                var nbb_cells = Jupyter.notebook.get_cells();\n",
       "                for (var i = 0; i < nbb_cells.length; ++i) {\n",
       "                    if (nbb_cells[i].input_prompt_number == nbb_cell_id) {\n",
       "                        if (nbb_cells[i].get_text() == nbb_unformatted_code) {\n",
       "                             nbb_cells[i].set_text(nbb_formatted_code);\n",
       "                        }\n",
       "                        break;\n",
       "                    }\n",
       "                }\n",
       "            }, 500);\n",
       "            "
      ],
      "text/plain": [
       "<IPython.core.display.Javascript object>"
      ]
     },
     "metadata": {},
     "output_type": "display_data"
    }
   ],
   "source": [
    "sam = {\n",
    "    \"10.0%\": np.array(\n",
    "        [0.94663107, 0.94716947, 0.94695947, 0.94813104, 0.94659947, 0.94602946]\n",
    "    ),\n",
    "    \"25.0%\": np.array(\n",
    "        [0.95365093, 0.95403954, 0.95421954, 0.95647087, 0.95415954, 0.95484955]\n",
    "    ),\n",
    "    \"50.0%\": np.array(\n",
    "        [0.95779084, 0.95820958, 0.95811958, 0.95830083, 0.95616956, 0.95823958]\n",
    "    ),\n",
    "    \"75.0%\": np.array(\n",
    "        [0.95923082, 0.95835958, 0.95901959, 0.95938081, 0.95484955, 0.95928959]\n",
    "    ),\n",
    "    \"100.0%\": np.array(\n",
    "        [0.95947081, 0.95784958, 0.95907959, 0.96055079, 0.95604956, 0.96075961]\n",
    "    ),\n",
    "}"
   ]
  },
  {
   "cell_type": "code",
   "execution_count": 10,
   "metadata": {},
   "outputs": [
    {
     "data": {
      "image/png": "[encoded data removed]",
      "text/plain": [
       "<Figure size 1152x576 with 1 Axes>"
      ]
     },
     "metadata": {
      "needs_background": "light"
     },
     "output_type": "display_data"
    },
    {
     "data": {
      "application/javascript": [
       "\n",
       "            setTimeout(function() {\n",
       "                var nbb_cell_id = 10;\n",
       "                var nbb_unformatted_code = \"plt.figure(1, figsize=(16, 8))\\n_ = plt.boxplot(sam.values(), labels=sam.keys(), showmeans=True)\";\n",
       "                var nbb_formatted_code = \"plt.figure(1, figsize=(16, 8))\\n_ = plt.boxplot(sam.values(), labels=sam.keys(), showmeans=True)\";\n",
       "                var nbb_cells = Jupyter.notebook.get_cells();\n",
       "                for (var i = 0; i < nbb_cells.length; ++i) {\n",
       "                    if (nbb_cells[i].input_prompt_number == nbb_cell_id) {\n",
       "                        if (nbb_cells[i].get_text() == nbb_unformatted_code) {\n",
       "                             nbb_cells[i].set_text(nbb_formatted_code);\n",
       "                        }\n",
       "                        break;\n",
       "                    }\n",
       "                }\n",
       "            }, 500);\n",
       "            "
      ],
      "text/plain": [
       "<IPython.core.display.Javascript object>"
      ]
     },
     "metadata": {},
     "output_type": "display_data"
    }
   ],
   "source": [
    "plt.figure(1, figsize=(16, 8))\n",
    "_ = plt.boxplot(sam.values(), labels=sam.keys(), showmeans=True)"
   ]
  },
  {
   "cell_type": "code",
   "execution_count": null,
   "metadata": {},
   "outputs": [],
   "source": []
  }
 ],
 "metadata": {
  "kernelspec": {
   "display_name": "Python 3 (ipykernel)",
   "language": "python",
   "name": "python3"
  },
  "language_info": {
   "codemirror_mode": {
    "name": "ipython",
    "version": 3
   },
   "file_extension": ".py",
   "mimetype": "text/x-python",
   "name": "python",
   "nbconvert_exporter": "python",
   "pygments_lexer": "ipython3",
   "version": "3.9.7"
  },
  "toc": {
   "base_numbering": 1,
   "nav_menu": {},
   "number_sections": true,
   "sideBar": true,
   "skip_h1_title": false,
   "title_cell": "Table of Contents",
   "title_sidebar": "Contents",
   "toc_cell": false,
   "toc_position": {},
   "toc_section_display": true,
   "toc_window_display": false
  }
 },
 "nbformat": 4,
 "nbformat_minor": 4
}
