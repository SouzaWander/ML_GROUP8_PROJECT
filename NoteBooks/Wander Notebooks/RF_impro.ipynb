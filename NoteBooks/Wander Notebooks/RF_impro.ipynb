{
 "cells": [
  {
   "cell_type": "code",
   "execution_count": 1,
   "id": "2d1fa5e0-f4ef-49c1-aa70-9798a8f955d0",
   "metadata": {},
   "outputs": [],
   "source": [
    "#All imports used\n",
    "import numpy as np\n",
    "import pandas as pd \n",
    "from sklearn.preprocessing import LabelEncoder\n",
    "import os\n",
    "import warnings\n",
    "warnings.filterwarnings('ignore')\n",
    "import matplotlib.pyplot as plt\n",
    "import seaborn as sns\n",
    "color = sns.color_palette()"
   ]
  },
  {
   "cell_type": "code",
   "execution_count": 2,
   "id": "b1316ccd-8e4d-41b7-92b6-85c500e94d64",
   "metadata": {},
   "outputs": [
    {
     "data": {
      "text/html": [
       "<div>\n",
       "<style scoped>\n",
       "    .dataframe tbody tr th:only-of-type {\n",
       "        vertical-align: middle;\n",
       "    }\n",
       "\n",
       "    .dataframe tbody tr th {\n",
       "        vertical-align: top;\n",
       "    }\n",
       "\n",
       "    .dataframe thead th {\n",
       "        text-align: right;\n",
       "    }\n",
       "</style>\n",
       "<table border=\"1\" class=\"dataframe\">\n",
       "  <thead>\n",
       "    <tr style=\"text-align: right;\">\n",
       "      <th></th>\n",
       "      <th>SK_ID_CURR</th>\n",
       "      <th>TARGET</th>\n",
       "      <th>NAME_CONTRACT_TYPE</th>\n",
       "      <th>CODE_GENDER</th>\n",
       "      <th>FLAG_OWN_CAR</th>\n",
       "      <th>FLAG_OWN_REALTY</th>\n",
       "      <th>CNT_CHILDREN</th>\n",
       "      <th>AMT_INCOME_TOTAL</th>\n",
       "      <th>AMT_CREDIT</th>\n",
       "      <th>AMT_ANNUITY</th>\n",
       "      <th>...</th>\n",
       "      <th>FLAG_DOCUMENT_20</th>\n",
       "      <th>FLAG_DOCUMENT_21</th>\n",
       "      <th>AMT_REQ_CREDIT_BUREAU_HOUR</th>\n",
       "      <th>AMT_REQ_CREDIT_BUREAU_DAY</th>\n",
       "      <th>AMT_REQ_CREDIT_BUREAU_WEEK</th>\n",
       "      <th>AMT_REQ_CREDIT_BUREAU_MON</th>\n",
       "      <th>AMT_REQ_CREDIT_BUREAU_QRT</th>\n",
       "      <th>AMT_REQ_CREDIT_BUREAU_YEAR</th>\n",
       "      <th>CLIENT_AGE</th>\n",
       "      <th>YEARS_EMPLOYED</th>\n",
       "    </tr>\n",
       "  </thead>\n",
       "  <tbody>\n",
       "    <tr>\n",
       "      <th>0</th>\n",
       "      <td>100002</td>\n",
       "      <td>1</td>\n",
       "      <td>Cash loans</td>\n",
       "      <td>M</td>\n",
       "      <td>N</td>\n",
       "      <td>Y</td>\n",
       "      <td>0</td>\n",
       "      <td>202500.0</td>\n",
       "      <td>406597.5</td>\n",
       "      <td>24700.5</td>\n",
       "      <td>...</td>\n",
       "      <td>0</td>\n",
       "      <td>0</td>\n",
       "      <td>0.0</td>\n",
       "      <td>0.0</td>\n",
       "      <td>0.0</td>\n",
       "      <td>0.0</td>\n",
       "      <td>0.0</td>\n",
       "      <td>1.0</td>\n",
       "      <td>25.920548</td>\n",
       "      <td>0.001744</td>\n",
       "    </tr>\n",
       "    <tr>\n",
       "      <th>1</th>\n",
       "      <td>100003</td>\n",
       "      <td>0</td>\n",
       "      <td>Cash loans</td>\n",
       "      <td>F</td>\n",
       "      <td>N</td>\n",
       "      <td>N</td>\n",
       "      <td>0</td>\n",
       "      <td>270000.0</td>\n",
       "      <td>1293502.5</td>\n",
       "      <td>35698.5</td>\n",
       "      <td>...</td>\n",
       "      <td>0</td>\n",
       "      <td>0</td>\n",
       "      <td>0.0</td>\n",
       "      <td>0.0</td>\n",
       "      <td>0.0</td>\n",
       "      <td>0.0</td>\n",
       "      <td>0.0</td>\n",
       "      <td>0.0</td>\n",
       "      <td>45.931507</td>\n",
       "      <td>0.003253</td>\n",
       "    </tr>\n",
       "    <tr>\n",
       "      <th>2</th>\n",
       "      <td>100004</td>\n",
       "      <td>0</td>\n",
       "      <td>Revolving loans</td>\n",
       "      <td>M</td>\n",
       "      <td>Y</td>\n",
       "      <td>Y</td>\n",
       "      <td>0</td>\n",
       "      <td>67500.0</td>\n",
       "      <td>135000.0</td>\n",
       "      <td>6750.0</td>\n",
       "      <td>...</td>\n",
       "      <td>0</td>\n",
       "      <td>0</td>\n",
       "      <td>0.0</td>\n",
       "      <td>0.0</td>\n",
       "      <td>0.0</td>\n",
       "      <td>0.0</td>\n",
       "      <td>0.0</td>\n",
       "      <td>0.0</td>\n",
       "      <td>52.180822</td>\n",
       "      <td>0.000616</td>\n",
       "    </tr>\n",
       "    <tr>\n",
       "      <th>3</th>\n",
       "      <td>100006</td>\n",
       "      <td>0</td>\n",
       "      <td>Cash loans</td>\n",
       "      <td>F</td>\n",
       "      <td>N</td>\n",
       "      <td>Y</td>\n",
       "      <td>0</td>\n",
       "      <td>135000.0</td>\n",
       "      <td>312682.5</td>\n",
       "      <td>29686.5</td>\n",
       "      <td>...</td>\n",
       "      <td>0</td>\n",
       "      <td>0</td>\n",
       "      <td>NaN</td>\n",
       "      <td>NaN</td>\n",
       "      <td>NaN</td>\n",
       "      <td>NaN</td>\n",
       "      <td>NaN</td>\n",
       "      <td>NaN</td>\n",
       "      <td>52.068493</td>\n",
       "      <td>0.008320</td>\n",
       "    </tr>\n",
       "    <tr>\n",
       "      <th>4</th>\n",
       "      <td>100007</td>\n",
       "      <td>0</td>\n",
       "      <td>Cash loans</td>\n",
       "      <td>M</td>\n",
       "      <td>N</td>\n",
       "      <td>Y</td>\n",
       "      <td>0</td>\n",
       "      <td>121500.0</td>\n",
       "      <td>513000.0</td>\n",
       "      <td>21865.5</td>\n",
       "      <td>...</td>\n",
       "      <td>0</td>\n",
       "      <td>0</td>\n",
       "      <td>0.0</td>\n",
       "      <td>0.0</td>\n",
       "      <td>0.0</td>\n",
       "      <td>0.0</td>\n",
       "      <td>0.0</td>\n",
       "      <td>0.0</td>\n",
       "      <td>54.608219</td>\n",
       "      <td>0.008318</td>\n",
       "    </tr>\n",
       "    <tr>\n",
       "      <th>...</th>\n",
       "      <td>...</td>\n",
       "      <td>...</td>\n",
       "      <td>...</td>\n",
       "      <td>...</td>\n",
       "      <td>...</td>\n",
       "      <td>...</td>\n",
       "      <td>...</td>\n",
       "      <td>...</td>\n",
       "      <td>...</td>\n",
       "      <td>...</td>\n",
       "      <td>...</td>\n",
       "      <td>...</td>\n",
       "      <td>...</td>\n",
       "      <td>...</td>\n",
       "      <td>...</td>\n",
       "      <td>...</td>\n",
       "      <td>...</td>\n",
       "      <td>...</td>\n",
       "      <td>...</td>\n",
       "      <td>...</td>\n",
       "      <td>...</td>\n",
       "    </tr>\n",
       "    <tr>\n",
       "      <th>307506</th>\n",
       "      <td>456251</td>\n",
       "      <td>0</td>\n",
       "      <td>Cash loans</td>\n",
       "      <td>M</td>\n",
       "      <td>N</td>\n",
       "      <td>N</td>\n",
       "      <td>0</td>\n",
       "      <td>157500.0</td>\n",
       "      <td>254700.0</td>\n",
       "      <td>27558.0</td>\n",
       "      <td>...</td>\n",
       "      <td>0</td>\n",
       "      <td>0</td>\n",
       "      <td>NaN</td>\n",
       "      <td>NaN</td>\n",
       "      <td>NaN</td>\n",
       "      <td>NaN</td>\n",
       "      <td>NaN</td>\n",
       "      <td>NaN</td>\n",
       "      <td>25.553425</td>\n",
       "      <td>0.000646</td>\n",
       "    </tr>\n",
       "    <tr>\n",
       "      <th>307507</th>\n",
       "      <td>456252</td>\n",
       "      <td>0</td>\n",
       "      <td>Cash loans</td>\n",
       "      <td>F</td>\n",
       "      <td>N</td>\n",
       "      <td>Y</td>\n",
       "      <td>0</td>\n",
       "      <td>72000.0</td>\n",
       "      <td>269550.0</td>\n",
       "      <td>12001.5</td>\n",
       "      <td>...</td>\n",
       "      <td>0</td>\n",
       "      <td>0</td>\n",
       "      <td>NaN</td>\n",
       "      <td>NaN</td>\n",
       "      <td>NaN</td>\n",
       "      <td>NaN</td>\n",
       "      <td>NaN</td>\n",
       "      <td>NaN</td>\n",
       "      <td>56.917808</td>\n",
       "      <td>NaN</td>\n",
       "    </tr>\n",
       "    <tr>\n",
       "      <th>307508</th>\n",
       "      <td>456253</td>\n",
       "      <td>0</td>\n",
       "      <td>Cash loans</td>\n",
       "      <td>F</td>\n",
       "      <td>N</td>\n",
       "      <td>Y</td>\n",
       "      <td>0</td>\n",
       "      <td>153000.0</td>\n",
       "      <td>677664.0</td>\n",
       "      <td>29979.0</td>\n",
       "      <td>...</td>\n",
       "      <td>0</td>\n",
       "      <td>0</td>\n",
       "      <td>1.0</td>\n",
       "      <td>0.0</td>\n",
       "      <td>0.0</td>\n",
       "      <td>1.0</td>\n",
       "      <td>0.0</td>\n",
       "      <td>1.0</td>\n",
       "      <td>41.002740</td>\n",
       "      <td>0.021687</td>\n",
       "    </tr>\n",
       "    <tr>\n",
       "      <th>307509</th>\n",
       "      <td>456254</td>\n",
       "      <td>1</td>\n",
       "      <td>Cash loans</td>\n",
       "      <td>F</td>\n",
       "      <td>N</td>\n",
       "      <td>Y</td>\n",
       "      <td>0</td>\n",
       "      <td>171000.0</td>\n",
       "      <td>370107.0</td>\n",
       "      <td>20205.0</td>\n",
       "      <td>...</td>\n",
       "      <td>0</td>\n",
       "      <td>0</td>\n",
       "      <td>0.0</td>\n",
       "      <td>0.0</td>\n",
       "      <td>0.0</td>\n",
       "      <td>0.0</td>\n",
       "      <td>0.0</td>\n",
       "      <td>0.0</td>\n",
       "      <td>32.769863</td>\n",
       "      <td>0.013104</td>\n",
       "    </tr>\n",
       "    <tr>\n",
       "      <th>307510</th>\n",
       "      <td>456255</td>\n",
       "      <td>0</td>\n",
       "      <td>Cash loans</td>\n",
       "      <td>F</td>\n",
       "      <td>N</td>\n",
       "      <td>N</td>\n",
       "      <td>0</td>\n",
       "      <td>157500.0</td>\n",
       "      <td>675000.0</td>\n",
       "      <td>49117.5</td>\n",
       "      <td>...</td>\n",
       "      <td>0</td>\n",
       "      <td>0</td>\n",
       "      <td>0.0</td>\n",
       "      <td>0.0</td>\n",
       "      <td>0.0</td>\n",
       "      <td>2.0</td>\n",
       "      <td>0.0</td>\n",
       "      <td>1.0</td>\n",
       "      <td>46.180822</td>\n",
       "      <td>0.003455</td>\n",
       "    </tr>\n",
       "  </tbody>\n",
       "</table>\n",
       "<p>307511 rows × 122 columns</p>\n",
       "</div>"
      ],
      "text/plain": [
       "        SK_ID_CURR  TARGET NAME_CONTRACT_TYPE CODE_GENDER FLAG_OWN_CAR  \\\n",
       "0           100002       1         Cash loans           M            N   \n",
       "1           100003       0         Cash loans           F            N   \n",
       "2           100004       0    Revolving loans           M            Y   \n",
       "3           100006       0         Cash loans           F            N   \n",
       "4           100007       0         Cash loans           M            N   \n",
       "...            ...     ...                ...         ...          ...   \n",
       "307506      456251       0         Cash loans           M            N   \n",
       "307507      456252       0         Cash loans           F            N   \n",
       "307508      456253       0         Cash loans           F            N   \n",
       "307509      456254       1         Cash loans           F            N   \n",
       "307510      456255       0         Cash loans           F            N   \n",
       "\n",
       "       FLAG_OWN_REALTY  CNT_CHILDREN  AMT_INCOME_TOTAL  AMT_CREDIT  \\\n",
       "0                    Y             0          202500.0    406597.5   \n",
       "1                    N             0          270000.0   1293502.5   \n",
       "2                    Y             0           67500.0    135000.0   \n",
       "3                    Y             0          135000.0    312682.5   \n",
       "4                    Y             0          121500.0    513000.0   \n",
       "...                ...           ...               ...         ...   \n",
       "307506               N             0          157500.0    254700.0   \n",
       "307507               Y             0           72000.0    269550.0   \n",
       "307508               Y             0          153000.0    677664.0   \n",
       "307509               Y             0          171000.0    370107.0   \n",
       "307510               N             0          157500.0    675000.0   \n",
       "\n",
       "        AMT_ANNUITY  ...  FLAG_DOCUMENT_20 FLAG_DOCUMENT_21  \\\n",
       "0           24700.5  ...                 0                0   \n",
       "1           35698.5  ...                 0                0   \n",
       "2            6750.0  ...                 0                0   \n",
       "3           29686.5  ...                 0                0   \n",
       "4           21865.5  ...                 0                0   \n",
       "...             ...  ...               ...              ...   \n",
       "307506      27558.0  ...                 0                0   \n",
       "307507      12001.5  ...                 0                0   \n",
       "307508      29979.0  ...                 0                0   \n",
       "307509      20205.0  ...                 0                0   \n",
       "307510      49117.5  ...                 0                0   \n",
       "\n",
       "       AMT_REQ_CREDIT_BUREAU_HOUR AMT_REQ_CREDIT_BUREAU_DAY  \\\n",
       "0                             0.0                       0.0   \n",
       "1                             0.0                       0.0   \n",
       "2                             0.0                       0.0   \n",
       "3                             NaN                       NaN   \n",
       "4                             0.0                       0.0   \n",
       "...                           ...                       ...   \n",
       "307506                        NaN                       NaN   \n",
       "307507                        NaN                       NaN   \n",
       "307508                        1.0                       0.0   \n",
       "307509                        0.0                       0.0   \n",
       "307510                        0.0                       0.0   \n",
       "\n",
       "       AMT_REQ_CREDIT_BUREAU_WEEK AMT_REQ_CREDIT_BUREAU_MON  \\\n",
       "0                             0.0                       0.0   \n",
       "1                             0.0                       0.0   \n",
       "2                             0.0                       0.0   \n",
       "3                             NaN                       NaN   \n",
       "4                             0.0                       0.0   \n",
       "...                           ...                       ...   \n",
       "307506                        NaN                       NaN   \n",
       "307507                        NaN                       NaN   \n",
       "307508                        0.0                       1.0   \n",
       "307509                        0.0                       0.0   \n",
       "307510                        0.0                       2.0   \n",
       "\n",
       "        AMT_REQ_CREDIT_BUREAU_QRT  AMT_REQ_CREDIT_BUREAU_YEAR  CLIENT_AGE  \\\n",
       "0                             0.0                         1.0   25.920548   \n",
       "1                             0.0                         0.0   45.931507   \n",
       "2                             0.0                         0.0   52.180822   \n",
       "3                             NaN                         NaN   52.068493   \n",
       "4                             0.0                         0.0   54.608219   \n",
       "...                           ...                         ...         ...   \n",
       "307506                        NaN                         NaN   25.553425   \n",
       "307507                        NaN                         NaN   56.917808   \n",
       "307508                        0.0                         1.0   41.002740   \n",
       "307509                        0.0                         0.0   32.769863   \n",
       "307510                        0.0                         1.0   46.180822   \n",
       "\n",
       "        YEARS_EMPLOYED  \n",
       "0             0.001744  \n",
       "1             0.003253  \n",
       "2             0.000616  \n",
       "3             0.008320  \n",
       "4             0.008318  \n",
       "...                ...  \n",
       "307506        0.000646  \n",
       "307507             NaN  \n",
       "307508        0.021687  \n",
       "307509        0.013104  \n",
       "307510        0.003455  \n",
       "\n",
       "[307511 rows x 122 columns]"
      ]
     },
     "execution_count": 2,
     "metadata": {},
     "output_type": "execute_result"
    }
   ],
   "source": [
    "train_df = pd.read_csv('../Datasets/application_train.csv')\n",
    "\n",
    "train_df['CLIENT_AGE'] = train_df['DAYS_BIRTH'] / -365\n",
    "\n",
    "train_df['DAYS_EMPLOYED'].replace({365243: np.nan}, inplace = True)\n",
    "\n",
    "train_df['YEARS_EMPLOYED'] = train_df['DAYS_EMPLOYED'] / -365243\n",
    "\n",
    "train_df.drop(columns=['DAYS_EMPLOYED','DAYS_BIRTH'])"
   ]
  },
  {
   "cell_type": "code",
   "execution_count": 3,
   "id": "78445f44-a279-4b30-a8de-1d483299b5ad",
   "metadata": {},
   "outputs": [
    {
     "data": {
      "text/plain": [
       "Index(['SK_ID_CURR', 'TARGET', 'NAME_CONTRACT_TYPE', 'CODE_GENDER',\n",
       "       'FLAG_OWN_CAR', 'FLAG_OWN_REALTY', 'CNT_CHILDREN', 'AMT_INCOME_TOTAL',\n",
       "       'AMT_CREDIT', 'AMT_ANNUITY',\n",
       "       ...\n",
       "       'FLAG_DOCUMENT_20', 'FLAG_DOCUMENT_21', 'AMT_REQ_CREDIT_BUREAU_HOUR',\n",
       "       'AMT_REQ_CREDIT_BUREAU_DAY', 'AMT_REQ_CREDIT_BUREAU_WEEK',\n",
       "       'AMT_REQ_CREDIT_BUREAU_MON', 'AMT_REQ_CREDIT_BUREAU_QRT',\n",
       "       'AMT_REQ_CREDIT_BUREAU_YEAR', 'CLIENT_AGE', 'YEARS_EMPLOYED'],\n",
       "      dtype='object', length=124)"
      ]
     },
     "execution_count": 3,
     "metadata": {},
     "output_type": "execute_result"
    }
   ],
   "source": [
    "train_df.columns"
   ]
  },
  {
   "cell_type": "code",
   "execution_count": 4,
   "id": "a0e4d2f6-9e64-4bb1-9f04-db6854f9252d",
   "metadata": {},
   "outputs": [
    {
     "data": {
      "text/plain": [
       "(307511, 124)"
      ]
     },
     "execution_count": 4,
     "metadata": {},
     "output_type": "execute_result"
    }
   ],
   "source": [
    "train_df.shape"
   ]
  },
  {
   "cell_type": "code",
   "execution_count": 5,
   "id": "03bb0aa8-ea55-425e-8f27-0c7ddb3299bd",
   "metadata": {},
   "outputs": [],
   "source": [
    "def missing_data(data):\n",
    "    total = data.isnull().sum().sort_values(ascending = False)\n",
    "    percent = (data.isnull().sum()/data.isnull().count()*100).sort_values(ascending = False)\n",
    "    return pd.concat([total, percent], axis=1, keys=['Total', 'Percent']) \n",
    "\n",
    "\n",
    "k = missing_data(train_df)"
   ]
  },
  {
   "cell_type": "code",
   "execution_count": 6,
   "id": "523eb5b0-7b1a-4fb8-82ec-a8875a1881dd",
   "metadata": {},
   "outputs": [
    {
     "data": {
      "text/html": [
       "<div>\n",
       "<style scoped>\n",
       "    .dataframe tbody tr th:only-of-type {\n",
       "        vertical-align: middle;\n",
       "    }\n",
       "\n",
       "    .dataframe tbody tr th {\n",
       "        vertical-align: top;\n",
       "    }\n",
       "\n",
       "    .dataframe thead th {\n",
       "        text-align: right;\n",
       "    }\n",
       "</style>\n",
       "<table border=\"1\" class=\"dataframe\">\n",
       "  <thead>\n",
       "    <tr style=\"text-align: right;\">\n",
       "      <th></th>\n",
       "      <th>Total</th>\n",
       "      <th>Percent</th>\n",
       "    </tr>\n",
       "  </thead>\n",
       "  <tbody>\n",
       "    <tr>\n",
       "      <th>FLOORSMAX_MODE</th>\n",
       "      <td>153020</td>\n",
       "      <td>49.760822</td>\n",
       "    </tr>\n",
       "    <tr>\n",
       "      <th>FLOORSMAX_AVG</th>\n",
       "      <td>153020</td>\n",
       "      <td>49.760822</td>\n",
       "    </tr>\n",
       "    <tr>\n",
       "      <th>FLOORSMAX_MEDI</th>\n",
       "      <td>153020</td>\n",
       "      <td>49.760822</td>\n",
       "    </tr>\n",
       "    <tr>\n",
       "      <th>YEARS_BEGINEXPLUATATION_MODE</th>\n",
       "      <td>150007</td>\n",
       "      <td>48.781019</td>\n",
       "    </tr>\n",
       "    <tr>\n",
       "      <th>YEARS_BEGINEXPLUATATION_MEDI</th>\n",
       "      <td>150007</td>\n",
       "      <td>48.781019</td>\n",
       "    </tr>\n",
       "    <tr>\n",
       "      <th>...</th>\n",
       "      <td>...</td>\n",
       "      <td>...</td>\n",
       "    </tr>\n",
       "    <tr>\n",
       "      <th>AMT_INCOME_TOTAL</th>\n",
       "      <td>0</td>\n",
       "      <td>0.000000</td>\n",
       "    </tr>\n",
       "    <tr>\n",
       "      <th>CNT_CHILDREN</th>\n",
       "      <td>0</td>\n",
       "      <td>0.000000</td>\n",
       "    </tr>\n",
       "    <tr>\n",
       "      <th>FLAG_OWN_REALTY</th>\n",
       "      <td>0</td>\n",
       "      <td>0.000000</td>\n",
       "    </tr>\n",
       "    <tr>\n",
       "      <th>ORGANIZATION_TYPE</th>\n",
       "      <td>0</td>\n",
       "      <td>0.000000</td>\n",
       "    </tr>\n",
       "    <tr>\n",
       "      <th>SK_ID_CURR</th>\n",
       "      <td>0</td>\n",
       "      <td>0.000000</td>\n",
       "    </tr>\n",
       "  </tbody>\n",
       "</table>\n",
       "<p>83 rows × 2 columns</p>\n",
       "</div>"
      ],
      "text/plain": [
       "                               Total    Percent\n",
       "FLOORSMAX_MODE                153020  49.760822\n",
       "FLOORSMAX_AVG                 153020  49.760822\n",
       "FLOORSMAX_MEDI                153020  49.760822\n",
       "YEARS_BEGINEXPLUATATION_MODE  150007  48.781019\n",
       "YEARS_BEGINEXPLUATATION_MEDI  150007  48.781019\n",
       "...                              ...        ...\n",
       "AMT_INCOME_TOTAL                   0   0.000000\n",
       "CNT_CHILDREN                       0   0.000000\n",
       "FLAG_OWN_REALTY                    0   0.000000\n",
       "ORGANIZATION_TYPE                  0   0.000000\n",
       "SK_ID_CURR                         0   0.000000\n",
       "\n",
       "[83 rows x 2 columns]"
      ]
     },
     "execution_count": 6,
     "metadata": {},
     "output_type": "execute_result"
    }
   ],
   "source": [
    "k[k[\"Percent\"]<50]"
   ]
  },
  {
   "cell_type": "code",
   "execution_count": 7,
   "id": "8d329199-61bb-47f6-a8e1-f3bf53d8f198",
   "metadata": {},
   "outputs": [],
   "source": [
    "k[k[\"Percent\"]<0.5]\n",
    "train_df=train_df[k[k[\"Percent\"]<5].index]"
   ]
  },
  {
   "cell_type": "code",
   "execution_count": 8,
   "id": "c1f120e5-0a73-40ef-806c-b7cca3e1d6cd",
   "metadata": {},
   "outputs": [],
   "source": [
    "from sklearn.preprocessing import OrdinalEncoder\n",
    "\n",
    "for i in train_df.select_dtypes(include='object').columns:\n",
    "    enc = OrdinalEncoder()\n",
    "    #print(train_df[i])\n",
    "    train_df[i].fillna(train_df[i].mode()[0], inplace=True)\n",
    "    train_df[i]= enc.fit_transform(train_df[[i]])"
   ]
  },
  {
   "cell_type": "code",
   "execution_count": 9,
   "id": "9421ed1f-26c3-4fb3-b1fe-91824bb66d9f",
   "metadata": {},
   "outputs": [],
   "source": [
    "from sklearn.ensemble import RandomForestClassifier\n",
    "from sklearn.feature_selection import SelectFromModel"
   ]
  },
  {
   "cell_type": "code",
   "execution_count": 10,
   "id": "f08e5c82-50da-4076-bad9-b3da5448e8f7",
   "metadata": {},
   "outputs": [],
   "source": [
    "train_df.fillna(0, inplace=True)\n",
    "y = train_df[\"TARGET\"]\n",
    "X = train_df.drop(columns=\"TARGET\")"
   ]
  },
  {
   "cell_type": "code",
   "execution_count": 11,
   "id": "5b1181c0-63c9-4934-a6ec-9a40d9e8d7c0",
   "metadata": {},
   "outputs": [],
   "source": [
    "from sklearn.model_selection import train_test_split\n",
    "X_train,X_test,y_train,y_test = train_test_split(X,y,test_size=0.2)"
   ]
  },
  {
   "cell_type": "code",
   "execution_count": 12,
   "id": "14ea09c0-f6f4-4f03-afee-e4f3b30304f3",
   "metadata": {},
   "outputs": [
    {
     "data": {
      "text/plain": [
       "SelectFromModel(estimator=RandomForestClassifier(n_jobs=-1))"
      ]
     },
     "execution_count": 12,
     "metadata": {},
     "output_type": "execute_result"
    }
   ],
   "source": [
    "model = RandomForestClassifier(n_estimators = 100,n_jobs=-1)\n",
    "sel = SelectFromModel(model)\n",
    "sel.fit(X_train, y_train)"
   ]
  },
  {
   "cell_type": "code",
   "execution_count": 13,
   "id": "35aaed62-2cda-4986-afdf-59e74a84fa79",
   "metadata": {},
   "outputs": [
    {
     "data": {
      "text/plain": [
       "Index([], dtype='object')"
      ]
     },
     "execution_count": 13,
     "metadata": {},
     "output_type": "execute_result"
    }
   ],
   "source": [
    "train_df.select_dtypes(include='object').columns"
   ]
  },
  {
   "cell_type": "code",
   "execution_count": 14,
   "id": "ee7f056b-80e0-4cbe-a28a-e82a695a3112",
   "metadata": {},
   "outputs": [],
   "source": [
    "for i in train_df.select_dtypes(include='object').columns:\n",
    "    enc = OrdinalEncoder()\n",
    "    train_df[i]= enc.fit_transform(train_df[[i]])"
   ]
  },
  {
   "cell_type": "code",
   "execution_count": 15,
   "id": "df8047c4-a2c3-465f-9764-0af1bf6a61f8",
   "metadata": {},
   "outputs": [],
   "source": [
    "for i in train_df.select_dtypes(include='object').columns:\n",
    "    print(i)"
   ]
  },
  {
   "cell_type": "code",
   "execution_count": 16,
   "id": "6556007b-2290-40dd-bcae-bb5f32478eee",
   "metadata": {},
   "outputs": [
    {
     "data": {
      "text/plain": [
       "19"
      ]
     },
     "execution_count": 16,
     "metadata": {},
     "output_type": "execute_result"
    }
   ],
   "source": [
    "selected_feat= X_train.columns[(sel.get_support())]\n",
    "len(selected_feat)"
   ]
  },
  {
   "cell_type": "code",
   "execution_count": 17,
   "id": "28ed7109-dd52-4b21-a9f8-5102fe6f2cd8",
   "metadata": {},
   "outputs": [
    {
     "name": "stdout",
     "output_type": "stream",
     "text": [
      "Index(['OBS_30_CNT_SOCIAL_CIRCLE', 'OBS_60_CNT_SOCIAL_CIRCLE', 'EXT_SOURCE_2',\n",
      "       'AMT_GOODS_PRICE', 'AMT_ANNUITY', 'CNT_FAM_MEMBERS',\n",
      "       'DAYS_LAST_PHONE_CHANGE', 'CLIENT_AGE', 'HOUR_APPR_PROCESS_START',\n",
      "       'WEEKDAY_APPR_PROCESS_START', 'DAYS_ID_PUBLISH', 'DAYS_REGISTRATION',\n",
      "       'DAYS_BIRTH', 'REGION_POPULATION_RELATIVE', 'NAME_FAMILY_STATUS',\n",
      "       'AMT_CREDIT', 'AMT_INCOME_TOTAL', 'ORGANIZATION_TYPE', 'SK_ID_CURR'],\n",
      "      dtype='object')\n"
     ]
    }
   ],
   "source": [
    "print(selected_feat)"
   ]
  },
  {
   "cell_type": "code",
   "execution_count": 18,
   "id": "955d244b-6dd1-4dc9-9584-ccdd873e18a0",
   "metadata": {},
   "outputs": [
    {
     "data": {
      "text/plain": [
       "<AxesSubplot:>"
      ]
     },
     "execution_count": 18,
     "metadata": {},
     "output_type": "execute_result"
    },
    {
     "data": {
      "image/png": "[encoded data removed]",
      "text/plain": [
       "<Figure size 432x288 with 1 Axes>"
      ]
     },
     "metadata": {
      "needs_background": "light"
     },
     "output_type": "display_data"
    }
   ],
   "source": [
    "pd.Series(sel.estimator_.feature_importances_.ravel()).hist()"
   ]
  },
  {
   "cell_type": "code",
   "execution_count": 19,
   "id": "b1678095-a530-487c-a653-16c3d8607e52",
   "metadata": {},
   "outputs": [],
   "source": [
    "y = train_df[\"TARGET\"]\n",
    "X = train_df[selected_feat[:].values]"
   ]
  },
  {
   "cell_type": "code",
   "execution_count": 20,
   "id": "f8cce2f3-170d-44bc-9036-bb777c6f1a6f",
   "metadata": {},
   "outputs": [],
   "source": [
    "X_train,X_test,y_train,y_test = train_test_split(X,y,test_size=0.2)"
   ]
  },
  {
   "cell_type": "code",
   "execution_count": null,
   "id": "42914212-ba1e-405d-b083-26da49d33f32",
   "metadata": {},
   "outputs": [],
   "source": [
    "model.fit(X_train, y_train)"
   ]
  },
  {
   "cell_type": "code",
   "execution_count": null,
   "id": "9a790672-e960-4854-bef4-c9d466514c24",
   "metadata": {},
   "outputs": [],
   "source": [
    "model.score(X_test,y_test)"
   ]
  },
  {
   "cell_type": "code",
   "execution_count": null,
   "id": "f37c3525-e216-43c0-b1f9-c6021783a0d9",
   "metadata": {},
   "outputs": [],
   "source": [
    "y_RF_predicted = model.predict(X_test)"
   ]
  },
  {
   "cell_type": "code",
   "execution_count": null,
   "id": "f9d5f722-d757-4d32-a022-30eb67a4b428",
   "metadata": {},
   "outputs": [],
   "source": [
    "from sklearn.metrics import confusion_matrix\n",
    "from sklearn.metrics import accuracy_score, recall_score, precision_score, f1_score, roc_auc_score\n",
    "\n",
    "cf_matrix = confusion_matrix(y_test, y_RF_predicted)\n",
    "sns.heatmap(cf_matrix, annot=True)"
   ]
  },
  {
   "cell_type": "code",
   "execution_count": null,
   "id": "48c75100-b5fd-44e5-9cc7-07e919f1721a",
   "metadata": {},
   "outputs": [],
   "source": [
    "print(f'Precision score: {round(precision_score(y_test, y_RF_predicted), 3)}')\n",
    "print(f'Recall score: {round(recall_score(y_test, y_RF_predicted), 3)}')\n",
    "print(f'Accuracy score: {round(accuracy_score(y_test, y_RF_predicted), 3)}')\n",
    "print(f'F1 score: {round(f1_score(y_test, y_RF_predicted), 3)}')"
   ]
  },
  {
   "cell_type": "code",
   "execution_count": null,
   "id": "13fbbdce-8115-4d94-a572-afe007d21238",
   "metadata": {},
   "outputs": [],
   "source": [
    "roc_auc_score(y_test, y_RF_predicted)"
   ]
  },
  {
   "cell_type": "code",
   "execution_count": null,
   "id": "526c4e9f-07d1-4962-8480-4656774e3b79",
   "metadata": {},
   "outputs": [],
   "source": [
    "#from sklearn.model_selection import cross_validate\n",
    "#import numpy as np\n",
    "\n",
    "#cv_results = cross_validate(model, X, y, cv=4, scoring='neg_mean_squared_error', return_train_score=True)\n",
    "#cv_results"
   ]
  },
  {
   "cell_type": "markdown",
   "id": "48b6336a-6eb7-4cfa-a059-4dc73b9642d4",
   "metadata": {},
   "source": [
    "## Model with over sampling"
   ]
  },
  {
   "cell_type": "code",
   "execution_count": null,
   "id": "7078bfdc-ad24-4f89-9a7c-47fe4c76384b",
   "metadata": {},
   "outputs": [],
   "source": [
    "from imblearn.over_sampling import SMOTE"
   ]
  },
  {
   "cell_type": "code",
   "execution_count": null,
   "id": "ded3befb-7b5f-488b-b8a1-355ca275aa82",
   "metadata": {},
   "outputs": [],
   "source": [
    "oversample = SMOTE()"
   ]
  },
  {
   "cell_type": "code",
   "execution_count": null,
   "id": "e0d2ecf2-323e-4c9f-850c-c8e8ee65c1b7",
   "metadata": {},
   "outputs": [],
   "source": [
    "y = train_df[\"TARGET\"]\n",
    "X = train_df.drop(columns=\"TARGET\")\n",
    "X,y=oversample.fit_resample(X,y)"
   ]
  },
  {
   "cell_type": "code",
   "execution_count": null,
   "id": "fec2ee45-d2f8-452d-8322-58965b1c2d6b",
   "metadata": {},
   "outputs": [],
   "source": [
    "X_train,X_test,y_train,y_test = train_test_split(X,y,test_size=0.2)"
   ]
  },
  {
   "cell_type": "code",
   "execution_count": null,
   "id": "75f6aaa8-268f-4569-812d-d6476e67fbda",
   "metadata": {},
   "outputs": [],
   "source": [
    "model.fit(X_train, y_train)"
   ]
  },
  {
   "cell_type": "code",
   "execution_count": null,
   "id": "31d8012e-9f2c-4314-88b8-e87600c9e99a",
   "metadata": {},
   "outputs": [],
   "source": [
    "model.score(X_test,y_test)"
   ]
  },
  {
   "cell_type": "code",
   "execution_count": null,
   "id": "d1561b16-59dc-44a2-a69a-ff772577f1e8",
   "metadata": {},
   "outputs": [],
   "source": [
    "y_RF_predicted = model.predict(X_test)"
   ]
  },
  {
   "cell_type": "code",
   "execution_count": null,
   "id": "2b560fc9-a611-48f7-bfc0-723ce681c556",
   "metadata": {},
   "outputs": [],
   "source": [
    "cf_matrix = confusion_matrix(y_test, y_RF_predicted)\n",
    "sns.heatmap(cf_matrix, annot=True)"
   ]
  },
  {
   "cell_type": "code",
   "execution_count": null,
   "id": "ceb2512f-291e-486f-9f09-995128c9b321",
   "metadata": {},
   "outputs": [],
   "source": [
    "print(f'Precision score: {round(precision_score(y_test, y_RF_predicted), 3)}')\n",
    "print(f'Recall score: {round(recall_score(y_test, y_RF_predicted), 3)}')\n",
    "print(f'Accuracy score: {round(accuracy_score(y_test, y_RF_predicted), 3)}')\n",
    "print(f'F1 score: {round(f1_score(y_test, y_RF_predicted), 3)}')"
   ]
  },
  {
   "cell_type": "code",
   "execution_count": null,
   "id": "42bdb490-f894-4486-b0ce-258639ef01ac",
   "metadata": {},
   "outputs": [],
   "source": [
    "roc_auc_score(y_test, y_RF_predicted)"
   ]
  },
  {
   "cell_type": "markdown",
   "id": "4234439c-b664-44ef-ba48-cc80630b5ad9",
   "metadata": {},
   "source": [
    "## Model with under sampling"
   ]
  },
  {
   "cell_type": "code",
   "execution_count": null,
   "id": "627edfd3-78f3-49eb-94b0-154598b8da82",
   "metadata": {},
   "outputs": [],
   "source": [
    "from imblearn.under_sampling import RandomUnderSampler"
   ]
  },
  {
   "cell_type": "code",
   "execution_count": null,
   "id": "06833f39-c06f-478e-9a74-c8c637366bdd",
   "metadata": {},
   "outputs": [],
   "source": [
    "undersampler = RandomUnderSampler()"
   ]
  },
  {
   "cell_type": "code",
   "execution_count": null,
   "id": "680f7ef9-0030-4da4-9fd4-9eca0a18f9a7",
   "metadata": {},
   "outputs": [],
   "source": [
    "y = train_df[\"TARGET\"]\n",
    "X = train_df.drop(columns=\"TARGET\")\n",
    "X,y=undersampler.fit_resample(X,y)"
   ]
  },
  {
   "cell_type": "code",
   "execution_count": null,
   "id": "863d0e5c-bc34-4b34-88bd-8be893139725",
   "metadata": {},
   "outputs": [],
   "source": [
    "X_train,X_test,y_train,y_test = train_test_split(X,y,test_size=0.2)"
   ]
  },
  {
   "cell_type": "code",
   "execution_count": null,
   "id": "b758604b-0da5-4a6a-9c97-95c80143bc2e",
   "metadata": {},
   "outputs": [],
   "source": [
    "model_u = RandomForestClassifier(n_estimators = 100,n_jobs=-1)\n",
    "model_u.fit(X_train, y_train)"
   ]
  },
  {
   "cell_type": "code",
   "execution_count": null,
   "id": "42c29ae7-310b-4665-b727-bfc2f7415140",
   "metadata": {},
   "outputs": [],
   "source": [
    "model_u.score(X_test,y_test)"
   ]
  },
  {
   "cell_type": "code",
   "execution_count": null,
   "id": "7bf35259-40ab-4557-8141-0d06250ef59e",
   "metadata": {},
   "outputs": [],
   "source": [
    "y_RF_predicted = model_u.predict(X_test)"
   ]
  },
  {
   "cell_type": "code",
   "execution_count": null,
   "id": "cb8cc482-69d1-4e6a-8a20-00cf752a6bc2",
   "metadata": {},
   "outputs": [],
   "source": [
    "cf_matrix = confusion_matrix(y_test, y_RF_predicted)\n",
    "sns.heatmap(cf_matrix, annot=True)"
   ]
  },
  {
   "cell_type": "code",
   "execution_count": null,
   "id": "62bef49e-6cb4-492b-ae91-cd0e0b1d4bdc",
   "metadata": {},
   "outputs": [],
   "source": [
    "print(f'Precision score: {round(precision_score(y_test, y_RF_predicted), 3)}')\n",
    "print(f'Recall score: {round(recall_score(y_test, y_RF_predicted), 3)}')\n",
    "print(f'Accuracy score: {round(accuracy_score(y_test, y_RF_predicted), 3)}')\n",
    "print(f'F1 score: {round(f1_score(y_test, y_RF_predicted), 3)}')"
   ]
  },
  {
   "cell_type": "code",
   "execution_count": null,
   "id": "1058cd33-fa20-4d38-8ea6-36231bd6d67c",
   "metadata": {},
   "outputs": [],
   "source": [
    "roc_auc_score(y_test, y_RF_predicted)"
   ]
  },
  {
   "cell_type": "markdown",
   "id": "d250f1f4-e31e-4e79-b15c-5e179d528e19",
   "metadata": {},
   "source": [
    "## model with train and test"
   ]
  },
  {
   "cell_type": "code",
   "execution_count": null,
   "id": "9528e2b1-7a1b-4af7-baa2-224a8f995038",
   "metadata": {},
   "outputs": [],
   "source": [
    "#y_test = test_df[\"TARGET\"]\n",
    "#X_tes = test_df[selected_feat[:].values]"
   ]
  },
  {
   "cell_type": "code",
   "execution_count": null,
   "id": "c6245082-0f6a-40d0-be8c-c2f220bdf541",
   "metadata": {},
   "outputs": [],
   "source": []
  },
  {
   "cell_type": "code",
   "execution_count": null,
   "id": "68b4f920-576a-4112-89d8-ce9c8616bb7d",
   "metadata": {},
   "outputs": [],
   "source": []
  },
  {
   "cell_type": "code",
   "execution_count": null,
   "id": "d7d7c7a9-9885-41c2-b545-9d662bbd3def",
   "metadata": {},
   "outputs": [],
   "source": []
  },
  {
   "cell_type": "code",
   "execution_count": null,
   "id": "9183bbc0-5eb3-4146-a7a5-d262caab6f7d",
   "metadata": {},
   "outputs": [],
   "source": [
    "train_df = pd.read_csv('../Datasets/application_train.csv')\n",
    "\n",
    "train_df['CLIENT_AGE'] = train_df['DAYS_BIRTH'] / -365\n",
    "\n",
    "train_df['DAYS_EMPLOYED'].replace({365243: np.nan}, inplace = True)\n",
    "\n",
    "train_df['YEARS_EMPLOYED'] = train_df['DAYS_EMPLOYED'] / -365243"
   ]
  },
  {
   "cell_type": "code",
   "execution_count": null,
   "id": "b26e652b-d3df-46cb-af75-c624b2a6cf0d",
   "metadata": {},
   "outputs": [],
   "source": [
    "train_df[selected_feat[:].values]"
   ]
  },
  {
   "cell_type": "code",
   "execution_count": null,
   "id": "07f228c6-266a-413a-87da-14642c210d62",
   "metadata": {},
   "outputs": [],
   "source": [
    "selected_feat[:].values"
   ]
  },
  {
   "cell_type": "code",
   "execution_count": null,
   "id": "8c2dbca2-e990-4c02-a301-c52b87c32605",
   "metadata": {},
   "outputs": [],
   "source": [
    "k = missing_data(train_df[selected_feat[:].values])"
   ]
  },
  {
   "cell_type": "code",
   "execution_count": null,
   "id": "5ee440da-dc03-418a-a820-c8c799771bb9",
   "metadata": {},
   "outputs": [],
   "source": [
    "k"
   ]
  },
  {
   "cell_type": "code",
   "execution_count": null,
   "id": "53434268-cc33-4ba1-b3a2-532e34d854d1",
   "metadata": {},
   "outputs": [],
   "source": [
    "sel.estimator_.feature_importances_.ravel()"
   ]
  },
  {
   "cell_type": "code",
   "execution_count": null,
   "id": "519ee573-1639-42af-89cf-d09850985d33",
   "metadata": {},
   "outputs": [],
   "source": [
    "feats = {} # a dict to hold feature_name: feature_importance\n",
    "for feature, importance in zip(train_df[selected_feat[:].values], sel.estimator_.feature_importances_):\n",
    "    feats[feature] = importance #add the name/value pair \n",
    "\n",
    "importances = pd.DataFrame.from_dict(feats, orient='index').rename(columns={0: 'Gini-importance'})\n",
    "importances.sort_values( 'Gini-importance',ascending=False)\n",
    "\n"
   ]
  },
  {
   "cell_type": "code",
   "execution_count": null,
   "id": "6105a2d9-344b-400f-8655-b25bab99b1ce",
   "metadata": {},
   "outputs": [],
   "source": [
    "importances.sort_values( 'Gini-importance',ascending=False)"
   ]
  },
  {
   "cell_type": "code",
   "execution_count": null,
   "id": "2edc5536-7956-46c4-ae4d-6b419a9af4e8",
   "metadata": {},
   "outputs": [],
   "source": [
    "train_df.mode()"
   ]
  },
  {
   "cell_type": "code",
   "execution_count": null,
   "id": "90c5b952-7578-46a4-8590-2a2a094f4aac",
   "metadata": {},
   "outputs": [],
   "source": []
  }
 ],
 "metadata": {
  "kernelspec": {
   "display_name": "Python 3 (ipykernel)",
   "language": "python",
   "name": "python3"
  },
  "language_info": {
   "codemirror_mode": {
    "name": "ipython",
    "version": 3
   },
   "file_extension": ".py",
   "mimetype": "text/x-python",
   "name": "python",
   "nbconvert_exporter": "python",
   "pygments_lexer": "ipython3",
   "version": "3.9.7"
  },
  "toc": {
   "base_numbering": 1,
   "nav_menu": {},
   "number_sections": true,
   "sideBar": true,
   "skip_h1_title": false,
   "title_cell": "Table of Contents",
   "title_sidebar": "Contents",
   "toc_cell": false,
   "toc_position": {},
   "toc_section_display": true,
   "toc_window_display": false
  }
 },
 "nbformat": 4,
 "nbformat_minor": 5
}
